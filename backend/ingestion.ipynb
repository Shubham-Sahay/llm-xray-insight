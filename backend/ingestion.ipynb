{
  "cells": [
    {
      "cell_type": "markdown",
      "metadata": {
        "id": "3cgfqfQWLd5K"
      },
      "source": [
        "# Medical image retrieval\n",
        "Let's focus on building the absolut bare minimum to have something working. With medical focus we should def be able to impress some people.\n",
        "\n",
        "Proposal: Implement a super simple version of Retrieval-augmented Biomedical Visual Question Answering https://arxiv.org/abs/2303.00534\n",
        "\n",
        "Use case: Doctor uploads a 2D medical image and gets a text description.\n",
        "\n",
        "Technical approach (veeeery basic, Notebook-only):\n",
        "1. Get pairs of medical image + report\n",
        "2. Create image embedding via DINOv2\n",
        "3. Store image embedding in vector database (index, img_embed, text)\n",
        "4. When doctor provides new image, create new image embedding, select 1 nearest neighbour from vector db, return the corresponding text\n",
        "\n",
        "This would give us a very tiny core, hopefully working. Then, we grow it out, think: UI via streamlit, leverage text embeddings, better retrieval augmentation (e.g., 3 nearest neighbours -> summarize respective 3 text), include truelens for verification, etc\n",
        "\n",
        "\n",
        "TODO\n",
        "\n",
        "- [ ] Store 1 example image into vector DB by adding padding\n",
        "- [ ] Build streamlit UI\n",
        "- [ ] Get basic dataset of 50 images + report\n",
        "- [ ]"
      ]
    },
    {
      "cell_type": "markdown",
      "metadata": {
        "id": "gIM_juOMLd5M"
      },
      "source": [
        "## Setup\n",
        "\n",
        "### Install dependencies\n",
        "Let's install some of the dependencies for this notebook if we don't have them already"
      ]
    },
    {
      "cell_type": "code",
      "execution_count": null,
      "metadata": {
        "id": "lmflGg53Ld5M",
        "colab": {
          "base_uri": "https://localhost:8080/"
        },
        "outputId": "b8ca90d8-7cb1-4166-b005-a8f38ce6c494"
      },
      "outputs": [
        {
          "output_type": "stream",
          "name": "stdout",
          "text": [
            "\u001b[33mWARNING: The candidate selected for download or install is a yanked version: 'trulens-eval' candidate (version 0.15.1 at https://files.pythonhosted.org/packages/64/cf/76f6ea927193b05a7d3f4d50f938a2526db391e0ce097c2093cd0255e56a/trulens_eval-0.15.1-py3-none-any.whl (from https://pypi.org/simple/trulens-eval/) (requires-python:>=3.8,<3.12))\n",
            "Reason for being yanked: Unstable release\u001b[0m\u001b[33m\n",
            "\u001b[0m"
          ]
        }
      ],
      "source": [
        "! pip install trulens-eval==0.15.1 llama_index>=0.8.29post1 pinecone-client>=2.2.2 nltk>=3.8.1 html2text>=2020.1.16"
      ]
    },
    {
      "cell_type": "markdown",
      "metadata": {
        "id": "SvdaW8Z4Ld5N"
      },
      "source": [
        "### Add API keys\n",
        "For this quickstart, you will need Open AI and Huggingface keys"
      ]
    },
    {
      "cell_type": "code",
      "execution_count": 84,
      "metadata": {
        "id": "t2eE_IIELd5N"
      },
      "outputs": [],
      "source": [
        "import os\n",
        "os.environ[\"OPENAI_API_KEY\"] = \"\"\n",
        "os.environ[\"PINECONE_API_KEY\"] = \"\"\n",
        "os.environ[\"PINECONE_ENVIRONMENT\"] = \"gcp-starter\""
      ]
    },
    {
      "cell_type": "markdown",
      "metadata": {
        "id": "jWptj57GLd5O"
      },
      "source": [
        "### Import from LlamaIndex and TruLens"
      ]
    },
    {
      "cell_type": "code",
      "execution_count": null,
      "metadata": {
        "id": "dqUjs4FRLd5O",
        "colab": {
          "base_uri": "https://localhost:8080/"
        },
        "outputId": "fc055bb3-04e0-4656-94eb-e217e11cf457"
      },
      "outputs": [
        {
          "output_type": "stream",
          "name": "stderr",
          "text": [
            "/usr/local/lib/python3.10/dist-packages/pinecone/index.py:4: TqdmExperimentalWarning: Using `tqdm.autonotebook.tqdm` in notebook mode. Use `tqdm.tqdm` instead to force console mode (e.g. in jupyter console)\n",
            "  from tqdm.autonotebook import tqdm\n"
          ]
        },
        {
          "output_type": "stream",
          "name": "stdout",
          "text": [
            "🦑 Tru initialized with db url sqlite:///default.sqlite .\n",
            "🛑 Secret keys may be written to the database. See the `database_redact_keys` option of `Tru` to prevent this.\n"
          ]
        }
      ],
      "source": [
        "import pinecone\n",
        "import torch\n",
        "import numpy as np\n",
        "import torchvision.transforms as T\n",
        "from PIL import Image, UnidentifiedImageError\n",
        "import os\n",
        "from tqdm import tqdm\n",
        "from io import BytesIO\n",
        "from urllib.parse import urlparse\n",
        "import json\n",
        "import requests\n",
        "import cv2\n",
        "import time\n",
        "import hashlib\n",
        "from llama_index.storage.storage_context import StorageContext\n",
        "from llama_index.vector_stores import PineconeVectorStore\n",
        "from llama_index.llms import OpenAI\n",
        "from llama_index import (\n",
        "    VectorStoreIndex,\n",
        "    SimpleWebPageReader,\n",
        "    LLMPredictor,\n",
        "    ServiceContext\n",
        ")\n",
        "\n",
        "from trulens_eval import TruLlama, Feedback, Tru, feedback\n",
        "from trulens_eval.feedback import GroundTruthAgreement, Groundedness\n",
        "from pathlib import Path\n",
        "\n",
        "tru = Tru()\n"
      ]
    },
    {
      "cell_type": "markdown",
      "metadata": {
        "id": "xOBbg-DsLd5O"
      },
      "source": [
        "### First we need to load documents. We can use SimpleWebPageReader"
      ]
    },
    {
      "cell_type": "markdown",
      "metadata": {
        "id": "rbdM13VMLd5P"
      },
      "source": [
        "Next we can create the vector store in pinecone."
      ]
    },
    {
      "cell_type": "code",
      "execution_count": null,
      "metadata": {
        "id": "AdL-XYzSLd5P"
      },
      "outputs": [],
      "source": []
    },
    {
      "cell_type": "code",
      "execution_count": null,
      "metadata": {
        "id": "wXlnM-9LLd5P",
        "colab": {
          "base_uri": "https://localhost:8080/",
          "height": 524
        },
        "outputId": "9869d450-bba1-4bc9-a7e1-1310facbc2ba"
      },
      "outputs": [
        {
          "output_type": "error",
          "ename": "ApiException",
          "evalue": "ignored",
          "traceback": [
            "\u001b[0;31m---------------------------------------------------------------------------\u001b[0m",
            "\u001b[0;31mApiException\u001b[0m                              Traceback (most recent call last)",
            "\u001b[0;32m<ipython-input-6-89a18ded22c4>\u001b[0m in \u001b[0;36m<cell line: 12>\u001b[0;34m()\u001b[0m\n\u001b[1;32m     10\u001b[0m \u001b[0;34m\u001b[0m\u001b[0m\n\u001b[1;32m     11\u001b[0m \u001b[0;31m# create the index\u001b[0m\u001b[0;34m\u001b[0m\u001b[0;34m\u001b[0m\u001b[0m\n\u001b[0;32m---> 12\u001b[0;31m pinecone.create_index(\n\u001b[0m\u001b[1;32m     13\u001b[0m         \u001b[0mname\u001b[0m\u001b[0;34m=\u001b[0m\u001b[0mindex_name\u001b[0m\u001b[0;34m,\u001b[0m\u001b[0;34m\u001b[0m\u001b[0;34m\u001b[0m\u001b[0m\n\u001b[1;32m     14\u001b[0m         \u001b[0mdimension\u001b[0m\u001b[0;34m=\u001b[0m\u001b[0;36m512\u001b[0m\u001b[0;34m\u001b[0m\u001b[0;34m\u001b[0m\u001b[0m\n",
            "\u001b[0;32m/usr/local/lib/python3.10/dist-packages/pinecone/manage.py\u001b[0m in \u001b[0;36mcreate_index\u001b[0;34m(name, dimension, timeout, index_type, metric, replicas, shards, pods, pod_type, index_config, metadata_config, source_collection)\u001b[0m\n\u001b[1;32m    116\u001b[0m     \u001b[0mapi_instance\u001b[0m \u001b[0;34m=\u001b[0m \u001b[0m_get_api_instance\u001b[0m\u001b[0;34m(\u001b[0m\u001b[0;34m)\u001b[0m\u001b[0;34m\u001b[0m\u001b[0;34m\u001b[0m\u001b[0m\n\u001b[1;32m    117\u001b[0m \u001b[0;34m\u001b[0m\u001b[0m\n\u001b[0;32m--> 118\u001b[0;31m     api_instance.create_index(create_request=CreateRequest(\n\u001b[0m\u001b[1;32m    119\u001b[0m         \u001b[0mname\u001b[0m\u001b[0;34m=\u001b[0m\u001b[0mname\u001b[0m\u001b[0;34m,\u001b[0m\u001b[0;34m\u001b[0m\u001b[0;34m\u001b[0m\u001b[0m\n\u001b[1;32m    120\u001b[0m         \u001b[0mdimension\u001b[0m\u001b[0;34m=\u001b[0m\u001b[0mdimension\u001b[0m\u001b[0;34m,\u001b[0m\u001b[0;34m\u001b[0m\u001b[0;34m\u001b[0m\u001b[0m\n",
            "\u001b[0;32m/usr/local/lib/python3.10/dist-packages/pinecone/core/client/api_client.py\u001b[0m in \u001b[0;36m__call__\u001b[0;34m(self, *args, **kwargs)\u001b[0m\n\u001b[1;32m    774\u001b[0m \u001b[0;34m\u001b[0m\u001b[0m\n\u001b[1;32m    775\u001b[0m         \"\"\"\n\u001b[0;32m--> 776\u001b[0;31m         \u001b[0;32mreturn\u001b[0m \u001b[0mself\u001b[0m\u001b[0;34m.\u001b[0m\u001b[0mcallable\u001b[0m\u001b[0;34m(\u001b[0m\u001b[0mself\u001b[0m\u001b[0;34m,\u001b[0m \u001b[0;34m*\u001b[0m\u001b[0margs\u001b[0m\u001b[0;34m,\u001b[0m \u001b[0;34m**\u001b[0m\u001b[0mkwargs\u001b[0m\u001b[0;34m)\u001b[0m\u001b[0;34m\u001b[0m\u001b[0;34m\u001b[0m\u001b[0m\n\u001b[0m\u001b[1;32m    777\u001b[0m \u001b[0;34m\u001b[0m\u001b[0m\n\u001b[1;32m    778\u001b[0m     \u001b[0;32mdef\u001b[0m \u001b[0mcall_with_http_info\u001b[0m\u001b[0;34m(\u001b[0m\u001b[0mself\u001b[0m\u001b[0;34m,\u001b[0m \u001b[0;34m**\u001b[0m\u001b[0mkwargs\u001b[0m\u001b[0;34m)\u001b[0m\u001b[0;34m:\u001b[0m\u001b[0;34m\u001b[0m\u001b[0;34m\u001b[0m\u001b[0m\n",
            "\u001b[0;32m/usr/local/lib/python3.10/dist-packages/pinecone/core/client/api/index_operations_api.py\u001b[0m in \u001b[0;36m__create_index\u001b[0;34m(self, **kwargs)\u001b[0m\n\u001b[1;32m    366\u001b[0m             )\n\u001b[1;32m    367\u001b[0m             \u001b[0mkwargs\u001b[0m\u001b[0;34m[\u001b[0m\u001b[0;34m'_host_index'\u001b[0m\u001b[0;34m]\u001b[0m \u001b[0;34m=\u001b[0m \u001b[0mkwargs\u001b[0m\u001b[0;34m.\u001b[0m\u001b[0mget\u001b[0m\u001b[0;34m(\u001b[0m\u001b[0;34m'_host_index'\u001b[0m\u001b[0;34m)\u001b[0m\u001b[0;34m\u001b[0m\u001b[0;34m\u001b[0m\u001b[0m\n\u001b[0;32m--> 368\u001b[0;31m             \u001b[0;32mreturn\u001b[0m \u001b[0mself\u001b[0m\u001b[0;34m.\u001b[0m\u001b[0mcall_with_http_info\u001b[0m\u001b[0;34m(\u001b[0m\u001b[0;34m**\u001b[0m\u001b[0mkwargs\u001b[0m\u001b[0;34m)\u001b[0m\u001b[0;34m\u001b[0m\u001b[0;34m\u001b[0m\u001b[0m\n\u001b[0m\u001b[1;32m    369\u001b[0m \u001b[0;34m\u001b[0m\u001b[0m\n\u001b[1;32m    370\u001b[0m         self.create_index = _Endpoint(\n",
            "\u001b[0;32m/usr/local/lib/python3.10/dist-packages/pinecone/core/client/api_client.py\u001b[0m in \u001b[0;36mcall_with_http_info\u001b[0;34m(self, **kwargs)\u001b[0m\n\u001b[1;32m    836\u001b[0m             \u001b[0mparams\u001b[0m\u001b[0;34m[\u001b[0m\u001b[0;34m'header'\u001b[0m\u001b[0;34m]\u001b[0m\u001b[0;34m[\u001b[0m\u001b[0;34m'Content-Type'\u001b[0m\u001b[0;34m]\u001b[0m \u001b[0;34m=\u001b[0m \u001b[0mheader_list\u001b[0m\u001b[0;34m\u001b[0m\u001b[0;34m\u001b[0m\u001b[0m\n\u001b[1;32m    837\u001b[0m \u001b[0;34m\u001b[0m\u001b[0m\n\u001b[0;32m--> 838\u001b[0;31m         return self.api_client.call_api(\n\u001b[0m\u001b[1;32m    839\u001b[0m             \u001b[0mself\u001b[0m\u001b[0;34m.\u001b[0m\u001b[0msettings\u001b[0m\u001b[0;34m[\u001b[0m\u001b[0;34m'endpoint_path'\u001b[0m\u001b[0;34m]\u001b[0m\u001b[0;34m,\u001b[0m \u001b[0mself\u001b[0m\u001b[0;34m.\u001b[0m\u001b[0msettings\u001b[0m\u001b[0;34m[\u001b[0m\u001b[0;34m'http_method'\u001b[0m\u001b[0;34m]\u001b[0m\u001b[0;34m,\u001b[0m\u001b[0;34m\u001b[0m\u001b[0;34m\u001b[0m\u001b[0m\n\u001b[1;32m    840\u001b[0m             \u001b[0mparams\u001b[0m\u001b[0;34m[\u001b[0m\u001b[0;34m'path'\u001b[0m\u001b[0;34m]\u001b[0m\u001b[0;34m,\u001b[0m\u001b[0;34m\u001b[0m\u001b[0;34m\u001b[0m\u001b[0m\n",
            "\u001b[0;32m/usr/local/lib/python3.10/dist-packages/pinecone/core/client/api_client.py\u001b[0m in \u001b[0;36mcall_api\u001b[0;34m(self, resource_path, method, path_params, query_params, header_params, body, post_params, files, response_type, auth_settings, async_req, _return_http_data_only, collection_formats, _preload_content, _request_timeout, _host, _check_type)\u001b[0m\n\u001b[1;32m    411\u001b[0m         \"\"\"\n\u001b[1;32m    412\u001b[0m         \u001b[0;32mif\u001b[0m \u001b[0;32mnot\u001b[0m \u001b[0masync_req\u001b[0m\u001b[0;34m:\u001b[0m\u001b[0;34m\u001b[0m\u001b[0;34m\u001b[0m\u001b[0m\n\u001b[0;32m--> 413\u001b[0;31m             return self.__call_api(resource_path, method,\n\u001b[0m\u001b[1;32m    414\u001b[0m                                    \u001b[0mpath_params\u001b[0m\u001b[0;34m,\u001b[0m \u001b[0mquery_params\u001b[0m\u001b[0;34m,\u001b[0m \u001b[0mheader_params\u001b[0m\u001b[0;34m,\u001b[0m\u001b[0;34m\u001b[0m\u001b[0;34m\u001b[0m\u001b[0m\n\u001b[1;32m    415\u001b[0m                                    \u001b[0mbody\u001b[0m\u001b[0;34m,\u001b[0m \u001b[0mpost_params\u001b[0m\u001b[0;34m,\u001b[0m \u001b[0mfiles\u001b[0m\u001b[0;34m,\u001b[0m\u001b[0;34m\u001b[0m\u001b[0;34m\u001b[0m\u001b[0m\n",
            "\u001b[0;32m/usr/local/lib/python3.10/dist-packages/pinecone/core/client/api_client.py\u001b[0m in \u001b[0;36m__call_api\u001b[0;34m(self, resource_path, method, path_params, query_params, header_params, body, post_params, files, response_type, auth_settings, _return_http_data_only, collection_formats, _preload_content, _request_timeout, _host, _check_type)\u001b[0m\n\u001b[1;32m    205\u001b[0m         \u001b[0;32mexcept\u001b[0m \u001b[0mApiException\u001b[0m \u001b[0;32mas\u001b[0m \u001b[0me\u001b[0m\u001b[0;34m:\u001b[0m\u001b[0;34m\u001b[0m\u001b[0;34m\u001b[0m\u001b[0m\n\u001b[1;32m    206\u001b[0m             \u001b[0me\u001b[0m\u001b[0;34m.\u001b[0m\u001b[0mbody\u001b[0m \u001b[0;34m=\u001b[0m \u001b[0me\u001b[0m\u001b[0;34m.\u001b[0m\u001b[0mbody\u001b[0m\u001b[0;34m.\u001b[0m\u001b[0mdecode\u001b[0m\u001b[0;34m(\u001b[0m\u001b[0;34m'utf-8'\u001b[0m\u001b[0;34m)\u001b[0m\u001b[0;34m\u001b[0m\u001b[0;34m\u001b[0m\u001b[0m\n\u001b[0;32m--> 207\u001b[0;31m             \u001b[0;32mraise\u001b[0m \u001b[0me\u001b[0m\u001b[0;34m\u001b[0m\u001b[0;34m\u001b[0m\u001b[0m\n\u001b[0m\u001b[1;32m    208\u001b[0m \u001b[0;34m\u001b[0m\u001b[0m\n\u001b[1;32m    209\u001b[0m         \u001b[0mself\u001b[0m\u001b[0;34m.\u001b[0m\u001b[0mlast_response\u001b[0m \u001b[0;34m=\u001b[0m \u001b[0mresponse_data\u001b[0m\u001b[0;34m\u001b[0m\u001b[0;34m\u001b[0m\u001b[0m\n",
            "\u001b[0;32m/usr/local/lib/python3.10/dist-packages/pinecone/core/client/api_client.py\u001b[0m in \u001b[0;36m__call_api\u001b[0;34m(self, resource_path, method, path_params, query_params, header_params, body, post_params, files, response_type, auth_settings, _return_http_data_only, collection_formats, _preload_content, _request_timeout, _host, _check_type)\u001b[0m\n\u001b[1;32m    198\u001b[0m         \u001b[0;32mtry\u001b[0m\u001b[0;34m:\u001b[0m\u001b[0;34m\u001b[0m\u001b[0;34m\u001b[0m\u001b[0m\n\u001b[1;32m    199\u001b[0m             \u001b[0;31m# perform request and return response\u001b[0m\u001b[0;34m\u001b[0m\u001b[0;34m\u001b[0m\u001b[0m\n\u001b[0;32m--> 200\u001b[0;31m             response_data = self.request(\n\u001b[0m\u001b[1;32m    201\u001b[0m                 \u001b[0mmethod\u001b[0m\u001b[0;34m,\u001b[0m \u001b[0murl\u001b[0m\u001b[0;34m,\u001b[0m \u001b[0mquery_params\u001b[0m\u001b[0;34m=\u001b[0m\u001b[0mquery_params\u001b[0m\u001b[0;34m,\u001b[0m \u001b[0mheaders\u001b[0m\u001b[0;34m=\u001b[0m\u001b[0mheader_params\u001b[0m\u001b[0;34m,\u001b[0m\u001b[0;34m\u001b[0m\u001b[0;34m\u001b[0m\u001b[0m\n\u001b[1;32m    202\u001b[0m                 \u001b[0mpost_params\u001b[0m\u001b[0;34m=\u001b[0m\u001b[0mpost_params\u001b[0m\u001b[0;34m,\u001b[0m \u001b[0mbody\u001b[0m\u001b[0;34m=\u001b[0m\u001b[0mbody\u001b[0m\u001b[0;34m,\u001b[0m\u001b[0;34m\u001b[0m\u001b[0;34m\u001b[0m\u001b[0m\n",
            "\u001b[0;32m/usr/local/lib/python3.10/dist-packages/pinecone/core/client/api_client.py\u001b[0m in \u001b[0;36mrequest\u001b[0;34m(self, method, url, query_params, headers, post_params, body, _preload_content, _request_timeout)\u001b[0m\n\u001b[1;32m    457\u001b[0m                                             body=body)\n\u001b[1;32m    458\u001b[0m         \u001b[0;32melif\u001b[0m \u001b[0mmethod\u001b[0m \u001b[0;34m==\u001b[0m \u001b[0;34m\"POST\"\u001b[0m\u001b[0;34m:\u001b[0m\u001b[0;34m\u001b[0m\u001b[0;34m\u001b[0m\u001b[0m\n\u001b[0;32m--> 459\u001b[0;31m             return self.rest_client.POST(url,\n\u001b[0m\u001b[1;32m    460\u001b[0m                                          \u001b[0mquery_params\u001b[0m\u001b[0;34m=\u001b[0m\u001b[0mquery_params\u001b[0m\u001b[0;34m,\u001b[0m\u001b[0;34m\u001b[0m\u001b[0;34m\u001b[0m\u001b[0m\n\u001b[1;32m    461\u001b[0m                                          \u001b[0mheaders\u001b[0m\u001b[0;34m=\u001b[0m\u001b[0mheaders\u001b[0m\u001b[0;34m,\u001b[0m\u001b[0;34m\u001b[0m\u001b[0;34m\u001b[0m\u001b[0m\n",
            "\u001b[0;32m/usr/local/lib/python3.10/dist-packages/pinecone/core/client/rest.py\u001b[0m in \u001b[0;36mPOST\u001b[0;34m(self, url, headers, query_params, post_params, body, _preload_content, _request_timeout)\u001b[0m\n\u001b[1;32m    269\u001b[0m     def POST(self, url, headers=None, query_params=None, post_params=None,\n\u001b[1;32m    270\u001b[0m              body=None, _preload_content=True, _request_timeout=None):\n\u001b[0;32m--> 271\u001b[0;31m         return self.request(\"POST\", url,\n\u001b[0m\u001b[1;32m    272\u001b[0m                             \u001b[0mheaders\u001b[0m\u001b[0;34m=\u001b[0m\u001b[0mheaders\u001b[0m\u001b[0;34m,\u001b[0m\u001b[0;34m\u001b[0m\u001b[0;34m\u001b[0m\u001b[0m\n\u001b[1;32m    273\u001b[0m                             \u001b[0mquery_params\u001b[0m\u001b[0;34m=\u001b[0m\u001b[0mquery_params\u001b[0m\u001b[0;34m,\u001b[0m\u001b[0;34m\u001b[0m\u001b[0;34m\u001b[0m\u001b[0m\n",
            "\u001b[0;32m/usr/local/lib/python3.10/dist-packages/pinecone/core/client/rest.py\u001b[0m in \u001b[0;36mrequest\u001b[0;34m(self, method, url, query_params, headers, body, post_params, _preload_content, _request_timeout)\u001b[0m\n\u001b[1;32m    228\u001b[0m                 \u001b[0;32mraise\u001b[0m \u001b[0mServiceException\u001b[0m\u001b[0;34m(\u001b[0m\u001b[0mhttp_resp\u001b[0m\u001b[0;34m=\u001b[0m\u001b[0mr\u001b[0m\u001b[0;34m)\u001b[0m\u001b[0;34m\u001b[0m\u001b[0;34m\u001b[0m\u001b[0m\n\u001b[1;32m    229\u001b[0m \u001b[0;34m\u001b[0m\u001b[0m\n\u001b[0;32m--> 230\u001b[0;31m             \u001b[0;32mraise\u001b[0m \u001b[0mApiException\u001b[0m\u001b[0;34m(\u001b[0m\u001b[0mhttp_resp\u001b[0m\u001b[0;34m=\u001b[0m\u001b[0mr\u001b[0m\u001b[0;34m)\u001b[0m\u001b[0;34m\u001b[0m\u001b[0;34m\u001b[0m\u001b[0m\n\u001b[0m\u001b[1;32m    231\u001b[0m \u001b[0;34m\u001b[0m\u001b[0m\n\u001b[1;32m    232\u001b[0m         \u001b[0;32mreturn\u001b[0m \u001b[0mr\u001b[0m\u001b[0;34m\u001b[0m\u001b[0;34m\u001b[0m\u001b[0m\n",
            "\u001b[0;31mApiException\u001b[0m: (400)\nReason: Bad Request\nHTTP response headers: HTTPHeaderDict({'content-type': 'text/plain; charset=utf-8', 'Content-Length': '140', 'date': 'Sun, 08 Oct 2023 02:30:08 GMT', 'x-envoy-upstream-service-time': '3', 'server': 'envoy', 'Via': '1.1 google', 'Alt-Svc': 'h3=\":443\"; ma=2592000,h3-29=\":443\"; ma=2592000'})\nHTTP response body: Capacity Reached. Starter Projects support a single index. Create a new project to add more. Your Starter Project remains free post-upgrade.\n"
          ]
        }
      ],
      "source": [
        "index_name = \"medical-images\"\n",
        "\n",
        "PINECONE_API_KEY = os.getenv('PINECONE_API_KEY')\n",
        "PINECONE_ENVIRONMENT = os.getenv('PINECONE_ENVIRONMENT')\n",
        "\n",
        "pinecone.init(\n",
        "    api_key=PINECONE_API_KEY,\n",
        "    environment=PINECONE_ENVIRONMENT\n",
        ")\n",
        "\n",
        "# create the index\n",
        "pinecone.create_index(\n",
        "        name=index_name,\n",
        "        dimension=512\n",
        "    )\n",
        "\n",
        "# set vector store as pinecone\n",
        "vector_store = PineconeVectorStore(\n",
        "        index_name=index_name,\n",
        "        environment=os.environ[\"PINECONE_ENVIRONMENT\"]\n",
        "    )\n",
        "\n",
        "index = pinecone.Index(index_name)\n",
        "index"
      ]
    },
    {
      "cell_type": "markdown",
      "source": [
        "# Download crawled iamges"
      ],
      "metadata": {
        "id": "DoAASt3BQ1bE"
      }
    },
    {
      "cell_type": "code",
      "source": [
        "def read_json_line_by_line(file_path):\n",
        "    parsed_data = []\n",
        "    with open(file_path, 'r') as f:\n",
        "        for line in f:\n",
        "            parsed_line = json.loads(line.strip())\n",
        "            parsed_data.append(parsed_line)\n",
        "    return parsed_data\n",
        "\n",
        "def download_image(url):\n",
        "  image_name = os.path.basename(urlparse(url).path)\n",
        "  response = requests.get(url, stream=True)\n",
        "\n",
        "  if response.status_code == 200:\n",
        "    # Create the full file path\n",
        "    full_path = os.path.join('/content/img', image_name)\n",
        "\n",
        "    # Write the contents of the response to a file\n",
        "    with open(full_path, 'wb') as file:\n",
        "        for chunk in response.iter_content(chunk_size=128):\n",
        "            file.write(chunk)\n",
        "\n",
        "  elif response.status_code == 429:  # Wait and try again when Too many requests...\n",
        "    time.sleep(10)\n",
        "    download_image(url)\n",
        "  else:\n",
        "      print(f\"Unable to download image. HTTP response code: {response.status_code}\")\n",
        "\n",
        "file_path = '/content/result_page_1-3.json'\n",
        "raw_data = read_json_line_by_line(file_path)\n",
        "\n",
        "for image_case in tqdm(raw_data, desc=\"Downloading images\"):\n",
        "  url = image_case[\"image_download_url\"]\n",
        "  download_image(url)"
      ],
      "metadata": {
        "colab": {
          "base_uri": "https://localhost:8080/"
        },
        "id": "Ry4S9-ypQ038",
        "outputId": "7a182fe4-d36e-4217-ff96-801242ac77de"
      },
      "execution_count": null,
      "outputs": [
        {
          "output_type": "stream",
          "name": "stderr",
          "text": [
            "Downloading images:   9%|▉         | 25/272 [00:20<03:37,  1.14it/s]"
          ]
        },
        {
          "output_type": "stream",
          "name": "stdout",
          "text": [
            "Unable to download image. HTTP response code: 403\n"
          ]
        },
        {
          "output_type": "stream",
          "name": "stderr",
          "text": [
            "Downloading images:  14%|█▍        | 39/272 [00:30<02:45,  1.41it/s]"
          ]
        },
        {
          "output_type": "stream",
          "name": "stdout",
          "text": [
            "Unable to download image. HTTP response code: 403\n"
          ]
        },
        {
          "output_type": "stream",
          "name": "stderr",
          "text": [
            "Downloading images:  26%|██▌       | 70/272 [00:53<02:28,  1.36it/s]"
          ]
        },
        {
          "output_type": "stream",
          "name": "stdout",
          "text": [
            "Unable to download image. HTTP response code: 403\n"
          ]
        },
        {
          "output_type": "stream",
          "name": "stderr",
          "text": [
            "Downloading images:  96%|█████████▌| 261/272 [03:33<00:06,  1.65it/s]"
          ]
        },
        {
          "output_type": "stream",
          "name": "stdout",
          "text": [
            "Unable to download image. HTTP response code: 403\n"
          ]
        },
        {
          "output_type": "stream",
          "name": "stderr",
          "text": [
            "Downloading images: 100%|██████████| 272/272 [03:42<00:00,  1.22it/s]\n"
          ]
        }
      ]
    },
    {
      "cell_type": "markdown",
      "source": [
        "# AI"
      ],
      "metadata": {
        "id": "AY4pQi_FQ5jp"
      }
    },
    {
      "cell_type": "code",
      "source": [
        "index = pinecone.Index(index_name)\n",
        "index"
      ],
      "metadata": {
        "colab": {
          "base_uri": "https://localhost:8080/"
        },
        "id": "VO-lFhoZw4Km",
        "outputId": "516478bd-d94a-44ce-ab5d-f51c5efc0d14"
      },
      "execution_count": null,
      "outputs": [
        {
          "output_type": "execute_result",
          "data": {
            "text/plain": [
              "<pinecone.index.Index at 0x7ef6fd0335e0>"
            ]
          },
          "metadata": {},
          "execution_count": 7
        }
      ]
    },
    {
      "cell_type": "code",
      "source": [
        "dinov2_vits14 = torch.hub.load(\"facebookresearch/dinov2\", \"dinov2_vits14\")\n",
        "device = torch.device(\"cuda\" if torch.cuda.is_available() else \"cpu\")\n",
        "dinov2_vits14.to(device)\n",
        "\n",
        "transform_image = T.Compose([T.ToTensor(),\n",
        "                             T.Resize(224),\n",
        "                             T.CenterCrop(224),\n",
        "                             T.Normalize([0.5], [0.5])])"
      ],
      "metadata": {
        "colab": {
          "base_uri": "https://localhost:8080/"
        },
        "id": "T9UjCBZz2Fl2",
        "outputId": "18c89061-8d9e-4e07-8cf1-d26990e6c22b"
      },
      "execution_count": null,
      "outputs": [
        {
          "output_type": "stream",
          "name": "stderr",
          "text": [
            "Downloading: \"https://github.com/facebookresearch/dinov2/zipball/main\" to /root/.cache/torch/hub/main.zip\n",
            "/root/.cache/torch/hub/facebookresearch_dinov2_main/dinov2/layers/swiglu_ffn.py:51: UserWarning: xFormers is not available (SwiGLU)\n",
            "  warnings.warn(\"xFormers is not available (SwiGLU)\")\n",
            "/root/.cache/torch/hub/facebookresearch_dinov2_main/dinov2/layers/attention.py:33: UserWarning: xFormers is not available (Attention)\n",
            "  warnings.warn(\"xFormers is not available (Attention)\")\n",
            "/root/.cache/torch/hub/facebookresearch_dinov2_main/dinov2/layers/block.py:40: UserWarning: xFormers is not available (Block)\n",
            "  warnings.warn(\"xFormers is not available (Block)\")\n",
            "Downloading: \"https://dl.fbaipublicfiles.com/dinov2/dinov2_vits14/dinov2_vits14_pretrain.pth\" to /root/.cache/torch/hub/checkpoints/dinov2_vits14_pretrain.pth\n",
            "100%|██████████| 84.2M/84.2M [00:00<00:00, 168MB/s]\n"
          ]
        }
      ]
    },
    {
      "cell_type": "code",
      "source": [
        "def compute_embedding(img) -> dict:\n",
        "    \"\"\"\n",
        "    Create an index that contains all of the images in the specified list of files.\n",
        "    \"\"\"\n",
        "    with torch.no_grad():\n",
        "            embedding = dinov2_vits14(load_image(img).to(device))\n",
        "            embeddings_numpy = np.array(embedding[0].cpu().numpy()).reshape(1, -1)\n",
        "            padded_embedding = pad_embedding(embeddings_numpy)\n",
        "\n",
        "    return padded_embedding\n",
        "\n",
        "def pad_embedding(embedding: np.ndarray, target_dim: int = 512) -> np.ndarray:\n",
        "    \"\"\"\n",
        "    Pad the given embedding with zeros to match the target dimension.\n",
        "    \"\"\"\n",
        "    original_dim = embedding.shape[1]\n",
        "    padding_dim = target_dim - original_dim\n",
        "\n",
        "    if padding_dim > 0:\n",
        "        padding = np.zeros((1, padding_dim))\n",
        "        padded_embedding = np.hstack([embedding, padding])\n",
        "    else:\n",
        "        padded_embedding = embedding\n",
        "\n",
        "    return padded_embedding\n",
        "\n",
        "\n",
        "def img_to_vector_db(img, report, download_path):\n",
        "  embedding = compute_embedding(img)\n",
        "  unique_id = hash_file(download_path)\n",
        "  single_vector = {\n",
        "      'id': unique_id,\n",
        "      'values': embedding.flatten().tolist(),\n",
        "      'metadata': {'report': report, 'download_path': download_path}\n",
        "  }\n",
        "  upsert_response = index.upsert(vectors=[single_vector])\n",
        "  print(f\"Inserted {unique_id} to {index}\")\n",
        "\n",
        "def hash_file(image_path: str) -> str:\n",
        "    \"\"\"\n",
        "    Hash the filename to create a unique ID.\n",
        "    \"\"\"\n",
        "    filename = image_path.split(\"/\")[-1]\n",
        "    unique_id = hashlib.sha256(filename.encode()).hexdigest()[0:6]\n",
        "    return unique_id\n",
        "\n",
        "def read_json_line_by_line(file_path):\n",
        "    parsed_data = []\n",
        "    with open(file_path, 'r') as f:\n",
        "        for line in f:\n",
        "            parsed_line = json.loads(line.strip())\n",
        "            parsed_data.append(parsed_line)\n",
        "    return parsed_data\n",
        "\n",
        "def download_image(url):\n",
        "    response = requests.get(url)\n",
        "    img = Image.open(BytesIO(response.content)).convert(\"RGB\")\n",
        "    return img\n",
        "\n",
        "def load_image(image: Image) -> torch.Tensor:\n",
        "  \"\"\"\n",
        "  Load a DICOM dataset and return a tensor that can be used as an input to DINOv2.\n",
        "  \"\"\"\n",
        "  return transform_image(image)[:3].unsqueeze(0)\n",
        "\n",
        "\n",
        "def create_report(raw_data: dict):\n",
        "  return raw_data['title'] + '. ' + ' '.join(line['text'] for line in raw_data['finding_lines'])"
      ],
      "metadata": {
        "id": "Xu8iz0mb3hAA"
      },
      "execution_count": 80,
      "outputs": []
    },
    {
      "cell_type": "code",
      "source": [
        "file_path = '/content/result_page_1-14.json'\n",
        "raw_data = read_json_line_by_line(file_path)"
      ],
      "metadata": {
        "id": "x4a0SHvCCtk2"
      },
      "execution_count": 81,
      "outputs": []
    },
    {
      "cell_type": "code",
      "source": [
        "for image_case in tqdm(raw_data, desc=\"Processing images\"):\n",
        "    try:\n",
        "        report = create_report(image_case)\n",
        "        download_path = image_case[\"image_download_url\"]\n",
        "        image = download_image(download_path)\n",
        "        img_to_vector_db(img=image, report=report, download_path=download_path)\n",
        "    except UnidentifiedImageError:\n",
        "        print(f\"Skipping faulty image from URL: {download_path}\")\n",
        "        continue"
      ],
      "metadata": {
        "colab": {
          "base_uri": "https://localhost:8080/",
          "height": 1000
        },
        "id": "lYWPNANgMwBu",
        "outputId": "dff9f942-48f8-4860-89ab-a38bcbc98a1a"
      },
      "execution_count": 82,
      "outputs": [
        {
          "output_type": "stream",
          "name": "stderr",
          "text": [
            "Processing images:   0%|          | 1/1278 [00:00<14:54,  1.43it/s]"
          ]
        },
        {
          "output_type": "stream",
          "name": "stdout",
          "text": [
            "Inserted d150d0 to <pinecone.index.Index object at 0x7ef6fd0335e0>\n"
          ]
        },
        {
          "output_type": "stream",
          "name": "stderr",
          "text": [
            "\rProcessing images:   0%|          | 2/1278 [00:01<11:53,  1.79it/s]"
          ]
        },
        {
          "output_type": "stream",
          "name": "stdout",
          "text": [
            "Inserted 63fe47 to <pinecone.index.Index object at 0x7ef6fd0335e0>\n"
          ]
        },
        {
          "output_type": "stream",
          "name": "stderr",
          "text": [
            "\rProcessing images:   0%|          | 3/1278 [00:02<15:34,  1.36it/s]"
          ]
        },
        {
          "output_type": "stream",
          "name": "stdout",
          "text": [
            "Inserted e92a78 to <pinecone.index.Index object at 0x7ef6fd0335e0>\n"
          ]
        },
        {
          "output_type": "stream",
          "name": "stderr",
          "text": [
            "\rProcessing images:   0%|          | 4/1278 [00:02<13:02,  1.63it/s]"
          ]
        },
        {
          "output_type": "stream",
          "name": "stdout",
          "text": [
            "Inserted f37031 to <pinecone.index.Index object at 0x7ef6fd0335e0>\n"
          ]
        },
        {
          "output_type": "stream",
          "name": "stderr",
          "text": [
            "\rProcessing images:   0%|          | 5/1278 [00:03<13:34,  1.56it/s]"
          ]
        },
        {
          "output_type": "stream",
          "name": "stdout",
          "text": [
            "Inserted c36efb to <pinecone.index.Index object at 0x7ef6fd0335e0>\n"
          ]
        },
        {
          "output_type": "stream",
          "name": "stderr",
          "text": [
            "\rProcessing images:   0%|          | 6/1278 [00:03<12:30,  1.69it/s]"
          ]
        },
        {
          "output_type": "stream",
          "name": "stdout",
          "text": [
            "Inserted a2b9c1 to <pinecone.index.Index object at 0x7ef6fd0335e0>\n"
          ]
        },
        {
          "output_type": "stream",
          "name": "stderr",
          "text": [
            "\rProcessing images:   1%|          | 7/1278 [00:04<11:55,  1.78it/s]"
          ]
        },
        {
          "output_type": "stream",
          "name": "stdout",
          "text": [
            "Inserted f7f271 to <pinecone.index.Index object at 0x7ef6fd0335e0>\n"
          ]
        },
        {
          "output_type": "stream",
          "name": "stderr",
          "text": [
            "\rProcessing images:   1%|          | 8/1278 [00:04<12:39,  1.67it/s]"
          ]
        },
        {
          "output_type": "stream",
          "name": "stdout",
          "text": [
            "Inserted 0f37cd to <pinecone.index.Index object at 0x7ef6fd0335e0>\n"
          ]
        },
        {
          "output_type": "stream",
          "name": "stderr",
          "text": [
            "\rProcessing images:   1%|          | 9/1278 [00:05<13:02,  1.62it/s]"
          ]
        },
        {
          "output_type": "stream",
          "name": "stdout",
          "text": [
            "Inserted 1e75b0 to <pinecone.index.Index object at 0x7ef6fd0335e0>\n"
          ]
        },
        {
          "output_type": "stream",
          "name": "stderr",
          "text": [
            "\rProcessing images:   1%|          | 10/1278 [00:06<13:44,  1.54it/s]"
          ]
        },
        {
          "output_type": "stream",
          "name": "stdout",
          "text": [
            "Inserted ea5a70 to <pinecone.index.Index object at 0x7ef6fd0335e0>\n"
          ]
        },
        {
          "output_type": "stream",
          "name": "stderr",
          "text": [
            "\rProcessing images:   1%|          | 11/1278 [00:07<15:30,  1.36it/s]"
          ]
        },
        {
          "output_type": "stream",
          "name": "stdout",
          "text": [
            "Inserted 493ba5 to <pinecone.index.Index object at 0x7ef6fd0335e0>\n"
          ]
        },
        {
          "output_type": "stream",
          "name": "stderr",
          "text": [
            "\rProcessing images:   1%|          | 12/1278 [00:07<14:50,  1.42it/s]"
          ]
        },
        {
          "output_type": "stream",
          "name": "stdout",
          "text": [
            "Inserted 3e981a to <pinecone.index.Index object at 0x7ef6fd0335e0>\n"
          ]
        },
        {
          "output_type": "stream",
          "name": "stderr",
          "text": [
            "\rProcessing images:   1%|          | 13/1278 [00:08<15:22,  1.37it/s]"
          ]
        },
        {
          "output_type": "stream",
          "name": "stdout",
          "text": [
            "Inserted 6f62b9 to <pinecone.index.Index object at 0x7ef6fd0335e0>\n"
          ]
        },
        {
          "output_type": "stream",
          "name": "stderr",
          "text": [
            "\rProcessing images:   1%|          | 14/1278 [00:09<14:57,  1.41it/s]"
          ]
        },
        {
          "output_type": "stream",
          "name": "stdout",
          "text": [
            "Inserted bdb579 to <pinecone.index.Index object at 0x7ef6fd0335e0>\n"
          ]
        },
        {
          "output_type": "stream",
          "name": "stderr",
          "text": [
            "\rProcessing images:   1%|          | 15/1278 [00:09<13:44,  1.53it/s]"
          ]
        },
        {
          "output_type": "stream",
          "name": "stdout",
          "text": [
            "Inserted 2096dc to <pinecone.index.Index object at 0x7ef6fd0335e0>\n"
          ]
        },
        {
          "output_type": "stream",
          "name": "stderr",
          "text": [
            "\rProcessing images:   1%|▏         | 16/1278 [00:10<12:41,  1.66it/s]"
          ]
        },
        {
          "output_type": "stream",
          "name": "stdout",
          "text": [
            "Inserted e51f39 to <pinecone.index.Index object at 0x7ef6fd0335e0>\n"
          ]
        },
        {
          "output_type": "stream",
          "name": "stderr",
          "text": [
            "\rProcessing images:   1%|▏         | 17/1278 [00:11<13:37,  1.54it/s]"
          ]
        },
        {
          "output_type": "stream",
          "name": "stdout",
          "text": [
            "Inserted 4bf761 to <pinecone.index.Index object at 0x7ef6fd0335e0>\n"
          ]
        },
        {
          "output_type": "stream",
          "name": "stderr",
          "text": [
            "\rProcessing images:   1%|▏         | 18/1278 [00:11<12:08,  1.73it/s]"
          ]
        },
        {
          "output_type": "stream",
          "name": "stdout",
          "text": [
            "Inserted 9cca49 to <pinecone.index.Index object at 0x7ef6fd0335e0>\n"
          ]
        },
        {
          "output_type": "stream",
          "name": "stderr",
          "text": [
            "\rProcessing images:   1%|▏         | 19/1278 [00:11<11:09,  1.88it/s]"
          ]
        },
        {
          "output_type": "stream",
          "name": "stdout",
          "text": [
            "Inserted fa6adb to <pinecone.index.Index object at 0x7ef6fd0335e0>\n"
          ]
        },
        {
          "output_type": "stream",
          "name": "stderr",
          "text": [
            "\rProcessing images:   2%|▏         | 20/1278 [00:12<12:38,  1.66it/s]"
          ]
        },
        {
          "output_type": "stream",
          "name": "stdout",
          "text": [
            "Inserted e1d1d9 to <pinecone.index.Index object at 0x7ef6fd0335e0>\n"
          ]
        },
        {
          "output_type": "stream",
          "name": "stderr",
          "text": [
            "\rProcessing images:   2%|▏         | 21/1278 [00:13<12:51,  1.63it/s]"
          ]
        },
        {
          "output_type": "stream",
          "name": "stdout",
          "text": [
            "Inserted 7874c6 to <pinecone.index.Index object at 0x7ef6fd0335e0>\n"
          ]
        },
        {
          "output_type": "stream",
          "name": "stderr",
          "text": [
            "\rProcessing images:   2%|▏         | 22/1278 [00:13<11:43,  1.78it/s]"
          ]
        },
        {
          "output_type": "stream",
          "name": "stdout",
          "text": [
            "Inserted 5164ed to <pinecone.index.Index object at 0x7ef6fd0335e0>\n"
          ]
        },
        {
          "output_type": "stream",
          "name": "stderr",
          "text": [
            "\rProcessing images:   2%|▏         | 23/1278 [00:14<11:33,  1.81it/s]"
          ]
        },
        {
          "output_type": "stream",
          "name": "stdout",
          "text": [
            "Inserted e19a26 to <pinecone.index.Index object at 0x7ef6fd0335e0>\n"
          ]
        },
        {
          "output_type": "stream",
          "name": "stderr",
          "text": [
            "\rProcessing images:   2%|▏         | 24/1278 [00:14<11:18,  1.85it/s]"
          ]
        },
        {
          "output_type": "stream",
          "name": "stdout",
          "text": [
            "Inserted 2aea57 to <pinecone.index.Index object at 0x7ef6fd0335e0>\n"
          ]
        },
        {
          "output_type": "stream",
          "name": "stderr",
          "text": [
            "\rProcessing images:   2%|▏         | 25/1278 [00:15<10:17,  2.03it/s]"
          ]
        },
        {
          "output_type": "stream",
          "name": "stdout",
          "text": [
            "Skipping faulty image from URL: https://prod-images-static.radiopaedia.org/images/63311612/8efdd93ea68d8b8d7b2976f913163958478d53b9aeb7c0690e55f3d31fbf0b30.png\n"
          ]
        },
        {
          "output_type": "stream",
          "name": "stderr",
          "text": [
            "\rProcessing images:   2%|▏         | 26/1278 [00:15<10:19,  2.02it/s]"
          ]
        },
        {
          "output_type": "stream",
          "name": "stdout",
          "text": [
            "Inserted c698bf to <pinecone.index.Index object at 0x7ef6fd0335e0>\n"
          ]
        },
        {
          "output_type": "stream",
          "name": "stderr",
          "text": [
            "\rProcessing images:   2%|▏         | 27/1278 [00:16<09:52,  2.11it/s]"
          ]
        },
        {
          "output_type": "stream",
          "name": "stdout",
          "text": [
            "Inserted 75fc16 to <pinecone.index.Index object at 0x7ef6fd0335e0>\n"
          ]
        },
        {
          "output_type": "stream",
          "name": "stderr",
          "text": [
            "\rProcessing images:   2%|▏         | 28/1278 [00:16<11:13,  1.86it/s]"
          ]
        },
        {
          "output_type": "stream",
          "name": "stdout",
          "text": [
            "Inserted 280dfe to <pinecone.index.Index object at 0x7ef6fd0335e0>\n"
          ]
        },
        {
          "output_type": "stream",
          "name": "stderr",
          "text": [
            "\rProcessing images:   2%|▏         | 29/1278 [00:17<11:55,  1.75it/s]"
          ]
        },
        {
          "output_type": "stream",
          "name": "stdout",
          "text": [
            "Inserted 4603b1 to <pinecone.index.Index object at 0x7ef6fd0335e0>\n"
          ]
        },
        {
          "output_type": "stream",
          "name": "stderr",
          "text": [
            "\rProcessing images:   2%|▏         | 30/1278 [00:17<11:03,  1.88it/s]"
          ]
        },
        {
          "output_type": "stream",
          "name": "stdout",
          "text": [
            "Inserted cf4cfc to <pinecone.index.Index object at 0x7ef6fd0335e0>\n"
          ]
        },
        {
          "output_type": "stream",
          "name": "stderr",
          "text": [
            "\rProcessing images:   2%|▏         | 31/1278 [00:18<10:24,  2.00it/s]"
          ]
        },
        {
          "output_type": "stream",
          "name": "stdout",
          "text": [
            "Inserted 52c24f to <pinecone.index.Index object at 0x7ef6fd0335e0>\n"
          ]
        },
        {
          "output_type": "stream",
          "name": "stderr",
          "text": [
            "\rProcessing images:   3%|▎         | 32/1278 [00:19<11:44,  1.77it/s]"
          ]
        },
        {
          "output_type": "stream",
          "name": "stdout",
          "text": [
            "Inserted 452394 to <pinecone.index.Index object at 0x7ef6fd0335e0>\n"
          ]
        },
        {
          "output_type": "stream",
          "name": "stderr",
          "text": [
            "\rProcessing images:   3%|▎         | 33/1278 [00:19<11:52,  1.75it/s]"
          ]
        },
        {
          "output_type": "stream",
          "name": "stdout",
          "text": [
            "Inserted 249658 to <pinecone.index.Index object at 0x7ef6fd0335e0>\n"
          ]
        },
        {
          "output_type": "stream",
          "name": "stderr",
          "text": [
            "\rProcessing images:   3%|▎         | 34/1278 [00:20<12:17,  1.69it/s]"
          ]
        },
        {
          "output_type": "stream",
          "name": "stdout",
          "text": [
            "Inserted 4d2f67 to <pinecone.index.Index object at 0x7ef6fd0335e0>\n"
          ]
        },
        {
          "output_type": "stream",
          "name": "stderr",
          "text": [
            "\rProcessing images:   3%|▎         | 35/1278 [00:20<13:03,  1.59it/s]"
          ]
        },
        {
          "output_type": "stream",
          "name": "stdout",
          "text": [
            "Inserted 8ff470 to <pinecone.index.Index object at 0x7ef6fd0335e0>\n"
          ]
        },
        {
          "output_type": "stream",
          "name": "stderr",
          "text": [
            "\rProcessing images:   3%|▎         | 36/1278 [00:21<12:31,  1.65it/s]"
          ]
        },
        {
          "output_type": "stream",
          "name": "stdout",
          "text": [
            "Inserted bbdbb9 to <pinecone.index.Index object at 0x7ef6fd0335e0>\n"
          ]
        },
        {
          "output_type": "stream",
          "name": "stderr",
          "text": [
            "\rProcessing images:   3%|▎         | 37/1278 [00:22<12:06,  1.71it/s]"
          ]
        },
        {
          "output_type": "stream",
          "name": "stdout",
          "text": [
            "Inserted e7a086 to <pinecone.index.Index object at 0x7ef6fd0335e0>\n"
          ]
        },
        {
          "output_type": "stream",
          "name": "stderr",
          "text": [
            "\rProcessing images:   3%|▎         | 38/1278 [00:22<13:21,  1.55it/s]"
          ]
        },
        {
          "output_type": "stream",
          "name": "stdout",
          "text": [
            "Inserted 8da59c to <pinecone.index.Index object at 0x7ef6fd0335e0>\n"
          ]
        },
        {
          "output_type": "stream",
          "name": "stderr",
          "text": [
            "\rProcessing images:   3%|▎         | 39/1278 [00:23<11:52,  1.74it/s]"
          ]
        },
        {
          "output_type": "stream",
          "name": "stdout",
          "text": [
            "Skipping faulty image from URL: https://prod-images-static.radiopaedia.org/images/60898691/163c73bffd40b9e98ec4ac6f51e7be1c88201561d5e6ba25392f2c4e17938a57.jpeg\n"
          ]
        },
        {
          "output_type": "stream",
          "name": "stderr",
          "text": [
            "\rProcessing images:   3%|▎         | 40/1278 [00:24<13:17,  1.55it/s]"
          ]
        },
        {
          "output_type": "stream",
          "name": "stdout",
          "text": [
            "Inserted a0e54f to <pinecone.index.Index object at 0x7ef6fd0335e0>\n"
          ]
        },
        {
          "output_type": "stream",
          "name": "stderr",
          "text": [
            "\rProcessing images:   3%|▎         | 41/1278 [00:24<11:54,  1.73it/s]"
          ]
        },
        {
          "output_type": "stream",
          "name": "stdout",
          "text": [
            "Inserted c16e82 to <pinecone.index.Index object at 0x7ef6fd0335e0>\n"
          ]
        },
        {
          "output_type": "stream",
          "name": "stderr",
          "text": [
            "\rProcessing images:   3%|▎         | 42/1278 [00:24<11:11,  1.84it/s]"
          ]
        },
        {
          "output_type": "stream",
          "name": "stdout",
          "text": [
            "Inserted 5c6ce1 to <pinecone.index.Index object at 0x7ef6fd0335e0>\n"
          ]
        },
        {
          "output_type": "stream",
          "name": "stderr",
          "text": [
            "\rProcessing images:   3%|▎         | 43/1278 [00:25<11:33,  1.78it/s]"
          ]
        },
        {
          "output_type": "stream",
          "name": "stdout",
          "text": [
            "Inserted ae51b6 to <pinecone.index.Index object at 0x7ef6fd0335e0>\n"
          ]
        },
        {
          "output_type": "stream",
          "name": "stderr",
          "text": [
            "\rProcessing images:   3%|▎         | 44/1278 [00:25<10:30,  1.96it/s]"
          ]
        },
        {
          "output_type": "stream",
          "name": "stdout",
          "text": [
            "Inserted 77ed9e to <pinecone.index.Index object at 0x7ef6fd0335e0>\n"
          ]
        },
        {
          "output_type": "stream",
          "name": "stderr",
          "text": [
            "\rProcessing images:   4%|▎         | 45/1278 [00:26<10:53,  1.89it/s]"
          ]
        },
        {
          "output_type": "stream",
          "name": "stdout",
          "text": [
            "Inserted 3237ff to <pinecone.index.Index object at 0x7ef6fd0335e0>\n"
          ]
        },
        {
          "output_type": "stream",
          "name": "stderr",
          "text": [
            "\rProcessing images:   4%|▎         | 46/1278 [00:27<11:11,  1.83it/s]"
          ]
        },
        {
          "output_type": "stream",
          "name": "stdout",
          "text": [
            "Inserted 7456e1 to <pinecone.index.Index object at 0x7ef6fd0335e0>\n"
          ]
        },
        {
          "output_type": "stream",
          "name": "stderr",
          "text": [
            "\rProcessing images:   4%|▎         | 47/1278 [00:27<10:17,  1.99it/s]"
          ]
        },
        {
          "output_type": "stream",
          "name": "stdout",
          "text": [
            "Inserted 20e0c9 to <pinecone.index.Index object at 0x7ef6fd0335e0>\n"
          ]
        },
        {
          "output_type": "stream",
          "name": "stderr",
          "text": [
            "\rProcessing images:   4%|▍         | 48/1278 [00:28<10:47,  1.90it/s]"
          ]
        },
        {
          "output_type": "stream",
          "name": "stdout",
          "text": [
            "Inserted 8e3be0 to <pinecone.index.Index object at 0x7ef6fd0335e0>\n"
          ]
        },
        {
          "output_type": "stream",
          "name": "stderr",
          "text": [
            "\rProcessing images:   4%|▍         | 49/1278 [00:28<11:24,  1.80it/s]"
          ]
        },
        {
          "output_type": "stream",
          "name": "stdout",
          "text": [
            "Inserted 84d4b0 to <pinecone.index.Index object at 0x7ef6fd0335e0>\n"
          ]
        },
        {
          "output_type": "stream",
          "name": "stderr",
          "text": [
            "\rProcessing images:   4%|▍         | 50/1278 [00:29<12:45,  1.60it/s]"
          ]
        },
        {
          "output_type": "stream",
          "name": "stdout",
          "text": [
            "Inserted e44724 to <pinecone.index.Index object at 0x7ef6fd0335e0>\n"
          ]
        },
        {
          "output_type": "stream",
          "name": "stderr",
          "text": [
            "\rProcessing images:   4%|▍         | 51/1278 [00:29<11:15,  1.82it/s]"
          ]
        },
        {
          "output_type": "stream",
          "name": "stdout",
          "text": [
            "Inserted 3249d7 to <pinecone.index.Index object at 0x7ef6fd0335e0>\n"
          ]
        },
        {
          "output_type": "stream",
          "name": "stderr",
          "text": [
            "\rProcessing images:   4%|▍         | 52/1278 [00:30<11:03,  1.85it/s]"
          ]
        },
        {
          "output_type": "stream",
          "name": "stdout",
          "text": [
            "Inserted 06090b to <pinecone.index.Index object at 0x7ef6fd0335e0>\n"
          ]
        },
        {
          "output_type": "stream",
          "name": "stderr",
          "text": [
            "\rProcessing images:   4%|▍         | 53/1278 [00:31<12:22,  1.65it/s]"
          ]
        },
        {
          "output_type": "stream",
          "name": "stdout",
          "text": [
            "Inserted 426f4a to <pinecone.index.Index object at 0x7ef6fd0335e0>\n"
          ]
        },
        {
          "output_type": "stream",
          "name": "stderr",
          "text": [
            "\rProcessing images:   4%|▍         | 54/1278 [00:31<11:13,  1.82it/s]"
          ]
        },
        {
          "output_type": "stream",
          "name": "stdout",
          "text": [
            "Inserted 5f2a96 to <pinecone.index.Index object at 0x7ef6fd0335e0>\n"
          ]
        },
        {
          "output_type": "stream",
          "name": "stderr",
          "text": [
            "\rProcessing images:   4%|▍         | 55/1278 [00:32<11:24,  1.79it/s]"
          ]
        },
        {
          "output_type": "stream",
          "name": "stdout",
          "text": [
            "Inserted 04646c to <pinecone.index.Index object at 0x7ef6fd0335e0>\n"
          ]
        },
        {
          "output_type": "stream",
          "name": "stderr",
          "text": [
            "\rProcessing images:   4%|▍         | 56/1278 [00:32<10:49,  1.88it/s]"
          ]
        },
        {
          "output_type": "stream",
          "name": "stdout",
          "text": [
            "Inserted 1bfa21 to <pinecone.index.Index object at 0x7ef6fd0335e0>\n"
          ]
        },
        {
          "output_type": "stream",
          "name": "stderr",
          "text": [
            "\rProcessing images:   4%|▍         | 57/1278 [00:33<10:45,  1.89it/s]"
          ]
        },
        {
          "output_type": "stream",
          "name": "stdout",
          "text": [
            "Inserted 5b9b95 to <pinecone.index.Index object at 0x7ef6fd0335e0>\n"
          ]
        },
        {
          "output_type": "stream",
          "name": "stderr",
          "text": [
            "\rProcessing images:   5%|▍         | 58/1278 [00:33<09:58,  2.04it/s]"
          ]
        },
        {
          "output_type": "stream",
          "name": "stdout",
          "text": [
            "Inserted 7f8dcb to <pinecone.index.Index object at 0x7ef6fd0335e0>\n"
          ]
        },
        {
          "output_type": "stream",
          "name": "stderr",
          "text": [
            "\rProcessing images:   5%|▍         | 59/1278 [00:33<09:41,  2.10it/s]"
          ]
        },
        {
          "output_type": "stream",
          "name": "stdout",
          "text": [
            "Inserted fa87e2 to <pinecone.index.Index object at 0x7ef6fd0335e0>\n"
          ]
        },
        {
          "output_type": "stream",
          "name": "stderr",
          "text": [
            "\rProcessing images:   5%|▍         | 60/1278 [00:34<10:56,  1.86it/s]"
          ]
        },
        {
          "output_type": "stream",
          "name": "stdout",
          "text": [
            "Inserted dd2c50 to <pinecone.index.Index object at 0x7ef6fd0335e0>\n"
          ]
        },
        {
          "output_type": "stream",
          "name": "stderr",
          "text": [
            "\rProcessing images:   5%|▍         | 61/1278 [00:35<11:22,  1.78it/s]"
          ]
        },
        {
          "output_type": "stream",
          "name": "stdout",
          "text": [
            "Inserted f7fbf1 to <pinecone.index.Index object at 0x7ef6fd0335e0>\n"
          ]
        },
        {
          "output_type": "stream",
          "name": "stderr",
          "text": [
            "\rProcessing images:   5%|▍         | 62/1278 [00:35<12:01,  1.68it/s]"
          ]
        },
        {
          "output_type": "stream",
          "name": "stdout",
          "text": [
            "Inserted fecc6a to <pinecone.index.Index object at 0x7ef6fd0335e0>\n"
          ]
        },
        {
          "output_type": "stream",
          "name": "stderr",
          "text": [
            "\rProcessing images:   5%|▍         | 63/1278 [00:36<14:25,  1.40it/s]"
          ]
        },
        {
          "output_type": "stream",
          "name": "stdout",
          "text": [
            "Inserted 37da94 to <pinecone.index.Index object at 0x7ef6fd0335e0>\n"
          ]
        },
        {
          "output_type": "stream",
          "name": "stderr",
          "text": [
            "\rProcessing images:   5%|▌         | 64/1278 [00:37<13:08,  1.54it/s]"
          ]
        },
        {
          "output_type": "stream",
          "name": "stdout",
          "text": [
            "Inserted 548ae9 to <pinecone.index.Index object at 0x7ef6fd0335e0>\n"
          ]
        },
        {
          "output_type": "stream",
          "name": "stderr",
          "text": [
            "\rProcessing images:   5%|▌         | 65/1278 [00:38<14:35,  1.38it/s]"
          ]
        },
        {
          "output_type": "stream",
          "name": "stdout",
          "text": [
            "Inserted 2c68eb to <pinecone.index.Index object at 0x7ef6fd0335e0>\n"
          ]
        },
        {
          "output_type": "stream",
          "name": "stderr",
          "text": [
            "\rProcessing images:   5%|▌         | 66/1278 [00:39<15:22,  1.31it/s]"
          ]
        },
        {
          "output_type": "stream",
          "name": "stdout",
          "text": [
            "Inserted d04a7c to <pinecone.index.Index object at 0x7ef6fd0335e0>\n"
          ]
        },
        {
          "output_type": "stream",
          "name": "stderr",
          "text": [
            "\rProcessing images:   5%|▌         | 67/1278 [00:39<14:36,  1.38it/s]"
          ]
        },
        {
          "output_type": "stream",
          "name": "stdout",
          "text": [
            "Inserted be08e7 to <pinecone.index.Index object at 0x7ef6fd0335e0>\n"
          ]
        },
        {
          "output_type": "stream",
          "name": "stderr",
          "text": [
            "\rProcessing images:   5%|▌         | 68/1278 [00:40<13:40,  1.48it/s]"
          ]
        },
        {
          "output_type": "stream",
          "name": "stdout",
          "text": [
            "Inserted a12fb9 to <pinecone.index.Index object at 0x7ef6fd0335e0>\n"
          ]
        },
        {
          "output_type": "stream",
          "name": "stderr",
          "text": [
            "\rProcessing images:   5%|▌         | 69/1278 [00:40<12:00,  1.68it/s]"
          ]
        },
        {
          "output_type": "stream",
          "name": "stdout",
          "text": [
            "Inserted 23bd9b to <pinecone.index.Index object at 0x7ef6fd0335e0>\n"
          ]
        },
        {
          "output_type": "stream",
          "name": "stderr",
          "text": [
            "\rProcessing images:   5%|▌         | 70/1278 [00:41<10:42,  1.88it/s]"
          ]
        },
        {
          "output_type": "stream",
          "name": "stdout",
          "text": [
            "Skipping faulty image from URL: https://prod-images-static.radiopaedia.org/images/62836419/7b548f9732a3bde5b060743eb78c4bad36dafdfb74cdfa2fd92c4d41ab3bcb59.jpeg\n"
          ]
        },
        {
          "output_type": "stream",
          "name": "stderr",
          "text": [
            "\rProcessing images:   6%|▌         | 71/1278 [00:41<11:11,  1.80it/s]"
          ]
        },
        {
          "output_type": "stream",
          "name": "stdout",
          "text": [
            "Inserted e870cd to <pinecone.index.Index object at 0x7ef6fd0335e0>\n"
          ]
        },
        {
          "output_type": "stream",
          "name": "stderr",
          "text": [
            "\rProcessing images:   6%|▌         | 72/1278 [00:42<11:27,  1.75it/s]"
          ]
        },
        {
          "output_type": "stream",
          "name": "stdout",
          "text": [
            "Inserted 89e694 to <pinecone.index.Index object at 0x7ef6fd0335e0>\n"
          ]
        },
        {
          "output_type": "stream",
          "name": "stderr",
          "text": [
            "\rProcessing images:   6%|▌         | 73/1278 [00:43<11:57,  1.68it/s]"
          ]
        },
        {
          "output_type": "stream",
          "name": "stdout",
          "text": [
            "Inserted c88030 to <pinecone.index.Index object at 0x7ef6fd0335e0>\n"
          ]
        },
        {
          "output_type": "stream",
          "name": "stderr",
          "text": [
            "\rProcessing images:   6%|▌         | 74/1278 [00:43<12:42,  1.58it/s]"
          ]
        },
        {
          "output_type": "stream",
          "name": "stdout",
          "text": [
            "Inserted 443015 to <pinecone.index.Index object at 0x7ef6fd0335e0>\n"
          ]
        },
        {
          "output_type": "stream",
          "name": "stderr",
          "text": [
            "\rProcessing images:   6%|▌         | 75/1278 [00:44<11:44,  1.71it/s]"
          ]
        },
        {
          "output_type": "stream",
          "name": "stdout",
          "text": [
            "Inserted 7253c4 to <pinecone.index.Index object at 0x7ef6fd0335e0>\n"
          ]
        },
        {
          "output_type": "stream",
          "name": "stderr",
          "text": [
            "\rProcessing images:   6%|▌         | 76/1278 [00:44<11:08,  1.80it/s]"
          ]
        },
        {
          "output_type": "stream",
          "name": "stdout",
          "text": [
            "Inserted b5fe44 to <pinecone.index.Index object at 0x7ef6fd0335e0>\n"
          ]
        },
        {
          "output_type": "stream",
          "name": "stderr",
          "text": [
            "\rProcessing images:   6%|▌         | 77/1278 [00:45<11:32,  1.74it/s]"
          ]
        },
        {
          "output_type": "stream",
          "name": "stdout",
          "text": [
            "Inserted 9c4634 to <pinecone.index.Index object at 0x7ef6fd0335e0>\n"
          ]
        },
        {
          "output_type": "stream",
          "name": "stderr",
          "text": [
            "\rProcessing images:   6%|▌         | 78/1278 [00:45<11:25,  1.75it/s]"
          ]
        },
        {
          "output_type": "stream",
          "name": "stdout",
          "text": [
            "Inserted 2fdc12 to <pinecone.index.Index object at 0x7ef6fd0335e0>\n"
          ]
        },
        {
          "output_type": "stream",
          "name": "stderr",
          "text": [
            "\rProcessing images:   6%|▌         | 79/1278 [00:46<11:51,  1.69it/s]"
          ]
        },
        {
          "output_type": "stream",
          "name": "stdout",
          "text": [
            "Inserted 674d8a to <pinecone.index.Index object at 0x7ef6fd0335e0>\n"
          ]
        },
        {
          "output_type": "stream",
          "name": "stderr",
          "text": [
            "\rProcessing images:   6%|▋         | 80/1278 [00:46<10:41,  1.87it/s]"
          ]
        },
        {
          "output_type": "stream",
          "name": "stdout",
          "text": [
            "Inserted 8de588 to <pinecone.index.Index object at 0x7ef6fd0335e0>\n"
          ]
        },
        {
          "output_type": "stream",
          "name": "stderr",
          "text": [
            "\rProcessing images:   6%|▋         | 81/1278 [00:47<09:42,  2.06it/s]"
          ]
        },
        {
          "output_type": "stream",
          "name": "stdout",
          "text": [
            "Inserted dc4427 to <pinecone.index.Index object at 0x7ef6fd0335e0>\n"
          ]
        },
        {
          "output_type": "stream",
          "name": "stderr",
          "text": [
            "\rProcessing images:   6%|▋         | 82/1278 [00:47<09:02,  2.20it/s]"
          ]
        },
        {
          "output_type": "stream",
          "name": "stdout",
          "text": [
            "Inserted 86b16d to <pinecone.index.Index object at 0x7ef6fd0335e0>\n"
          ]
        },
        {
          "output_type": "stream",
          "name": "stderr",
          "text": [
            "\rProcessing images:   6%|▋         | 83/1278 [00:48<10:05,  1.97it/s]"
          ]
        },
        {
          "output_type": "stream",
          "name": "stdout",
          "text": [
            "Inserted f2aa44 to <pinecone.index.Index object at 0x7ef6fd0335e0>\n"
          ]
        },
        {
          "output_type": "stream",
          "name": "stderr",
          "text": [
            "\rProcessing images:   7%|▋         | 84/1278 [00:49<11:13,  1.77it/s]"
          ]
        },
        {
          "output_type": "stream",
          "name": "stdout",
          "text": [
            "Inserted ced8b6 to <pinecone.index.Index object at 0x7ef6fd0335e0>\n"
          ]
        },
        {
          "output_type": "stream",
          "name": "stderr",
          "text": [
            "\rProcessing images:   7%|▋         | 85/1278 [00:49<11:24,  1.74it/s]"
          ]
        },
        {
          "output_type": "stream",
          "name": "stdout",
          "text": [
            "Inserted 7aad52 to <pinecone.index.Index object at 0x7ef6fd0335e0>\n"
          ]
        },
        {
          "output_type": "stream",
          "name": "stderr",
          "text": [
            "\rProcessing images:   7%|▋         | 86/1278 [00:50<13:05,  1.52it/s]"
          ]
        },
        {
          "output_type": "stream",
          "name": "stdout",
          "text": [
            "Inserted 8b5de3 to <pinecone.index.Index object at 0x7ef6fd0335e0>\n"
          ]
        },
        {
          "output_type": "stream",
          "name": "stderr",
          "text": [
            "\rProcessing images:   7%|▋         | 87/1278 [00:50<12:12,  1.63it/s]"
          ]
        },
        {
          "output_type": "stream",
          "name": "stdout",
          "text": [
            "Inserted 3845d3 to <pinecone.index.Index object at 0x7ef6fd0335e0>\n"
          ]
        },
        {
          "output_type": "stream",
          "name": "stderr",
          "text": [
            "\rProcessing images:   7%|▋         | 88/1278 [00:51<13:18,  1.49it/s]"
          ]
        },
        {
          "output_type": "stream",
          "name": "stdout",
          "text": [
            "Inserted 189918 to <pinecone.index.Index object at 0x7ef6fd0335e0>\n"
          ]
        },
        {
          "output_type": "stream",
          "name": "stderr",
          "text": [
            "\rProcessing images:   7%|▋         | 89/1278 [00:52<12:33,  1.58it/s]"
          ]
        },
        {
          "output_type": "stream",
          "name": "stdout",
          "text": [
            "Inserted c6e7e1 to <pinecone.index.Index object at 0x7ef6fd0335e0>\n"
          ]
        },
        {
          "output_type": "stream",
          "name": "stderr",
          "text": [
            "\rProcessing images:   7%|▋         | 90/1278 [00:53<14:09,  1.40it/s]"
          ]
        },
        {
          "output_type": "stream",
          "name": "stdout",
          "text": [
            "Inserted fbadd5 to <pinecone.index.Index object at 0x7ef6fd0335e0>\n"
          ]
        },
        {
          "output_type": "stream",
          "name": "stderr",
          "text": [
            "\rProcessing images:   7%|▋         | 91/1278 [00:54<15:30,  1.28it/s]"
          ]
        },
        {
          "output_type": "stream",
          "name": "stdout",
          "text": [
            "Inserted 9e571f to <pinecone.index.Index object at 0x7ef6fd0335e0>\n"
          ]
        },
        {
          "output_type": "stream",
          "name": "stderr",
          "text": [
            "\rProcessing images:   7%|▋         | 92/1278 [00:54<15:22,  1.29it/s]"
          ]
        },
        {
          "output_type": "stream",
          "name": "stdout",
          "text": [
            "Inserted 181759 to <pinecone.index.Index object at 0x7ef6fd0335e0>\n"
          ]
        },
        {
          "output_type": "stream",
          "name": "stderr",
          "text": [
            "\rProcessing images:   7%|▋         | 93/1278 [00:55<13:57,  1.42it/s]"
          ]
        },
        {
          "output_type": "stream",
          "name": "stdout",
          "text": [
            "Inserted ed888d to <pinecone.index.Index object at 0x7ef6fd0335e0>\n"
          ]
        },
        {
          "output_type": "stream",
          "name": "stderr",
          "text": [
            "\rProcessing images:   7%|▋         | 94/1278 [00:55<12:01,  1.64it/s]"
          ]
        },
        {
          "output_type": "stream",
          "name": "stdout",
          "text": [
            "Inserted 475425 to <pinecone.index.Index object at 0x7ef6fd0335e0>\n"
          ]
        },
        {
          "output_type": "stream",
          "name": "stderr",
          "text": [
            "\rProcessing images:   7%|▋         | 95/1278 [00:56<11:34,  1.70it/s]"
          ]
        },
        {
          "output_type": "stream",
          "name": "stdout",
          "text": [
            "Inserted 6e9fde to <pinecone.index.Index object at 0x7ef6fd0335e0>\n"
          ]
        },
        {
          "output_type": "stream",
          "name": "stderr",
          "text": [
            "\rProcessing images:   8%|▊         | 96/1278 [00:56<11:12,  1.76it/s]"
          ]
        },
        {
          "output_type": "stream",
          "name": "stdout",
          "text": [
            "Inserted 8ad586 to <pinecone.index.Index object at 0x7ef6fd0335e0>\n"
          ]
        },
        {
          "output_type": "stream",
          "name": "stderr",
          "text": [
            "\rProcessing images:   8%|▊         | 97/1278 [00:57<10:43,  1.84it/s]"
          ]
        },
        {
          "output_type": "stream",
          "name": "stdout",
          "text": [
            "Inserted cc546b to <pinecone.index.Index object at 0x7ef6fd0335e0>\n"
          ]
        },
        {
          "output_type": "stream",
          "name": "stderr",
          "text": [
            "\rProcessing images:   8%|▊         | 98/1278 [00:58<12:06,  1.62it/s]"
          ]
        },
        {
          "output_type": "stream",
          "name": "stdout",
          "text": [
            "Inserted 477b43 to <pinecone.index.Index object at 0x7ef6fd0335e0>\n"
          ]
        },
        {
          "output_type": "stream",
          "name": "stderr",
          "text": [
            "\rProcessing images:   8%|▊         | 99/1278 [00:58<11:36,  1.69it/s]"
          ]
        },
        {
          "output_type": "stream",
          "name": "stdout",
          "text": [
            "Inserted 870391 to <pinecone.index.Index object at 0x7ef6fd0335e0>\n"
          ]
        },
        {
          "output_type": "stream",
          "name": "stderr",
          "text": [
            "\rProcessing images:   8%|▊         | 100/1278 [00:59<11:36,  1.69it/s]"
          ]
        },
        {
          "output_type": "stream",
          "name": "stdout",
          "text": [
            "Inserted 9bc8b3 to <pinecone.index.Index object at 0x7ef6fd0335e0>\n"
          ]
        },
        {
          "output_type": "stream",
          "name": "stderr",
          "text": [
            "\rProcessing images:   8%|▊         | 101/1278 [01:00<12:08,  1.62it/s]"
          ]
        },
        {
          "output_type": "stream",
          "name": "stdout",
          "text": [
            "Inserted b46836 to <pinecone.index.Index object at 0x7ef6fd0335e0>\n"
          ]
        },
        {
          "output_type": "stream",
          "name": "stderr",
          "text": [
            "\rProcessing images:   8%|▊         | 102/1278 [01:00<12:22,  1.58it/s]"
          ]
        },
        {
          "output_type": "stream",
          "name": "stdout",
          "text": [
            "Inserted ed8c60 to <pinecone.index.Index object at 0x7ef6fd0335e0>\n"
          ]
        },
        {
          "output_type": "stream",
          "name": "stderr",
          "text": [
            "\rProcessing images:   8%|▊         | 103/1278 [01:01<12:32,  1.56it/s]"
          ]
        },
        {
          "output_type": "stream",
          "name": "stdout",
          "text": [
            "Inserted 3ceaac to <pinecone.index.Index object at 0x7ef6fd0335e0>\n"
          ]
        },
        {
          "output_type": "stream",
          "name": "stderr",
          "text": [
            "\rProcessing images:   8%|▊         | 104/1278 [01:01<11:48,  1.66it/s]"
          ]
        },
        {
          "output_type": "stream",
          "name": "stdout",
          "text": [
            "Inserted 727ebb to <pinecone.index.Index object at 0x7ef6fd0335e0>\n"
          ]
        },
        {
          "output_type": "stream",
          "name": "stderr",
          "text": [
            "\rProcessing images:   8%|▊         | 105/1278 [01:02<11:52,  1.65it/s]"
          ]
        },
        {
          "output_type": "stream",
          "name": "stdout",
          "text": [
            "Inserted 67c322 to <pinecone.index.Index object at 0x7ef6fd0335e0>\n"
          ]
        },
        {
          "output_type": "stream",
          "name": "stderr",
          "text": [
            "\rProcessing images:   8%|▊         | 106/1278 [01:03<12:02,  1.62it/s]"
          ]
        },
        {
          "output_type": "stream",
          "name": "stdout",
          "text": [
            "Inserted db0a69 to <pinecone.index.Index object at 0x7ef6fd0335e0>\n"
          ]
        },
        {
          "output_type": "stream",
          "name": "stderr",
          "text": [
            "\rProcessing images:   8%|▊         | 107/1278 [01:03<13:02,  1.50it/s]"
          ]
        },
        {
          "output_type": "stream",
          "name": "stdout",
          "text": [
            "Inserted 14f16d to <pinecone.index.Index object at 0x7ef6fd0335e0>\n"
          ]
        },
        {
          "output_type": "stream",
          "name": "stderr",
          "text": [
            "\rProcessing images:   8%|▊         | 108/1278 [01:04<14:08,  1.38it/s]"
          ]
        },
        {
          "output_type": "stream",
          "name": "stdout",
          "text": [
            "Inserted 16ed6f to <pinecone.index.Index object at 0x7ef6fd0335e0>\n"
          ]
        },
        {
          "output_type": "stream",
          "name": "stderr",
          "text": [
            "\rProcessing images:   9%|▊         | 109/1278 [01:05<16:41,  1.17it/s]"
          ]
        },
        {
          "output_type": "stream",
          "name": "stdout",
          "text": [
            "Inserted 34b9cb to <pinecone.index.Index object at 0x7ef6fd0335e0>\n"
          ]
        },
        {
          "output_type": "stream",
          "name": "stderr",
          "text": [
            "\rProcessing images:   9%|▊         | 110/1278 [01:06<15:27,  1.26it/s]"
          ]
        },
        {
          "output_type": "stream",
          "name": "stdout",
          "text": [
            "Inserted 06c557 to <pinecone.index.Index object at 0x7ef6fd0335e0>\n"
          ]
        },
        {
          "output_type": "stream",
          "name": "stderr",
          "text": [
            "\rProcessing images:   9%|▊         | 111/1278 [01:07<13:42,  1.42it/s]"
          ]
        },
        {
          "output_type": "stream",
          "name": "stdout",
          "text": [
            "Inserted fe626c to <pinecone.index.Index object at 0x7ef6fd0335e0>\n"
          ]
        },
        {
          "output_type": "stream",
          "name": "stderr",
          "text": [
            "\rProcessing images:   9%|▉         | 112/1278 [01:07<12:36,  1.54it/s]"
          ]
        },
        {
          "output_type": "stream",
          "name": "stdout",
          "text": [
            "Inserted 815b06 to <pinecone.index.Index object at 0x7ef6fd0335e0>\n"
          ]
        },
        {
          "output_type": "stream",
          "name": "stderr",
          "text": [
            "\rProcessing images:   9%|▉         | 113/1278 [01:08<11:52,  1.64it/s]"
          ]
        },
        {
          "output_type": "stream",
          "name": "stdout",
          "text": [
            "Inserted c2b261 to <pinecone.index.Index object at 0x7ef6fd0335e0>\n"
          ]
        },
        {
          "output_type": "stream",
          "name": "stderr",
          "text": [
            "\rProcessing images:   9%|▉         | 114/1278 [01:08<11:04,  1.75it/s]"
          ]
        },
        {
          "output_type": "stream",
          "name": "stdout",
          "text": [
            "Inserted bae3fd to <pinecone.index.Index object at 0x7ef6fd0335e0>\n"
          ]
        },
        {
          "output_type": "stream",
          "name": "stderr",
          "text": [
            "\rProcessing images:   9%|▉         | 115/1278 [01:09<10:45,  1.80it/s]"
          ]
        },
        {
          "output_type": "stream",
          "name": "stdout",
          "text": [
            "Inserted 123e2c to <pinecone.index.Index object at 0x7ef6fd0335e0>\n"
          ]
        },
        {
          "output_type": "stream",
          "name": "stderr",
          "text": [
            "\rProcessing images:   9%|▉         | 116/1278 [01:09<11:28,  1.69it/s]"
          ]
        },
        {
          "output_type": "stream",
          "name": "stdout",
          "text": [
            "Inserted b175b7 to <pinecone.index.Index object at 0x7ef6fd0335e0>\n"
          ]
        },
        {
          "output_type": "stream",
          "name": "stderr",
          "text": [
            "\rProcessing images:   9%|▉         | 117/1278 [01:10<10:48,  1.79it/s]"
          ]
        },
        {
          "output_type": "stream",
          "name": "stdout",
          "text": [
            "Inserted e9b042 to <pinecone.index.Index object at 0x7ef6fd0335e0>\n"
          ]
        },
        {
          "output_type": "stream",
          "name": "stderr",
          "text": [
            "\rProcessing images:   9%|▉         | 118/1278 [01:10<11:42,  1.65it/s]"
          ]
        },
        {
          "output_type": "stream",
          "name": "stdout",
          "text": [
            "Inserted a4f1fb to <pinecone.index.Index object at 0x7ef6fd0335e0>\n"
          ]
        },
        {
          "output_type": "stream",
          "name": "stderr",
          "text": [
            "\rProcessing images:   9%|▉         | 119/1278 [01:11<10:42,  1.80it/s]"
          ]
        },
        {
          "output_type": "stream",
          "name": "stdout",
          "text": [
            "Inserted b6a1d2 to <pinecone.index.Index object at 0x7ef6fd0335e0>\n"
          ]
        },
        {
          "output_type": "stream",
          "name": "stderr",
          "text": [
            "\rProcessing images:   9%|▉         | 120/1278 [01:11<10:04,  1.92it/s]"
          ]
        },
        {
          "output_type": "stream",
          "name": "stdout",
          "text": [
            "Inserted f49814 to <pinecone.index.Index object at 0x7ef6fd0335e0>\n"
          ]
        },
        {
          "output_type": "stream",
          "name": "stderr",
          "text": [
            "\rProcessing images:   9%|▉         | 121/1278 [01:12<09:25,  2.04it/s]"
          ]
        },
        {
          "output_type": "stream",
          "name": "stdout",
          "text": [
            "Inserted d32fd8 to <pinecone.index.Index object at 0x7ef6fd0335e0>\n"
          ]
        },
        {
          "output_type": "stream",
          "name": "stderr",
          "text": [
            "\rProcessing images:  10%|▉         | 122/1278 [01:12<10:36,  1.82it/s]"
          ]
        },
        {
          "output_type": "stream",
          "name": "stdout",
          "text": [
            "Inserted a52562 to <pinecone.index.Index object at 0x7ef6fd0335e0>\n"
          ]
        },
        {
          "output_type": "stream",
          "name": "stderr",
          "text": [
            "\rProcessing images:  10%|▉         | 123/1278 [01:13<11:22,  1.69it/s]"
          ]
        },
        {
          "output_type": "stream",
          "name": "stdout",
          "text": [
            "Inserted f7dde0 to <pinecone.index.Index object at 0x7ef6fd0335e0>\n"
          ]
        },
        {
          "output_type": "stream",
          "name": "stderr",
          "text": [
            "\rProcessing images:  10%|▉         | 124/1278 [01:14<10:38,  1.81it/s]"
          ]
        },
        {
          "output_type": "stream",
          "name": "stdout",
          "text": [
            "Inserted dc1066 to <pinecone.index.Index object at 0x7ef6fd0335e0>\n"
          ]
        },
        {
          "output_type": "stream",
          "name": "stderr",
          "text": [
            "\rProcessing images:  10%|▉         | 125/1278 [01:14<09:57,  1.93it/s]"
          ]
        },
        {
          "output_type": "stream",
          "name": "stdout",
          "text": [
            "Inserted 6ac9ad to <pinecone.index.Index object at 0x7ef6fd0335e0>\n"
          ]
        },
        {
          "output_type": "stream",
          "name": "stderr",
          "text": [
            "\rProcessing images:  10%|▉         | 126/1278 [01:14<09:33,  2.01it/s]"
          ]
        },
        {
          "output_type": "stream",
          "name": "stdout",
          "text": [
            "Inserted 14a5f3 to <pinecone.index.Index object at 0x7ef6fd0335e0>\n"
          ]
        },
        {
          "output_type": "stream",
          "name": "stderr",
          "text": [
            "\rProcessing images:  10%|▉         | 127/1278 [01:15<10:24,  1.84it/s]"
          ]
        },
        {
          "output_type": "stream",
          "name": "stdout",
          "text": [
            "Inserted 30913a to <pinecone.index.Index object at 0x7ef6fd0335e0>\n"
          ]
        },
        {
          "output_type": "stream",
          "name": "stderr",
          "text": [
            "\rProcessing images:  10%|█         | 128/1278 [01:16<11:03,  1.73it/s]"
          ]
        },
        {
          "output_type": "stream",
          "name": "stdout",
          "text": [
            "Inserted 464735 to <pinecone.index.Index object at 0x7ef6fd0335e0>\n"
          ]
        },
        {
          "output_type": "stream",
          "name": "stderr",
          "text": [
            "\rProcessing images:  10%|█         | 129/1278 [01:16<09:56,  1.93it/s]"
          ]
        },
        {
          "output_type": "stream",
          "name": "stdout",
          "text": [
            "Inserted 3966fb to <pinecone.index.Index object at 0x7ef6fd0335e0>\n"
          ]
        },
        {
          "output_type": "stream",
          "name": "stderr",
          "text": [
            "\rProcessing images:  10%|█         | 130/1278 [01:17<09:32,  2.01it/s]"
          ]
        },
        {
          "output_type": "stream",
          "name": "stdout",
          "text": [
            "Inserted 24fc25 to <pinecone.index.Index object at 0x7ef6fd0335e0>\n"
          ]
        },
        {
          "output_type": "stream",
          "name": "stderr",
          "text": [
            "\rProcessing images:  10%|█         | 131/1278 [01:17<10:27,  1.83it/s]"
          ]
        },
        {
          "output_type": "stream",
          "name": "stdout",
          "text": [
            "Inserted 62ea81 to <pinecone.index.Index object at 0x7ef6fd0335e0>\n"
          ]
        },
        {
          "output_type": "stream",
          "name": "stderr",
          "text": [
            "\rProcessing images:  10%|█         | 132/1278 [01:18<09:34,  1.99it/s]"
          ]
        },
        {
          "output_type": "stream",
          "name": "stdout",
          "text": [
            "Inserted 72ac81 to <pinecone.index.Index object at 0x7ef6fd0335e0>\n"
          ]
        },
        {
          "output_type": "stream",
          "name": "stderr",
          "text": [
            "\rProcessing images:  10%|█         | 133/1278 [01:18<10:23,  1.84it/s]"
          ]
        },
        {
          "output_type": "stream",
          "name": "stdout",
          "text": [
            "Inserted 9be1af to <pinecone.index.Index object at 0x7ef6fd0335e0>\n"
          ]
        },
        {
          "output_type": "stream",
          "name": "stderr",
          "text": [
            "\rProcessing images:  10%|█         | 134/1278 [01:19<10:29,  1.82it/s]"
          ]
        },
        {
          "output_type": "stream",
          "name": "stdout",
          "text": [
            "Inserted 8a6770 to <pinecone.index.Index object at 0x7ef6fd0335e0>\n"
          ]
        },
        {
          "output_type": "stream",
          "name": "stderr",
          "text": [
            "\rProcessing images:  11%|█         | 135/1278 [01:20<11:14,  1.69it/s]"
          ]
        },
        {
          "output_type": "stream",
          "name": "stdout",
          "text": [
            "Inserted 09cc51 to <pinecone.index.Index object at 0x7ef6fd0335e0>\n"
          ]
        },
        {
          "output_type": "stream",
          "name": "stderr",
          "text": [
            "\rProcessing images:  11%|█         | 136/1278 [01:20<12:00,  1.59it/s]"
          ]
        },
        {
          "output_type": "stream",
          "name": "stdout",
          "text": [
            "Inserted 47e2db to <pinecone.index.Index object at 0x7ef6fd0335e0>\n"
          ]
        },
        {
          "output_type": "stream",
          "name": "stderr",
          "text": [
            "\rProcessing images:  11%|█         | 137/1278 [01:21<11:36,  1.64it/s]"
          ]
        },
        {
          "output_type": "stream",
          "name": "stdout",
          "text": [
            "Inserted c16868 to <pinecone.index.Index object at 0x7ef6fd0335e0>\n"
          ]
        },
        {
          "output_type": "stream",
          "name": "stderr",
          "text": [
            "\rProcessing images:  11%|█         | 138/1278 [01:21<11:11,  1.70it/s]"
          ]
        },
        {
          "output_type": "stream",
          "name": "stdout",
          "text": [
            "Inserted de16b0 to <pinecone.index.Index object at 0x7ef6fd0335e0>\n"
          ]
        },
        {
          "output_type": "stream",
          "name": "stderr",
          "text": [
            "\rProcessing images:  11%|█         | 139/1278 [01:22<11:35,  1.64it/s]"
          ]
        },
        {
          "output_type": "stream",
          "name": "stdout",
          "text": [
            "Inserted b06db4 to <pinecone.index.Index object at 0x7ef6fd0335e0>\n"
          ]
        },
        {
          "output_type": "stream",
          "name": "stderr",
          "text": [
            "\rProcessing images:  11%|█         | 140/1278 [01:23<12:17,  1.54it/s]"
          ]
        },
        {
          "output_type": "stream",
          "name": "stdout",
          "text": [
            "Inserted 3247c2 to <pinecone.index.Index object at 0x7ef6fd0335e0>\n"
          ]
        },
        {
          "output_type": "stream",
          "name": "stderr",
          "text": [
            "\rProcessing images:  11%|█         | 141/1278 [01:24<13:42,  1.38it/s]"
          ]
        },
        {
          "output_type": "stream",
          "name": "stdout",
          "text": [
            "Inserted c233c2 to <pinecone.index.Index object at 0x7ef6fd0335e0>\n"
          ]
        },
        {
          "output_type": "stream",
          "name": "stderr",
          "text": [
            "\rProcessing images:  11%|█         | 142/1278 [01:24<13:49,  1.37it/s]"
          ]
        },
        {
          "output_type": "stream",
          "name": "stdout",
          "text": [
            "Inserted e8b984 to <pinecone.index.Index object at 0x7ef6fd0335e0>\n"
          ]
        },
        {
          "output_type": "stream",
          "name": "stderr",
          "text": [
            "\rProcessing images:  11%|█         | 143/1278 [01:25<12:28,  1.52it/s]"
          ]
        },
        {
          "output_type": "stream",
          "name": "stdout",
          "text": [
            "Inserted ca6d2d to <pinecone.index.Index object at 0x7ef6fd0335e0>\n"
          ]
        },
        {
          "output_type": "stream",
          "name": "stderr",
          "text": [
            "\rProcessing images:  11%|█▏        | 144/1278 [01:25<11:02,  1.71it/s]"
          ]
        },
        {
          "output_type": "stream",
          "name": "stdout",
          "text": [
            "Inserted 5d0401 to <pinecone.index.Index object at 0x7ef6fd0335e0>\n"
          ]
        },
        {
          "output_type": "stream",
          "name": "stderr",
          "text": [
            "\rProcessing images:  11%|█▏        | 145/1278 [01:26<10:03,  1.88it/s]"
          ]
        },
        {
          "output_type": "stream",
          "name": "stdout",
          "text": [
            "Inserted b9b7ca to <pinecone.index.Index object at 0x7ef6fd0335e0>\n"
          ]
        },
        {
          "output_type": "stream",
          "name": "stderr",
          "text": [
            "\rProcessing images:  11%|█▏        | 146/1278 [01:26<10:14,  1.84it/s]"
          ]
        },
        {
          "output_type": "stream",
          "name": "stdout",
          "text": [
            "Inserted 938116 to <pinecone.index.Index object at 0x7ef6fd0335e0>\n"
          ]
        },
        {
          "output_type": "stream",
          "name": "stderr",
          "text": [
            "\rProcessing images:  12%|█▏        | 147/1278 [01:27<09:32,  1.98it/s]"
          ]
        },
        {
          "output_type": "stream",
          "name": "stdout",
          "text": [
            "Inserted 413702 to <pinecone.index.Index object at 0x7ef6fd0335e0>\n"
          ]
        },
        {
          "output_type": "stream",
          "name": "stderr",
          "text": [
            "\rProcessing images:  12%|█▏        | 148/1278 [01:27<09:09,  2.06it/s]"
          ]
        },
        {
          "output_type": "stream",
          "name": "stdout",
          "text": [
            "Inserted 8b76cc to <pinecone.index.Index object at 0x7ef6fd0335e0>\n"
          ]
        },
        {
          "output_type": "stream",
          "name": "stderr",
          "text": [
            "\rProcessing images:  12%|█▏        | 149/1278 [01:28<08:40,  2.17it/s]"
          ]
        },
        {
          "output_type": "stream",
          "name": "stdout",
          "text": [
            "Inserted ab3944 to <pinecone.index.Index object at 0x7ef6fd0335e0>\n"
          ]
        },
        {
          "output_type": "stream",
          "name": "stderr",
          "text": [
            "\rProcessing images:  12%|█▏        | 150/1278 [01:28<08:24,  2.24it/s]"
          ]
        },
        {
          "output_type": "stream",
          "name": "stdout",
          "text": [
            "Inserted 762752 to <pinecone.index.Index object at 0x7ef6fd0335e0>\n"
          ]
        },
        {
          "output_type": "stream",
          "name": "stderr",
          "text": [
            "\rProcessing images:  12%|█▏        | 151/1278 [01:28<08:07,  2.31it/s]"
          ]
        },
        {
          "output_type": "stream",
          "name": "stdout",
          "text": [
            "Inserted c54b57 to <pinecone.index.Index object at 0x7ef6fd0335e0>\n"
          ]
        },
        {
          "output_type": "stream",
          "name": "stderr",
          "text": [
            "\rProcessing images:  12%|█▏        | 152/1278 [01:29<09:05,  2.07it/s]"
          ]
        },
        {
          "output_type": "stream",
          "name": "stdout",
          "text": [
            "Inserted 720c0b to <pinecone.index.Index object at 0x7ef6fd0335e0>\n"
          ]
        },
        {
          "output_type": "stream",
          "name": "stderr",
          "text": [
            "\rProcessing images:  12%|█▏        | 153/1278 [01:29<08:41,  2.16it/s]"
          ]
        },
        {
          "output_type": "stream",
          "name": "stdout",
          "text": [
            "Inserted 6eb742 to <pinecone.index.Index object at 0x7ef6fd0335e0>\n"
          ]
        },
        {
          "output_type": "stream",
          "name": "stderr",
          "text": [
            "\rProcessing images:  12%|█▏        | 154/1278 [01:30<08:38,  2.17it/s]"
          ]
        },
        {
          "output_type": "stream",
          "name": "stdout",
          "text": [
            "Inserted bab626 to <pinecone.index.Index object at 0x7ef6fd0335e0>\n"
          ]
        },
        {
          "output_type": "stream",
          "name": "stderr",
          "text": [
            "\rProcessing images:  12%|█▏        | 155/1278 [01:31<09:43,  1.92it/s]"
          ]
        },
        {
          "output_type": "stream",
          "name": "stdout",
          "text": [
            "Inserted d036a5 to <pinecone.index.Index object at 0x7ef6fd0335e0>\n"
          ]
        },
        {
          "output_type": "stream",
          "name": "stderr",
          "text": [
            "\rProcessing images:  12%|█▏        | 156/1278 [01:31<10:15,  1.82it/s]"
          ]
        },
        {
          "output_type": "stream",
          "name": "stdout",
          "text": [
            "Inserted 099ca1 to <pinecone.index.Index object at 0x7ef6fd0335e0>\n"
          ]
        },
        {
          "output_type": "stream",
          "name": "stderr",
          "text": [
            "\rProcessing images:  12%|█▏        | 157/1278 [01:32<10:21,  1.81it/s]"
          ]
        },
        {
          "output_type": "stream",
          "name": "stdout",
          "text": [
            "Inserted 2c739e to <pinecone.index.Index object at 0x7ef6fd0335e0>\n"
          ]
        },
        {
          "output_type": "stream",
          "name": "stderr",
          "text": [
            "\rProcessing images:  12%|█▏        | 158/1278 [01:32<10:37,  1.76it/s]"
          ]
        },
        {
          "output_type": "stream",
          "name": "stdout",
          "text": [
            "Inserted ab4b0a to <pinecone.index.Index object at 0x7ef6fd0335e0>\n"
          ]
        },
        {
          "output_type": "stream",
          "name": "stderr",
          "text": [
            "\rProcessing images:  12%|█▏        | 159/1278 [01:33<09:44,  1.91it/s]"
          ]
        },
        {
          "output_type": "stream",
          "name": "stdout",
          "text": [
            "Inserted b8773d to <pinecone.index.Index object at 0x7ef6fd0335e0>\n"
          ]
        },
        {
          "output_type": "stream",
          "name": "stderr",
          "text": [
            "\rProcessing images:  13%|█▎        | 160/1278 [01:33<10:18,  1.81it/s]"
          ]
        },
        {
          "output_type": "stream",
          "name": "stdout",
          "text": [
            "Inserted 3843a7 to <pinecone.index.Index object at 0x7ef6fd0335e0>\n"
          ]
        },
        {
          "output_type": "stream",
          "name": "stderr",
          "text": [
            "\rProcessing images:  13%|█▎        | 161/1278 [01:34<10:00,  1.86it/s]"
          ]
        },
        {
          "output_type": "stream",
          "name": "stdout",
          "text": [
            "Inserted 492728 to <pinecone.index.Index object at 0x7ef6fd0335e0>\n"
          ]
        },
        {
          "output_type": "stream",
          "name": "stderr",
          "text": [
            "\rProcessing images:  13%|█▎        | 162/1278 [01:34<09:53,  1.88it/s]"
          ]
        },
        {
          "output_type": "stream",
          "name": "stdout",
          "text": [
            "Inserted e38ee5 to <pinecone.index.Index object at 0x7ef6fd0335e0>\n"
          ]
        },
        {
          "output_type": "stream",
          "name": "stderr",
          "text": [
            "\rProcessing images:  13%|█▎        | 163/1278 [01:35<11:12,  1.66it/s]"
          ]
        },
        {
          "output_type": "stream",
          "name": "stdout",
          "text": [
            "Inserted 794693 to <pinecone.index.Index object at 0x7ef6fd0335e0>\n"
          ]
        },
        {
          "output_type": "stream",
          "name": "stderr",
          "text": [
            "\rProcessing images:  13%|█▎        | 164/1278 [01:36<12:18,  1.51it/s]"
          ]
        },
        {
          "output_type": "stream",
          "name": "stdout",
          "text": [
            "Inserted 169e90 to <pinecone.index.Index object at 0x7ef6fd0335e0>\n"
          ]
        },
        {
          "output_type": "stream",
          "name": "stderr",
          "text": [
            "\rProcessing images:  13%|█▎        | 165/1278 [01:37<12:15,  1.51it/s]"
          ]
        },
        {
          "output_type": "stream",
          "name": "stdout",
          "text": [
            "Inserted 9a4382 to <pinecone.index.Index object at 0x7ef6fd0335e0>\n"
          ]
        },
        {
          "output_type": "stream",
          "name": "stderr",
          "text": [
            "\rProcessing images:  13%|█▎        | 166/1278 [01:37<13:02,  1.42it/s]"
          ]
        },
        {
          "output_type": "stream",
          "name": "stdout",
          "text": [
            "Inserted ebcc96 to <pinecone.index.Index object at 0x7ef6fd0335e0>\n"
          ]
        },
        {
          "output_type": "stream",
          "name": "stderr",
          "text": [
            "\rProcessing images:  13%|█▎        | 167/1278 [01:38<13:33,  1.37it/s]"
          ]
        },
        {
          "output_type": "stream",
          "name": "stdout",
          "text": [
            "Inserted 57e6c5 to <pinecone.index.Index object at 0x7ef6fd0335e0>\n"
          ]
        },
        {
          "output_type": "stream",
          "name": "stderr",
          "text": [
            "\rProcessing images:  13%|█▎        | 168/1278 [01:39<12:18,  1.50it/s]"
          ]
        },
        {
          "output_type": "stream",
          "name": "stdout",
          "text": [
            "Inserted 105957 to <pinecone.index.Index object at 0x7ef6fd0335e0>\n"
          ]
        },
        {
          "output_type": "stream",
          "name": "stderr",
          "text": [
            "\rProcessing images:  13%|█▎        | 169/1278 [01:40<13:18,  1.39it/s]"
          ]
        },
        {
          "output_type": "stream",
          "name": "stdout",
          "text": [
            "Inserted 930b36 to <pinecone.index.Index object at 0x7ef6fd0335e0>\n"
          ]
        },
        {
          "output_type": "stream",
          "name": "stderr",
          "text": [
            "\rProcessing images:  13%|█▎        | 170/1278 [01:40<13:38,  1.35it/s]"
          ]
        },
        {
          "output_type": "stream",
          "name": "stdout",
          "text": [
            "Inserted fa77a8 to <pinecone.index.Index object at 0x7ef6fd0335e0>\n"
          ]
        },
        {
          "output_type": "stream",
          "name": "stderr",
          "text": [
            "\rProcessing images:  13%|█▎        | 171/1278 [01:41<12:00,  1.54it/s]"
          ]
        },
        {
          "output_type": "stream",
          "name": "stdout",
          "text": [
            "Inserted 4b5285 to <pinecone.index.Index object at 0x7ef6fd0335e0>\n"
          ]
        },
        {
          "output_type": "stream",
          "name": "stderr",
          "text": [
            "\rProcessing images:  13%|█▎        | 172/1278 [01:41<10:57,  1.68it/s]"
          ]
        },
        {
          "output_type": "stream",
          "name": "stdout",
          "text": [
            "Inserted f35a4a to <pinecone.index.Index object at 0x7ef6fd0335e0>\n"
          ]
        },
        {
          "output_type": "stream",
          "name": "stderr",
          "text": [
            "\rProcessing images:  14%|█▎        | 173/1278 [01:42<11:20,  1.62it/s]"
          ]
        },
        {
          "output_type": "stream",
          "name": "stdout",
          "text": [
            "Inserted cbfb4a to <pinecone.index.Index object at 0x7ef6fd0335e0>\n"
          ]
        },
        {
          "output_type": "stream",
          "name": "stderr",
          "text": [
            "\rProcessing images:  14%|█▎        | 174/1278 [01:42<10:45,  1.71it/s]"
          ]
        },
        {
          "output_type": "stream",
          "name": "stdout",
          "text": [
            "Inserted 7126ee to <pinecone.index.Index object at 0x7ef6fd0335e0>\n"
          ]
        },
        {
          "output_type": "stream",
          "name": "stderr",
          "text": [
            "\rProcessing images:  14%|█▎        | 175/1278 [01:43<09:54,  1.86it/s]"
          ]
        },
        {
          "output_type": "stream",
          "name": "stdout",
          "text": [
            "Inserted ef1cdc to <pinecone.index.Index object at 0x7ef6fd0335e0>\n"
          ]
        },
        {
          "output_type": "stream",
          "name": "stderr",
          "text": [
            "\rProcessing images:  14%|█▍        | 176/1278 [01:43<09:10,  2.00it/s]"
          ]
        },
        {
          "output_type": "stream",
          "name": "stdout",
          "text": [
            "Inserted defae6 to <pinecone.index.Index object at 0x7ef6fd0335e0>\n"
          ]
        },
        {
          "output_type": "stream",
          "name": "stderr",
          "text": [
            "\rProcessing images:  14%|█▍        | 177/1278 [01:44<08:37,  2.13it/s]"
          ]
        },
        {
          "output_type": "stream",
          "name": "stdout",
          "text": [
            "Inserted 3b9fcf to <pinecone.index.Index object at 0x7ef6fd0335e0>\n"
          ]
        },
        {
          "output_type": "stream",
          "name": "stderr",
          "text": [
            "\rProcessing images:  14%|█▍        | 178/1278 [01:44<08:25,  2.18it/s]"
          ]
        },
        {
          "output_type": "stream",
          "name": "stdout",
          "text": [
            "Inserted f0c6f9 to <pinecone.index.Index object at 0x7ef6fd0335e0>\n"
          ]
        },
        {
          "output_type": "stream",
          "name": "stderr",
          "text": [
            "\rProcessing images:  14%|█▍        | 179/1278 [01:45<10:16,  1.78it/s]"
          ]
        },
        {
          "output_type": "stream",
          "name": "stdout",
          "text": [
            "Inserted e56cf9 to <pinecone.index.Index object at 0x7ef6fd0335e0>\n"
          ]
        },
        {
          "output_type": "stream",
          "name": "stderr",
          "text": [
            "\rProcessing images:  14%|█▍        | 180/1278 [01:46<11:44,  1.56it/s]"
          ]
        },
        {
          "output_type": "stream",
          "name": "stdout",
          "text": [
            "Inserted 516f2a to <pinecone.index.Index object at 0x7ef6fd0335e0>\n"
          ]
        },
        {
          "output_type": "stream",
          "name": "stderr",
          "text": [
            "\rProcessing images:  14%|█▍        | 181/1278 [01:47<12:28,  1.47it/s]"
          ]
        },
        {
          "output_type": "stream",
          "name": "stdout",
          "text": [
            "Inserted ae7791 to <pinecone.index.Index object at 0x7ef6fd0335e0>\n"
          ]
        },
        {
          "output_type": "stream",
          "name": "stderr",
          "text": [
            "\rProcessing images:  14%|█▍        | 182/1278 [01:47<11:50,  1.54it/s]"
          ]
        },
        {
          "output_type": "stream",
          "name": "stdout",
          "text": [
            "Inserted 578319 to <pinecone.index.Index object at 0x7ef6fd0335e0>\n"
          ]
        },
        {
          "output_type": "stream",
          "name": "stderr",
          "text": [
            "\rProcessing images:  14%|█▍        | 183/1278 [01:48<13:11,  1.38it/s]"
          ]
        },
        {
          "output_type": "stream",
          "name": "stdout",
          "text": [
            "Inserted 210bc5 to <pinecone.index.Index object at 0x7ef6fd0335e0>\n"
          ]
        },
        {
          "output_type": "stream",
          "name": "stderr",
          "text": [
            "\rProcessing images:  14%|█▍        | 184/1278 [01:48<11:28,  1.59it/s]"
          ]
        },
        {
          "output_type": "stream",
          "name": "stdout",
          "text": [
            "Inserted f3aa4a to <pinecone.index.Index object at 0x7ef6fd0335e0>\n"
          ]
        },
        {
          "output_type": "stream",
          "name": "stderr",
          "text": [
            "\rProcessing images:  14%|█▍        | 185/1278 [01:49<11:28,  1.59it/s]"
          ]
        },
        {
          "output_type": "stream",
          "name": "stdout",
          "text": [
            "Inserted aceebb to <pinecone.index.Index object at 0x7ef6fd0335e0>\n"
          ]
        },
        {
          "output_type": "stream",
          "name": "stderr",
          "text": [
            "\rProcessing images:  15%|█▍        | 186/1278 [01:50<11:57,  1.52it/s]"
          ]
        },
        {
          "output_type": "stream",
          "name": "stdout",
          "text": [
            "Inserted e1273e to <pinecone.index.Index object at 0x7ef6fd0335e0>\n"
          ]
        },
        {
          "output_type": "stream",
          "name": "stderr",
          "text": [
            "\rProcessing images:  15%|█▍        | 187/1278 [01:50<11:40,  1.56it/s]"
          ]
        },
        {
          "output_type": "stream",
          "name": "stdout",
          "text": [
            "Inserted 38d4e3 to <pinecone.index.Index object at 0x7ef6fd0335e0>\n"
          ]
        },
        {
          "output_type": "stream",
          "name": "stderr",
          "text": [
            "\rProcessing images:  15%|█▍        | 188/1278 [01:51<12:19,  1.47it/s]"
          ]
        },
        {
          "output_type": "stream",
          "name": "stdout",
          "text": [
            "Inserted cfc699 to <pinecone.index.Index object at 0x7ef6fd0335e0>\n"
          ]
        },
        {
          "output_type": "stream",
          "name": "stderr",
          "text": [
            "\rProcessing images:  15%|█▍        | 189/1278 [01:52<11:25,  1.59it/s]"
          ]
        },
        {
          "output_type": "stream",
          "name": "stdout",
          "text": [
            "Inserted 0a64ec to <pinecone.index.Index object at 0x7ef6fd0335e0>\n"
          ]
        },
        {
          "output_type": "stream",
          "name": "stderr",
          "text": [
            "\rProcessing images:  15%|█▍        | 190/1278 [01:52<11:48,  1.54it/s]"
          ]
        },
        {
          "output_type": "stream",
          "name": "stdout",
          "text": [
            "Inserted ad80d5 to <pinecone.index.Index object at 0x7ef6fd0335e0>\n"
          ]
        },
        {
          "output_type": "stream",
          "name": "stderr",
          "text": [
            "\rProcessing images:  15%|█▍        | 191/1278 [01:53<12:29,  1.45it/s]"
          ]
        },
        {
          "output_type": "stream",
          "name": "stdout",
          "text": [
            "Inserted 7fbe49 to <pinecone.index.Index object at 0x7ef6fd0335e0>\n"
          ]
        },
        {
          "output_type": "stream",
          "name": "stderr",
          "text": [
            "\rProcessing images:  15%|█▌        | 192/1278 [01:54<11:54,  1.52it/s]"
          ]
        },
        {
          "output_type": "stream",
          "name": "stdout",
          "text": [
            "Inserted f586e0 to <pinecone.index.Index object at 0x7ef6fd0335e0>\n"
          ]
        },
        {
          "output_type": "stream",
          "name": "stderr",
          "text": [
            "\rProcessing images:  15%|█▌        | 193/1278 [01:54<11:02,  1.64it/s]"
          ]
        },
        {
          "output_type": "stream",
          "name": "stdout",
          "text": [
            "Inserted e8b361 to <pinecone.index.Index object at 0x7ef6fd0335e0>\n"
          ]
        },
        {
          "output_type": "stream",
          "name": "stderr",
          "text": [
            "\rProcessing images:  15%|█▌        | 194/1278 [01:55<11:54,  1.52it/s]"
          ]
        },
        {
          "output_type": "stream",
          "name": "stdout",
          "text": [
            "Inserted c13c26 to <pinecone.index.Index object at 0x7ef6fd0335e0>\n"
          ]
        },
        {
          "output_type": "stream",
          "name": "stderr",
          "text": [
            "\rProcessing images:  15%|█▌        | 195/1278 [01:56<11:33,  1.56it/s]"
          ]
        },
        {
          "output_type": "stream",
          "name": "stdout",
          "text": [
            "Inserted a15520 to <pinecone.index.Index object at 0x7ef6fd0335e0>\n"
          ]
        },
        {
          "output_type": "stream",
          "name": "stderr",
          "text": [
            "\rProcessing images:  15%|█▌        | 196/1278 [01:56<11:07,  1.62it/s]"
          ]
        },
        {
          "output_type": "stream",
          "name": "stdout",
          "text": [
            "Inserted dbfa6b to <pinecone.index.Index object at 0x7ef6fd0335e0>\n"
          ]
        },
        {
          "output_type": "stream",
          "name": "stderr",
          "text": [
            "\rProcessing images:  15%|█▌        | 197/1278 [01:57<09:59,  1.80it/s]"
          ]
        },
        {
          "output_type": "stream",
          "name": "stdout",
          "text": [
            "Inserted 1ed833 to <pinecone.index.Index object at 0x7ef6fd0335e0>\n"
          ]
        },
        {
          "output_type": "stream",
          "name": "stderr",
          "text": [
            "\rProcessing images:  15%|█▌        | 198/1278 [01:57<09:52,  1.82it/s]"
          ]
        },
        {
          "output_type": "stream",
          "name": "stdout",
          "text": [
            "Inserted 57fe6d to <pinecone.index.Index object at 0x7ef6fd0335e0>\n"
          ]
        },
        {
          "output_type": "stream",
          "name": "stderr",
          "text": [
            "\rProcessing images:  16%|█▌        | 199/1278 [01:57<08:57,  2.01it/s]"
          ]
        },
        {
          "output_type": "stream",
          "name": "stdout",
          "text": [
            "Inserted 844c42 to <pinecone.index.Index object at 0x7ef6fd0335e0>\n"
          ]
        },
        {
          "output_type": "stream",
          "name": "stderr",
          "text": [
            "\rProcessing images:  16%|█▌        | 200/1278 [01:58<08:44,  2.06it/s]"
          ]
        },
        {
          "output_type": "stream",
          "name": "stdout",
          "text": [
            "Inserted 968caf to <pinecone.index.Index object at 0x7ef6fd0335e0>\n"
          ]
        },
        {
          "output_type": "stream",
          "name": "stderr",
          "text": [
            "\rProcessing images:  16%|█▌        | 201/1278 [01:58<08:15,  2.17it/s]"
          ]
        },
        {
          "output_type": "stream",
          "name": "stdout",
          "text": [
            "Inserted 283138 to <pinecone.index.Index object at 0x7ef6fd0335e0>\n"
          ]
        },
        {
          "output_type": "stream",
          "name": "stderr",
          "text": [
            "\rProcessing images:  16%|█▌        | 202/1278 [01:59<07:51,  2.28it/s]"
          ]
        },
        {
          "output_type": "stream",
          "name": "stdout",
          "text": [
            "Inserted 373236 to <pinecone.index.Index object at 0x7ef6fd0335e0>\n"
          ]
        },
        {
          "output_type": "stream",
          "name": "stderr",
          "text": [
            "\rProcessing images:  16%|█▌        | 203/1278 [01:59<07:54,  2.26it/s]"
          ]
        },
        {
          "output_type": "stream",
          "name": "stdout",
          "text": [
            "Inserted e90f20 to <pinecone.index.Index object at 0x7ef6fd0335e0>\n"
          ]
        },
        {
          "output_type": "stream",
          "name": "stderr",
          "text": [
            "\rProcessing images:  16%|█▌        | 204/1278 [02:00<08:33,  2.09it/s]"
          ]
        },
        {
          "output_type": "stream",
          "name": "stdout",
          "text": [
            "Inserted add6fb to <pinecone.index.Index object at 0x7ef6fd0335e0>\n"
          ]
        },
        {
          "output_type": "stream",
          "name": "stderr",
          "text": [
            "\rProcessing images:  16%|█▌        | 205/1278 [02:00<08:19,  2.15it/s]"
          ]
        },
        {
          "output_type": "stream",
          "name": "stdout",
          "text": [
            "Inserted d86d3c to <pinecone.index.Index object at 0x7ef6fd0335e0>\n"
          ]
        },
        {
          "output_type": "stream",
          "name": "stderr",
          "text": [
            "\rProcessing images:  16%|█▌        | 206/1278 [02:01<08:00,  2.23it/s]"
          ]
        },
        {
          "output_type": "stream",
          "name": "stdout",
          "text": [
            "Inserted 599cca to <pinecone.index.Index object at 0x7ef6fd0335e0>\n"
          ]
        },
        {
          "output_type": "stream",
          "name": "stderr",
          "text": [
            "\rProcessing images:  16%|█▌        | 207/1278 [02:01<09:39,  1.85it/s]"
          ]
        },
        {
          "output_type": "stream",
          "name": "stdout",
          "text": [
            "Inserted 53bbe4 to <pinecone.index.Index object at 0x7ef6fd0335e0>\n"
          ]
        },
        {
          "output_type": "stream",
          "name": "stderr",
          "text": [
            "\rProcessing images:  16%|█▋        | 208/1278 [02:02<09:00,  1.98it/s]"
          ]
        },
        {
          "output_type": "stream",
          "name": "stdout",
          "text": [
            "Inserted a1de6a to <pinecone.index.Index object at 0x7ef6fd0335e0>\n"
          ]
        },
        {
          "output_type": "stream",
          "name": "stderr",
          "text": [
            "\rProcessing images:  16%|█▋        | 209/1278 [02:02<08:26,  2.11it/s]"
          ]
        },
        {
          "output_type": "stream",
          "name": "stdout",
          "text": [
            "Inserted 6f3be5 to <pinecone.index.Index object at 0x7ef6fd0335e0>\n"
          ]
        },
        {
          "output_type": "stream",
          "name": "stderr",
          "text": [
            "\rProcessing images:  16%|█▋        | 210/1278 [02:03<08:12,  2.17it/s]"
          ]
        },
        {
          "output_type": "stream",
          "name": "stdout",
          "text": [
            "Inserted 0c0398 to <pinecone.index.Index object at 0x7ef6fd0335e0>\n"
          ]
        },
        {
          "output_type": "stream",
          "name": "stderr",
          "text": [
            "\rProcessing images:  17%|█▋        | 211/1278 [02:03<07:51,  2.26it/s]"
          ]
        },
        {
          "output_type": "stream",
          "name": "stdout",
          "text": [
            "Inserted 0a8789 to <pinecone.index.Index object at 0x7ef6fd0335e0>\n"
          ]
        },
        {
          "output_type": "stream",
          "name": "stderr",
          "text": [
            "\rProcessing images:  17%|█▋        | 212/1278 [02:03<07:41,  2.31it/s]"
          ]
        },
        {
          "output_type": "stream",
          "name": "stdout",
          "text": [
            "Inserted 0814ab to <pinecone.index.Index object at 0x7ef6fd0335e0>\n"
          ]
        },
        {
          "output_type": "stream",
          "name": "stderr",
          "text": [
            "\rProcessing images:  17%|█▋        | 213/1278 [02:04<08:26,  2.10it/s]"
          ]
        },
        {
          "output_type": "stream",
          "name": "stdout",
          "text": [
            "Inserted 7a70a9 to <pinecone.index.Index object at 0x7ef6fd0335e0>\n"
          ]
        },
        {
          "output_type": "stream",
          "name": "stderr",
          "text": [
            "\rProcessing images:  17%|█▋        | 214/1278 [02:05<09:30,  1.87it/s]"
          ]
        },
        {
          "output_type": "stream",
          "name": "stdout",
          "text": [
            "Inserted 32a9b8 to <pinecone.index.Index object at 0x7ef6fd0335e0>\n"
          ]
        },
        {
          "output_type": "stream",
          "name": "stderr",
          "text": [
            "\rProcessing images:  17%|█▋        | 215/1278 [02:05<10:23,  1.70it/s]"
          ]
        },
        {
          "output_type": "stream",
          "name": "stdout",
          "text": [
            "Inserted 0c3bac to <pinecone.index.Index object at 0x7ef6fd0335e0>\n"
          ]
        },
        {
          "output_type": "stream",
          "name": "stderr",
          "text": [
            "\rProcessing images:  17%|█▋        | 216/1278 [02:06<10:29,  1.69it/s]"
          ]
        },
        {
          "output_type": "stream",
          "name": "stdout",
          "text": [
            "Inserted 93b556 to <pinecone.index.Index object at 0x7ef6fd0335e0>\n"
          ]
        },
        {
          "output_type": "stream",
          "name": "stderr",
          "text": [
            "\rProcessing images:  17%|█▋        | 217/1278 [02:07<11:54,  1.49it/s]"
          ]
        },
        {
          "output_type": "stream",
          "name": "stdout",
          "text": [
            "Inserted 54e385 to <pinecone.index.Index object at 0x7ef6fd0335e0>\n"
          ]
        },
        {
          "output_type": "stream",
          "name": "stderr",
          "text": [
            "\rProcessing images:  17%|█▋        | 218/1278 [02:07<11:41,  1.51it/s]"
          ]
        },
        {
          "output_type": "stream",
          "name": "stdout",
          "text": [
            "Inserted 70740f to <pinecone.index.Index object at 0x7ef6fd0335e0>\n"
          ]
        },
        {
          "output_type": "stream",
          "name": "stderr",
          "text": [
            "\rProcessing images:  17%|█▋        | 219/1278 [02:08<11:50,  1.49it/s]"
          ]
        },
        {
          "output_type": "stream",
          "name": "stdout",
          "text": [
            "Inserted 1cd36c to <pinecone.index.Index object at 0x7ef6fd0335e0>\n"
          ]
        },
        {
          "output_type": "stream",
          "name": "stderr",
          "text": [
            "\rProcessing images:  17%|█▋        | 220/1278 [02:09<11:23,  1.55it/s]"
          ]
        },
        {
          "output_type": "stream",
          "name": "stdout",
          "text": [
            "Inserted a374ce to <pinecone.index.Index object at 0x7ef6fd0335e0>\n"
          ]
        },
        {
          "output_type": "stream",
          "name": "stderr",
          "text": [
            "\rProcessing images:  17%|█▋        | 221/1278 [02:09<11:02,  1.60it/s]"
          ]
        },
        {
          "output_type": "stream",
          "name": "stdout",
          "text": [
            "Inserted ce7aeb to <pinecone.index.Index object at 0x7ef6fd0335e0>\n"
          ]
        },
        {
          "output_type": "stream",
          "name": "stderr",
          "text": [
            "\rProcessing images:  17%|█▋        | 222/1278 [02:10<10:45,  1.64it/s]"
          ]
        },
        {
          "output_type": "stream",
          "name": "stdout",
          "text": [
            "Inserted 628f10 to <pinecone.index.Index object at 0x7ef6fd0335e0>\n"
          ]
        },
        {
          "output_type": "stream",
          "name": "stderr",
          "text": [
            "\rProcessing images:  17%|█▋        | 223/1278 [02:11<13:22,  1.31it/s]"
          ]
        },
        {
          "output_type": "stream",
          "name": "stdout",
          "text": [
            "Inserted b43f05 to <pinecone.index.Index object at 0x7ef6fd0335e0>\n"
          ]
        },
        {
          "output_type": "stream",
          "name": "stderr",
          "text": [
            "\rProcessing images:  18%|█▊        | 224/1278 [02:11<11:44,  1.50it/s]"
          ]
        },
        {
          "output_type": "stream",
          "name": "stdout",
          "text": [
            "Inserted 21d86b to <pinecone.index.Index object at 0x7ef6fd0335e0>\n"
          ]
        },
        {
          "output_type": "stream",
          "name": "stderr",
          "text": [
            "\rProcessing images:  18%|█▊        | 225/1278 [02:12<10:34,  1.66it/s]"
          ]
        },
        {
          "output_type": "stream",
          "name": "stdout",
          "text": [
            "Inserted c3856e to <pinecone.index.Index object at 0x7ef6fd0335e0>\n"
          ]
        },
        {
          "output_type": "stream",
          "name": "stderr",
          "text": [
            "\rProcessing images:  18%|█▊        | 226/1278 [02:12<10:23,  1.69it/s]"
          ]
        },
        {
          "output_type": "stream",
          "name": "stdout",
          "text": [
            "Inserted ca41b3 to <pinecone.index.Index object at 0x7ef6fd0335e0>\n"
          ]
        },
        {
          "output_type": "stream",
          "name": "stderr",
          "text": [
            "\rProcessing images:  18%|█▊        | 227/1278 [02:13<10:32,  1.66it/s]"
          ]
        },
        {
          "output_type": "stream",
          "name": "stdout",
          "text": [
            "Inserted c6cc3f to <pinecone.index.Index object at 0x7ef6fd0335e0>\n"
          ]
        },
        {
          "output_type": "stream",
          "name": "stderr",
          "text": [
            "\rProcessing images:  18%|█▊        | 228/1278 [02:14<11:00,  1.59it/s]"
          ]
        },
        {
          "output_type": "stream",
          "name": "stdout",
          "text": [
            "Inserted 8f9e60 to <pinecone.index.Index object at 0x7ef6fd0335e0>\n"
          ]
        },
        {
          "output_type": "stream",
          "name": "stderr",
          "text": [
            "\rProcessing images:  18%|█▊        | 229/1278 [02:14<11:10,  1.56it/s]"
          ]
        },
        {
          "output_type": "stream",
          "name": "stdout",
          "text": [
            "Inserted 58d85f to <pinecone.index.Index object at 0x7ef6fd0335e0>\n"
          ]
        },
        {
          "output_type": "stream",
          "name": "stderr",
          "text": [
            "\rProcessing images:  18%|█▊        | 230/1278 [02:15<10:01,  1.74it/s]"
          ]
        },
        {
          "output_type": "stream",
          "name": "stdout",
          "text": [
            "Inserted b059fa to <pinecone.index.Index object at 0x7ef6fd0335e0>\n"
          ]
        },
        {
          "output_type": "stream",
          "name": "stderr",
          "text": [
            "\rProcessing images:  18%|█▊        | 231/1278 [02:15<09:03,  1.93it/s]"
          ]
        },
        {
          "output_type": "stream",
          "name": "stdout",
          "text": [
            "Inserted 0c1e38 to <pinecone.index.Index object at 0x7ef6fd0335e0>\n"
          ]
        },
        {
          "output_type": "stream",
          "name": "stderr",
          "text": [
            "\rProcessing images:  18%|█▊        | 232/1278 [02:16<09:58,  1.75it/s]"
          ]
        },
        {
          "output_type": "stream",
          "name": "stdout",
          "text": [
            "Inserted 741d6e to <pinecone.index.Index object at 0x7ef6fd0335e0>\n"
          ]
        },
        {
          "output_type": "stream",
          "name": "stderr",
          "text": [
            "\rProcessing images:  18%|█▊        | 233/1278 [02:16<09:14,  1.89it/s]"
          ]
        },
        {
          "output_type": "stream",
          "name": "stdout",
          "text": [
            "Inserted 7a849a to <pinecone.index.Index object at 0x7ef6fd0335e0>\n"
          ]
        },
        {
          "output_type": "stream",
          "name": "stderr",
          "text": [
            "\rProcessing images:  18%|█▊        | 234/1278 [02:17<08:30,  2.04it/s]"
          ]
        },
        {
          "output_type": "stream",
          "name": "stdout",
          "text": [
            "Inserted 0a7a85 to <pinecone.index.Index object at 0x7ef6fd0335e0>\n"
          ]
        },
        {
          "output_type": "stream",
          "name": "stderr",
          "text": [
            "\rProcessing images:  18%|█▊        | 235/1278 [02:17<08:43,  1.99it/s]"
          ]
        },
        {
          "output_type": "stream",
          "name": "stdout",
          "text": [
            "Inserted ed1c6a to <pinecone.index.Index object at 0x7ef6fd0335e0>\n"
          ]
        },
        {
          "output_type": "stream",
          "name": "stderr",
          "text": [
            "\rProcessing images:  18%|█▊        | 236/1278 [02:18<09:05,  1.91it/s]"
          ]
        },
        {
          "output_type": "stream",
          "name": "stdout",
          "text": [
            "Inserted f99ea0 to <pinecone.index.Index object at 0x7ef6fd0335e0>\n"
          ]
        },
        {
          "output_type": "stream",
          "name": "stderr",
          "text": [
            "\rProcessing images:  19%|█▊        | 237/1278 [02:18<09:06,  1.91it/s]"
          ]
        },
        {
          "output_type": "stream",
          "name": "stdout",
          "text": [
            "Inserted 3543bc to <pinecone.index.Index object at 0x7ef6fd0335e0>\n"
          ]
        },
        {
          "output_type": "stream",
          "name": "stderr",
          "text": [
            "\rProcessing images:  19%|█▊        | 238/1278 [02:19<08:20,  2.08it/s]"
          ]
        },
        {
          "output_type": "stream",
          "name": "stdout",
          "text": [
            "Inserted 8a1953 to <pinecone.index.Index object at 0x7ef6fd0335e0>\n"
          ]
        },
        {
          "output_type": "stream",
          "name": "stderr",
          "text": [
            "\rProcessing images:  19%|█▊        | 239/1278 [02:19<07:54,  2.19it/s]"
          ]
        },
        {
          "output_type": "stream",
          "name": "stdout",
          "text": [
            "Inserted da6dac to <pinecone.index.Index object at 0x7ef6fd0335e0>\n"
          ]
        },
        {
          "output_type": "stream",
          "name": "stderr",
          "text": [
            "\rProcessing images:  19%|█▉        | 240/1278 [02:20<07:45,  2.23it/s]"
          ]
        },
        {
          "output_type": "stream",
          "name": "stdout",
          "text": [
            "Inserted a0d16f to <pinecone.index.Index object at 0x7ef6fd0335e0>\n"
          ]
        },
        {
          "output_type": "stream",
          "name": "stderr",
          "text": [
            "\rProcessing images:  19%|█▉        | 241/1278 [02:20<07:43,  2.24it/s]"
          ]
        },
        {
          "output_type": "stream",
          "name": "stdout",
          "text": [
            "Inserted 739769 to <pinecone.index.Index object at 0x7ef6fd0335e0>\n"
          ]
        },
        {
          "output_type": "stream",
          "name": "stderr",
          "text": [
            "\rProcessing images:  19%|█▉        | 242/1278 [02:21<10:10,  1.70it/s]"
          ]
        },
        {
          "output_type": "stream",
          "name": "stdout",
          "text": [
            "Inserted c62b7e to <pinecone.index.Index object at 0x7ef6fd0335e0>\n"
          ]
        },
        {
          "output_type": "stream",
          "name": "stderr",
          "text": [
            "\rProcessing images:  19%|█▉        | 243/1278 [02:22<10:17,  1.67it/s]"
          ]
        },
        {
          "output_type": "stream",
          "name": "stdout",
          "text": [
            "Inserted 8b6c9e to <pinecone.index.Index object at 0x7ef6fd0335e0>\n"
          ]
        },
        {
          "output_type": "stream",
          "name": "stderr",
          "text": [
            "\rProcessing images:  19%|█▉        | 244/1278 [02:22<09:45,  1.77it/s]"
          ]
        },
        {
          "output_type": "stream",
          "name": "stdout",
          "text": [
            "Inserted 9d73ce to <pinecone.index.Index object at 0x7ef6fd0335e0>\n"
          ]
        },
        {
          "output_type": "stream",
          "name": "stderr",
          "text": [
            "\rProcessing images:  19%|█▉        | 245/1278 [02:23<09:30,  1.81it/s]"
          ]
        },
        {
          "output_type": "stream",
          "name": "stdout",
          "text": [
            "Inserted ffd9cb to <pinecone.index.Index object at 0x7ef6fd0335e0>\n"
          ]
        },
        {
          "output_type": "stream",
          "name": "stderr",
          "text": [
            "\rProcessing images:  19%|█▉        | 246/1278 [02:23<09:26,  1.82it/s]"
          ]
        },
        {
          "output_type": "stream",
          "name": "stdout",
          "text": [
            "Inserted cc4d87 to <pinecone.index.Index object at 0x7ef6fd0335e0>\n"
          ]
        },
        {
          "output_type": "stream",
          "name": "stderr",
          "text": [
            "\rProcessing images:  19%|█▉        | 247/1278 [02:24<09:29,  1.81it/s]"
          ]
        },
        {
          "output_type": "stream",
          "name": "stdout",
          "text": [
            "Inserted 9e700d to <pinecone.index.Index object at 0x7ef6fd0335e0>\n"
          ]
        },
        {
          "output_type": "stream",
          "name": "stderr",
          "text": [
            "\rProcessing images:  19%|█▉        | 248/1278 [02:24<10:36,  1.62it/s]"
          ]
        },
        {
          "output_type": "stream",
          "name": "stdout",
          "text": [
            "Inserted 9c8cb1 to <pinecone.index.Index object at 0x7ef6fd0335e0>\n"
          ]
        },
        {
          "output_type": "stream",
          "name": "stderr",
          "text": [
            "\rProcessing images:  19%|█▉        | 249/1278 [02:25<10:07,  1.69it/s]"
          ]
        },
        {
          "output_type": "stream",
          "name": "stdout",
          "text": [
            "Inserted 1ea2bc to <pinecone.index.Index object at 0x7ef6fd0335e0>\n"
          ]
        },
        {
          "output_type": "stream",
          "name": "stderr",
          "text": [
            "\rProcessing images:  20%|█▉        | 250/1278 [02:26<10:55,  1.57it/s]"
          ]
        },
        {
          "output_type": "stream",
          "name": "stdout",
          "text": [
            "Inserted d8de55 to <pinecone.index.Index object at 0x7ef6fd0335e0>\n"
          ]
        },
        {
          "output_type": "stream",
          "name": "stderr",
          "text": [
            "\rProcessing images:  20%|█▉        | 251/1278 [02:29<22:22,  1.31s/it]"
          ]
        },
        {
          "output_type": "stream",
          "name": "stdout",
          "text": [
            "Inserted c5cf5f to <pinecone.index.Index object at 0x7ef6fd0335e0>\n"
          ]
        },
        {
          "output_type": "stream",
          "name": "stderr",
          "text": [
            "\rProcessing images:  20%|█▉        | 252/1278 [02:29<18:53,  1.11s/it]"
          ]
        },
        {
          "output_type": "stream",
          "name": "stdout",
          "text": [
            "Inserted 1ce534 to <pinecone.index.Index object at 0x7ef6fd0335e0>\n"
          ]
        },
        {
          "output_type": "stream",
          "name": "stderr",
          "text": [
            "\rProcessing images:  20%|█▉        | 253/1278 [02:30<15:26,  1.11it/s]"
          ]
        },
        {
          "output_type": "stream",
          "name": "stdout",
          "text": [
            "Inserted bc9cc0 to <pinecone.index.Index object at 0x7ef6fd0335e0>\n"
          ]
        },
        {
          "output_type": "stream",
          "name": "stderr",
          "text": [
            "\rProcessing images:  20%|█▉        | 254/1278 [02:30<12:48,  1.33it/s]"
          ]
        },
        {
          "output_type": "stream",
          "name": "stdout",
          "text": [
            "Inserted 26f7e2 to <pinecone.index.Index object at 0x7ef6fd0335e0>\n"
          ]
        },
        {
          "output_type": "stream",
          "name": "stderr",
          "text": [
            "\rProcessing images:  20%|█▉        | 255/1278 [02:32<17:06,  1.00s/it]"
          ]
        },
        {
          "output_type": "stream",
          "name": "stdout",
          "text": [
            "Inserted 0a3b55 to <pinecone.index.Index object at 0x7ef6fd0335e0>\n"
          ]
        },
        {
          "output_type": "stream",
          "name": "stderr",
          "text": [
            "\rProcessing images:  20%|██        | 256/1278 [02:32<14:13,  1.20it/s]"
          ]
        },
        {
          "output_type": "stream",
          "name": "stdout",
          "text": [
            "Inserted ad21aa to <pinecone.index.Index object at 0x7ef6fd0335e0>\n"
          ]
        },
        {
          "output_type": "stream",
          "name": "stderr",
          "text": [
            "\rProcessing images:  20%|██        | 257/1278 [02:33<12:47,  1.33it/s]"
          ]
        },
        {
          "output_type": "stream",
          "name": "stdout",
          "text": [
            "Inserted 64dbdd to <pinecone.index.Index object at 0x7ef6fd0335e0>\n"
          ]
        },
        {
          "output_type": "stream",
          "name": "stderr",
          "text": [
            "\rProcessing images:  20%|██        | 258/1278 [02:33<11:11,  1.52it/s]"
          ]
        },
        {
          "output_type": "stream",
          "name": "stdout",
          "text": [
            "Inserted 940bd4 to <pinecone.index.Index object at 0x7ef6fd0335e0>\n"
          ]
        },
        {
          "output_type": "stream",
          "name": "stderr",
          "text": [
            "\rProcessing images:  20%|██        | 259/1278 [02:34<10:38,  1.60it/s]"
          ]
        },
        {
          "output_type": "stream",
          "name": "stdout",
          "text": [
            "Inserted e463b5 to <pinecone.index.Index object at 0x7ef6fd0335e0>\n"
          ]
        },
        {
          "output_type": "stream",
          "name": "stderr",
          "text": [
            "\rProcessing images:  20%|██        | 260/1278 [02:34<09:42,  1.75it/s]"
          ]
        },
        {
          "output_type": "stream",
          "name": "stdout",
          "text": [
            "Inserted 068877 to <pinecone.index.Index object at 0x7ef6fd0335e0>\n"
          ]
        },
        {
          "output_type": "stream",
          "name": "stderr",
          "text": [
            "\rProcessing images:  20%|██        | 261/1278 [02:35<08:56,  1.89it/s]"
          ]
        },
        {
          "output_type": "stream",
          "name": "stdout",
          "text": [
            "Skipping faulty image from URL: https://prod-images-static.radiopaedia.org/images/60287803/bd50ac6a23420accacfbed200a475c3c1a416820c1c5e977f5cf82b0bb047845.jpeg\n"
          ]
        },
        {
          "output_type": "stream",
          "name": "stderr",
          "text": [
            "\rProcessing images:  21%|██        | 262/1278 [02:35<09:05,  1.86it/s]"
          ]
        },
        {
          "output_type": "stream",
          "name": "stdout",
          "text": [
            "Inserted fd18c2 to <pinecone.index.Index object at 0x7ef6fd0335e0>\n"
          ]
        },
        {
          "output_type": "stream",
          "name": "stderr",
          "text": [
            "\rProcessing images:  21%|██        | 263/1278 [02:36<10:14,  1.65it/s]"
          ]
        },
        {
          "output_type": "stream",
          "name": "stdout",
          "text": [
            "Inserted 6911e0 to <pinecone.index.Index object at 0x7ef6fd0335e0>\n"
          ]
        },
        {
          "output_type": "stream",
          "name": "stderr",
          "text": [
            "\rProcessing images:  21%|██        | 264/1278 [02:36<10:01,  1.69it/s]"
          ]
        },
        {
          "output_type": "stream",
          "name": "stdout",
          "text": [
            "Inserted fc780b to <pinecone.index.Index object at 0x7ef6fd0335e0>\n"
          ]
        },
        {
          "output_type": "stream",
          "name": "stderr",
          "text": [
            "\rProcessing images:  21%|██        | 265/1278 [02:37<10:25,  1.62it/s]"
          ]
        },
        {
          "output_type": "stream",
          "name": "stdout",
          "text": [
            "Inserted 96e015 to <pinecone.index.Index object at 0x7ef6fd0335e0>\n"
          ]
        },
        {
          "output_type": "stream",
          "name": "stderr",
          "text": [
            "\rProcessing images:  21%|██        | 266/1278 [02:38<09:44,  1.73it/s]"
          ]
        },
        {
          "output_type": "stream",
          "name": "stdout",
          "text": [
            "Inserted 16953d to <pinecone.index.Index object at 0x7ef6fd0335e0>\n"
          ]
        },
        {
          "output_type": "stream",
          "name": "stderr",
          "text": [
            "\rProcessing images:  21%|██        | 267/1278 [02:38<11:05,  1.52it/s]"
          ]
        },
        {
          "output_type": "stream",
          "name": "stdout",
          "text": [
            "Inserted 3894df to <pinecone.index.Index object at 0x7ef6fd0335e0>\n"
          ]
        },
        {
          "output_type": "stream",
          "name": "stderr",
          "text": [
            "\rProcessing images:  21%|██        | 268/1278 [02:39<10:33,  1.59it/s]"
          ]
        },
        {
          "output_type": "stream",
          "name": "stdout",
          "text": [
            "Inserted 38e33b to <pinecone.index.Index object at 0x7ef6fd0335e0>\n"
          ]
        },
        {
          "output_type": "stream",
          "name": "stderr",
          "text": [
            "\rProcessing images:  21%|██        | 269/1278 [02:39<09:57,  1.69it/s]"
          ]
        },
        {
          "output_type": "stream",
          "name": "stdout",
          "text": [
            "Inserted f417e6 to <pinecone.index.Index object at 0x7ef6fd0335e0>\n"
          ]
        },
        {
          "output_type": "stream",
          "name": "stderr",
          "text": [
            "\rProcessing images:  21%|██        | 270/1278 [02:40<09:47,  1.71it/s]"
          ]
        },
        {
          "output_type": "stream",
          "name": "stdout",
          "text": [
            "Inserted 1f07e6 to <pinecone.index.Index object at 0x7ef6fd0335e0>\n"
          ]
        },
        {
          "output_type": "stream",
          "name": "stderr",
          "text": [
            "\rProcessing images:  21%|██        | 271/1278 [02:42<15:52,  1.06it/s]"
          ]
        },
        {
          "output_type": "stream",
          "name": "stdout",
          "text": [
            "Inserted 6baa37 to <pinecone.index.Index object at 0x7ef6fd0335e0>\n"
          ]
        },
        {
          "output_type": "stream",
          "name": "stderr",
          "text": [
            "\rProcessing images:  21%|██▏       | 272/1278 [02:42<13:31,  1.24it/s]"
          ]
        },
        {
          "output_type": "stream",
          "name": "stdout",
          "text": [
            "Inserted 2f313d to <pinecone.index.Index object at 0x7ef6fd0335e0>\n"
          ]
        },
        {
          "output_type": "stream",
          "name": "stderr",
          "text": [
            "\rProcessing images:  21%|██▏       | 273/1278 [02:44<16:05,  1.04it/s]"
          ]
        },
        {
          "output_type": "stream",
          "name": "stdout",
          "text": [
            "Inserted 72117b to <pinecone.index.Index object at 0x7ef6fd0335e0>\n"
          ]
        },
        {
          "output_type": "stream",
          "name": "stderr",
          "text": [
            "\rProcessing images:  21%|██▏       | 274/1278 [02:44<13:31,  1.24it/s]"
          ]
        },
        {
          "output_type": "stream",
          "name": "stdout",
          "text": [
            "Inserted a2bcb9 to <pinecone.index.Index object at 0x7ef6fd0335e0>\n"
          ]
        },
        {
          "output_type": "stream",
          "name": "stderr",
          "text": [
            "\rProcessing images:  22%|██▏       | 275/1278 [02:45<11:59,  1.39it/s]"
          ]
        },
        {
          "output_type": "stream",
          "name": "stdout",
          "text": [
            "Inserted 3d3f78 to <pinecone.index.Index object at 0x7ef6fd0335e0>\n"
          ]
        },
        {
          "output_type": "stream",
          "name": "stderr",
          "text": [
            "\rProcessing images:  22%|██▏       | 276/1278 [02:45<11:48,  1.41it/s]"
          ]
        },
        {
          "output_type": "stream",
          "name": "stdout",
          "text": [
            "Skipping faulty image from URL: https://prod-images-static.radiopaedia.org/images/60010069/1dca0e7aa8da8677bddb4faad3ed5f489a08c353d330f12688bbbd1933172f81.jpg\n"
          ]
        },
        {
          "output_type": "stream",
          "name": "stderr",
          "text": [
            "\rProcessing images:  22%|██▏       | 277/1278 [02:46<12:04,  1.38it/s]"
          ]
        },
        {
          "output_type": "stream",
          "name": "stdout",
          "text": [
            "Inserted af06d6 to <pinecone.index.Index object at 0x7ef6fd0335e0>\n"
          ]
        },
        {
          "output_type": "stream",
          "name": "stderr",
          "text": [
            "\rProcessing images:  22%|██▏       | 278/1278 [02:47<12:53,  1.29it/s]"
          ]
        },
        {
          "output_type": "stream",
          "name": "stdout",
          "text": [
            "Inserted 31fca3 to <pinecone.index.Index object at 0x7ef6fd0335e0>\n"
          ]
        },
        {
          "output_type": "stream",
          "name": "stderr",
          "text": [
            "\rProcessing images:  22%|██▏       | 279/1278 [02:48<13:18,  1.25it/s]"
          ]
        },
        {
          "output_type": "stream",
          "name": "stdout",
          "text": [
            "Inserted fbe366 to <pinecone.index.Index object at 0x7ef6fd0335e0>\n"
          ]
        },
        {
          "output_type": "stream",
          "name": "stderr",
          "text": [
            "\rProcessing images:  22%|██▏       | 280/1278 [02:48<11:16,  1.48it/s]"
          ]
        },
        {
          "output_type": "stream",
          "name": "stdout",
          "text": [
            "Inserted a5358f to <pinecone.index.Index object at 0x7ef6fd0335e0>\n"
          ]
        },
        {
          "output_type": "stream",
          "name": "stderr",
          "text": [
            "\rProcessing images:  22%|██▏       | 281/1278 [02:49<12:16,  1.35it/s]"
          ]
        },
        {
          "output_type": "stream",
          "name": "stdout",
          "text": [
            "Inserted 52bf7c to <pinecone.index.Index object at 0x7ef6fd0335e0>\n"
          ]
        },
        {
          "output_type": "stream",
          "name": "stderr",
          "text": [
            "\rProcessing images:  22%|██▏       | 282/1278 [02:49<10:35,  1.57it/s]"
          ]
        },
        {
          "output_type": "stream",
          "name": "stdout",
          "text": [
            "Inserted 51464c to <pinecone.index.Index object at 0x7ef6fd0335e0>\n"
          ]
        },
        {
          "output_type": "stream",
          "name": "stderr",
          "text": [
            "\rProcessing images:  22%|██▏       | 283/1278 [02:50<09:32,  1.74it/s]"
          ]
        },
        {
          "output_type": "stream",
          "name": "stdout",
          "text": [
            "Inserted 5d769f to <pinecone.index.Index object at 0x7ef6fd0335e0>\n"
          ]
        },
        {
          "output_type": "stream",
          "name": "stderr",
          "text": [
            "\rProcessing images:  22%|██▏       | 284/1278 [02:50<08:44,  1.90it/s]"
          ]
        },
        {
          "output_type": "stream",
          "name": "stdout",
          "text": [
            "Inserted 3f3ae3 to <pinecone.index.Index object at 0x7ef6fd0335e0>\n"
          ]
        },
        {
          "output_type": "stream",
          "name": "stderr",
          "text": [
            "\rProcessing images:  22%|██▏       | 285/1278 [02:51<08:31,  1.94it/s]"
          ]
        },
        {
          "output_type": "stream",
          "name": "stdout",
          "text": [
            "Inserted 1132ff to <pinecone.index.Index object at 0x7ef6fd0335e0>\n"
          ]
        },
        {
          "output_type": "stream",
          "name": "stderr",
          "text": [
            "\rProcessing images:  22%|██▏       | 286/1278 [02:53<14:42,  1.12it/s]"
          ]
        },
        {
          "output_type": "stream",
          "name": "stdout",
          "text": [
            "Inserted 1b5a18 to <pinecone.index.Index object at 0x7ef6fd0335e0>\n"
          ]
        },
        {
          "output_type": "stream",
          "name": "stderr",
          "text": [
            "\rProcessing images:  22%|██▏       | 287/1278 [02:53<13:22,  1.24it/s]"
          ]
        },
        {
          "output_type": "stream",
          "name": "stdout",
          "text": [
            "Inserted 35555b to <pinecone.index.Index object at 0x7ef6fd0335e0>\n"
          ]
        },
        {
          "output_type": "stream",
          "name": "stderr",
          "text": [
            "\rProcessing images:  23%|██▎       | 288/1278 [02:54<12:30,  1.32it/s]"
          ]
        },
        {
          "output_type": "stream",
          "name": "stdout",
          "text": [
            "Inserted 06beff to <pinecone.index.Index object at 0x7ef6fd0335e0>\n"
          ]
        },
        {
          "output_type": "stream",
          "name": "stderr",
          "text": [
            "\rProcessing images:  23%|██▎       | 289/1278 [02:55<12:10,  1.35it/s]"
          ]
        },
        {
          "output_type": "stream",
          "name": "stdout",
          "text": [
            "Inserted 31a208 to <pinecone.index.Index object at 0x7ef6fd0335e0>\n"
          ]
        },
        {
          "output_type": "stream",
          "name": "stderr",
          "text": [
            "\rProcessing images:  23%|██▎       | 290/1278 [02:55<11:31,  1.43it/s]"
          ]
        },
        {
          "output_type": "stream",
          "name": "stdout",
          "text": [
            "Inserted 0ad469 to <pinecone.index.Index object at 0x7ef6fd0335e0>\n"
          ]
        },
        {
          "output_type": "stream",
          "name": "stderr",
          "text": [
            "\rProcessing images:  23%|██▎       | 291/1278 [02:56<10:52,  1.51it/s]"
          ]
        },
        {
          "output_type": "stream",
          "name": "stdout",
          "text": [
            "Inserted 3eb456 to <pinecone.index.Index object at 0x7ef6fd0335e0>\n"
          ]
        },
        {
          "output_type": "stream",
          "name": "stderr",
          "text": [
            "\rProcessing images:  23%|██▎       | 292/1278 [02:56<10:00,  1.64it/s]"
          ]
        },
        {
          "output_type": "stream",
          "name": "stdout",
          "text": [
            "Inserted c9871f to <pinecone.index.Index object at 0x7ef6fd0335e0>\n"
          ]
        },
        {
          "output_type": "stream",
          "name": "stderr",
          "text": [
            "\rProcessing images:  23%|██▎       | 293/1278 [02:57<10:30,  1.56it/s]"
          ]
        },
        {
          "output_type": "stream",
          "name": "stdout",
          "text": [
            "Inserted b9240e to <pinecone.index.Index object at 0x7ef6fd0335e0>\n"
          ]
        },
        {
          "output_type": "stream",
          "name": "stderr",
          "text": [
            "\rProcessing images:  23%|██▎       | 294/1278 [02:58<11:26,  1.43it/s]"
          ]
        },
        {
          "output_type": "stream",
          "name": "stdout",
          "text": [
            "Inserted 497556 to <pinecone.index.Index object at 0x7ef6fd0335e0>\n"
          ]
        },
        {
          "output_type": "stream",
          "name": "stderr",
          "text": [
            "\rProcessing images:  23%|██▎       | 295/1278 [02:58<09:55,  1.65it/s]"
          ]
        },
        {
          "output_type": "stream",
          "name": "stdout",
          "text": [
            "Inserted 73723b to <pinecone.index.Index object at 0x7ef6fd0335e0>\n"
          ]
        },
        {
          "output_type": "stream",
          "name": "stderr",
          "text": [
            "\rProcessing images:  23%|██▎       | 296/1278 [02:59<09:07,  1.79it/s]"
          ]
        },
        {
          "output_type": "stream",
          "name": "stdout",
          "text": [
            "Inserted 26d914 to <pinecone.index.Index object at 0x7ef6fd0335e0>\n"
          ]
        },
        {
          "output_type": "stream",
          "name": "stderr",
          "text": [
            "\rProcessing images:  23%|██▎       | 297/1278 [02:59<09:09,  1.78it/s]"
          ]
        },
        {
          "output_type": "stream",
          "name": "stdout",
          "text": [
            "Inserted adad4d to <pinecone.index.Index object at 0x7ef6fd0335e0>\n"
          ]
        },
        {
          "output_type": "stream",
          "name": "stderr",
          "text": [
            "\rProcessing images:  23%|██▎       | 298/1278 [03:00<09:12,  1.77it/s]"
          ]
        },
        {
          "output_type": "stream",
          "name": "stdout",
          "text": [
            "Inserted 9053ff to <pinecone.index.Index object at 0x7ef6fd0335e0>\n"
          ]
        },
        {
          "output_type": "stream",
          "name": "stderr",
          "text": [
            "\rProcessing images:  23%|██▎       | 299/1278 [03:01<10:18,  1.58it/s]"
          ]
        },
        {
          "output_type": "stream",
          "name": "stdout",
          "text": [
            "Inserted 3f1159 to <pinecone.index.Index object at 0x7ef6fd0335e0>\n"
          ]
        },
        {
          "output_type": "stream",
          "name": "stderr",
          "text": [
            "\rProcessing images:  23%|██▎       | 300/1278 [03:01<09:40,  1.68it/s]"
          ]
        },
        {
          "output_type": "stream",
          "name": "stdout",
          "text": [
            "Inserted b01b7b to <pinecone.index.Index object at 0x7ef6fd0335e0>\n"
          ]
        },
        {
          "output_type": "stream",
          "name": "stderr",
          "text": [
            "\rProcessing images:  24%|██▎       | 301/1278 [03:01<08:54,  1.83it/s]"
          ]
        },
        {
          "output_type": "stream",
          "name": "stdout",
          "text": [
            "Inserted 0599dd to <pinecone.index.Index object at 0x7ef6fd0335e0>\n"
          ]
        },
        {
          "output_type": "stream",
          "name": "stderr",
          "text": [
            "\rProcessing images:  24%|██▎       | 302/1278 [03:02<09:31,  1.71it/s]"
          ]
        },
        {
          "output_type": "stream",
          "name": "stdout",
          "text": [
            "Inserted fc212d to <pinecone.index.Index object at 0x7ef6fd0335e0>\n"
          ]
        },
        {
          "output_type": "stream",
          "name": "stderr",
          "text": [
            "\rProcessing images:  24%|██▎       | 303/1278 [03:03<10:39,  1.53it/s]"
          ]
        },
        {
          "output_type": "stream",
          "name": "stdout",
          "text": [
            "Inserted 86dd06 to <pinecone.index.Index object at 0x7ef6fd0335e0>\n"
          ]
        },
        {
          "output_type": "stream",
          "name": "stderr",
          "text": [
            "\rProcessing images:  24%|██▍       | 304/1278 [03:04<13:31,  1.20it/s]"
          ]
        },
        {
          "output_type": "stream",
          "name": "stdout",
          "text": [
            "Inserted 2b2a46 to <pinecone.index.Index object at 0x7ef6fd0335e0>\n"
          ]
        },
        {
          "output_type": "stream",
          "name": "stderr",
          "text": [
            "\rProcessing images:  24%|██▍       | 305/1278 [03:05<11:32,  1.40it/s]"
          ]
        },
        {
          "output_type": "stream",
          "name": "stdout",
          "text": [
            "Inserted 828716 to <pinecone.index.Index object at 0x7ef6fd0335e0>\n"
          ]
        },
        {
          "output_type": "stream",
          "name": "stderr",
          "text": [
            "\rProcessing images:  24%|██▍       | 306/1278 [03:05<10:08,  1.60it/s]"
          ]
        },
        {
          "output_type": "stream",
          "name": "stdout",
          "text": [
            "Skipping faulty image from URL: https://prod-images-static.radiopaedia.org/images/59577315/fa6731714002a57f65b301506466048a98710799b19835d99c8270ae4d7058f7.png\n"
          ]
        },
        {
          "output_type": "stream",
          "name": "stderr",
          "text": [
            "\rProcessing images:  24%|██▍       | 307/1278 [03:06<09:58,  1.62it/s]"
          ]
        },
        {
          "output_type": "stream",
          "name": "stdout",
          "text": [
            "Inserted 19eafa to <pinecone.index.Index object at 0x7ef6fd0335e0>\n"
          ]
        },
        {
          "output_type": "stream",
          "name": "stderr",
          "text": [
            "\rProcessing images:  24%|██▍       | 308/1278 [03:06<09:34,  1.69it/s]"
          ]
        },
        {
          "output_type": "stream",
          "name": "stdout",
          "text": [
            "Inserted f650d3 to <pinecone.index.Index object at 0x7ef6fd0335e0>\n"
          ]
        },
        {
          "output_type": "stream",
          "name": "stderr",
          "text": [
            "\rProcessing images:  24%|██▍       | 309/1278 [03:07<08:53,  1.82it/s]"
          ]
        },
        {
          "output_type": "stream",
          "name": "stdout",
          "text": [
            "Inserted 9bca65 to <pinecone.index.Index object at 0x7ef6fd0335e0>\n"
          ]
        },
        {
          "output_type": "stream",
          "name": "stderr",
          "text": [
            "\rProcessing images:  24%|██▍       | 310/1278 [03:07<09:17,  1.74it/s]"
          ]
        },
        {
          "output_type": "stream",
          "name": "stdout",
          "text": [
            "Skipping faulty image from URL: https://prod-images-static.radiopaedia.org/images/59455862/964cd4e10bac648c233a47eaf7ac9b89837c7da2163efd2ef98f4ae5ad0b6b9c.png\n"
          ]
        },
        {
          "output_type": "stream",
          "name": "stderr",
          "text": [
            "\rProcessing images:  24%|██▍       | 311/1278 [03:08<09:01,  1.78it/s]"
          ]
        },
        {
          "output_type": "stream",
          "name": "stdout",
          "text": [
            "Inserted f8e339 to <pinecone.index.Index object at 0x7ef6fd0335e0>\n"
          ]
        },
        {
          "output_type": "stream",
          "name": "stderr",
          "text": [
            "\rProcessing images:  24%|██▍       | 312/1278 [03:09<10:28,  1.54it/s]"
          ]
        },
        {
          "output_type": "stream",
          "name": "stdout",
          "text": [
            "Inserted f2ff80 to <pinecone.index.Index object at 0x7ef6fd0335e0>\n"
          ]
        },
        {
          "output_type": "stream",
          "name": "stderr",
          "text": [
            "\rProcessing images:  24%|██▍       | 313/1278 [03:09<09:46,  1.65it/s]"
          ]
        },
        {
          "output_type": "stream",
          "name": "stdout",
          "text": [
            "Inserted d03342 to <pinecone.index.Index object at 0x7ef6fd0335e0>\n"
          ]
        },
        {
          "output_type": "stream",
          "name": "stderr",
          "text": [
            "\rProcessing images:  25%|██▍       | 314/1278 [03:10<09:14,  1.74it/s]"
          ]
        },
        {
          "output_type": "stream",
          "name": "stdout",
          "text": [
            "Inserted 28d9c2 to <pinecone.index.Index object at 0x7ef6fd0335e0>\n"
          ]
        },
        {
          "output_type": "stream",
          "name": "stderr",
          "text": [
            "\rProcessing images:  25%|██▍       | 315/1278 [03:10<08:53,  1.81it/s]"
          ]
        },
        {
          "output_type": "stream",
          "name": "stdout",
          "text": [
            "Inserted a137fd to <pinecone.index.Index object at 0x7ef6fd0335e0>\n"
          ]
        },
        {
          "output_type": "stream",
          "name": "stderr",
          "text": [
            "\rProcessing images:  25%|██▍       | 316/1278 [03:11<08:39,  1.85it/s]"
          ]
        },
        {
          "output_type": "stream",
          "name": "stdout",
          "text": [
            "Inserted 153182 to <pinecone.index.Index object at 0x7ef6fd0335e0>\n"
          ]
        },
        {
          "output_type": "stream",
          "name": "stderr",
          "text": [
            "\rProcessing images:  25%|██▍       | 317/1278 [03:11<09:11,  1.74it/s]"
          ]
        },
        {
          "output_type": "stream",
          "name": "stdout",
          "text": [
            "Inserted b25230 to <pinecone.index.Index object at 0x7ef6fd0335e0>\n"
          ]
        },
        {
          "output_type": "stream",
          "name": "stderr",
          "text": [
            "\rProcessing images:  25%|██▍       | 318/1278 [03:12<08:46,  1.82it/s]"
          ]
        },
        {
          "output_type": "stream",
          "name": "stdout",
          "text": [
            "Inserted 34da25 to <pinecone.index.Index object at 0x7ef6fd0335e0>\n"
          ]
        },
        {
          "output_type": "stream",
          "name": "stderr",
          "text": [
            "\rProcessing images:  25%|██▍       | 319/1278 [03:12<08:26,  1.89it/s]"
          ]
        },
        {
          "output_type": "stream",
          "name": "stdout",
          "text": [
            "Inserted 636682 to <pinecone.index.Index object at 0x7ef6fd0335e0>\n"
          ]
        },
        {
          "output_type": "stream",
          "name": "stderr",
          "text": [
            "\rProcessing images:  25%|██▌       | 320/1278 [03:13<08:44,  1.83it/s]"
          ]
        },
        {
          "output_type": "stream",
          "name": "stdout",
          "text": [
            "Inserted e65f31 to <pinecone.index.Index object at 0x7ef6fd0335e0>\n"
          ]
        },
        {
          "output_type": "stream",
          "name": "stderr",
          "text": [
            "\rProcessing images:  25%|██▌       | 321/1278 [03:13<07:58,  2.00it/s]"
          ]
        },
        {
          "output_type": "stream",
          "name": "stdout",
          "text": [
            "Inserted a7b3c1 to <pinecone.index.Index object at 0x7ef6fd0335e0>\n"
          ]
        },
        {
          "output_type": "stream",
          "name": "stderr",
          "text": [
            "\rProcessing images:  25%|██▌       | 322/1278 [03:14<08:31,  1.87it/s]"
          ]
        },
        {
          "output_type": "stream",
          "name": "stdout",
          "text": [
            "Inserted e9b069 to <pinecone.index.Index object at 0x7ef6fd0335e0>\n"
          ]
        },
        {
          "output_type": "stream",
          "name": "stderr",
          "text": [
            "\rProcessing images:  25%|██▌       | 323/1278 [03:14<08:31,  1.87it/s]"
          ]
        },
        {
          "output_type": "stream",
          "name": "stdout",
          "text": [
            "Inserted 7892ee to <pinecone.index.Index object at 0x7ef6fd0335e0>\n"
          ]
        },
        {
          "output_type": "stream",
          "name": "stderr",
          "text": [
            "\rProcessing images:  25%|██▌       | 324/1278 [03:15<11:02,  1.44it/s]"
          ]
        },
        {
          "output_type": "stream",
          "name": "stdout",
          "text": [
            "Inserted 810a82 to <pinecone.index.Index object at 0x7ef6fd0335e0>\n"
          ]
        },
        {
          "output_type": "stream",
          "name": "stderr",
          "text": [
            "\rProcessing images:  25%|██▌       | 325/1278 [03:16<11:38,  1.36it/s]"
          ]
        },
        {
          "output_type": "stream",
          "name": "stdout",
          "text": [
            "Inserted 87605b to <pinecone.index.Index object at 0x7ef6fd0335e0>\n"
          ]
        },
        {
          "output_type": "stream",
          "name": "stderr",
          "text": [
            "\rProcessing images:  26%|██▌       | 326/1278 [03:17<11:55,  1.33it/s]"
          ]
        },
        {
          "output_type": "stream",
          "name": "stdout",
          "text": [
            "Inserted 4cda1e to <pinecone.index.Index object at 0x7ef6fd0335e0>\n"
          ]
        },
        {
          "output_type": "stream",
          "name": "stderr",
          "text": [
            "\rProcessing images:  26%|██▌       | 327/1278 [03:18<11:29,  1.38it/s]"
          ]
        },
        {
          "output_type": "stream",
          "name": "stdout",
          "text": [
            "Inserted e1c3ec to <pinecone.index.Index object at 0x7ef6fd0335e0>\n"
          ]
        },
        {
          "output_type": "stream",
          "name": "stderr",
          "text": [
            "\rProcessing images:  26%|██▌       | 328/1278 [03:18<10:41,  1.48it/s]"
          ]
        },
        {
          "output_type": "stream",
          "name": "stdout",
          "text": [
            "Inserted e22899 to <pinecone.index.Index object at 0x7ef6fd0335e0>\n"
          ]
        },
        {
          "output_type": "stream",
          "name": "stderr",
          "text": [
            "\rProcessing images:  26%|██▌       | 329/1278 [03:19<10:51,  1.46it/s]"
          ]
        },
        {
          "output_type": "stream",
          "name": "stdout",
          "text": [
            "Inserted 81c9bd to <pinecone.index.Index object at 0x7ef6fd0335e0>\n"
          ]
        },
        {
          "output_type": "stream",
          "name": "stderr",
          "text": [
            "\rProcessing images:  26%|██▌       | 330/1278 [03:19<09:35,  1.65it/s]"
          ]
        },
        {
          "output_type": "stream",
          "name": "stdout",
          "text": [
            "Inserted 717f18 to <pinecone.index.Index object at 0x7ef6fd0335e0>\n"
          ]
        },
        {
          "output_type": "stream",
          "name": "stderr",
          "text": [
            "\rProcessing images:  26%|██▌       | 331/1278 [03:20<09:52,  1.60it/s]"
          ]
        },
        {
          "output_type": "stream",
          "name": "stdout",
          "text": [
            "Inserted 3cb224 to <pinecone.index.Index object at 0x7ef6fd0335e0>\n"
          ]
        },
        {
          "output_type": "stream",
          "name": "stderr",
          "text": [
            "\rProcessing images:  26%|██▌       | 332/1278 [03:21<12:03,  1.31it/s]"
          ]
        },
        {
          "output_type": "stream",
          "name": "stdout",
          "text": [
            "Inserted f62691 to <pinecone.index.Index object at 0x7ef6fd0335e0>\n"
          ]
        },
        {
          "output_type": "stream",
          "name": "stderr",
          "text": [
            "Processing images:  26%|██▌       | 334/1278 [03:22<07:57,  1.98it/s]"
          ]
        },
        {
          "output_type": "stream",
          "name": "stdout",
          "text": [
            "Inserted da1b23 to <pinecone.index.Index object at 0x7ef6fd0335e0>\n",
            "Skipping faulty image from URL: https://prod-images-static.radiopaedia.org/images/59277165/944796fc72315590ff81015c8eb003efcc6ff96b2366966e31725acd8563a523.mp4\n"
          ]
        },
        {
          "output_type": "stream",
          "name": "stderr",
          "text": [
            "\rProcessing images:  26%|██▌       | 335/1278 [03:23<08:59,  1.75it/s]"
          ]
        },
        {
          "output_type": "stream",
          "name": "stdout",
          "text": [
            "Inserted 0bab60 to <pinecone.index.Index object at 0x7ef6fd0335e0>\n"
          ]
        },
        {
          "output_type": "stream",
          "name": "stderr",
          "text": [
            "\rProcessing images:  26%|██▋       | 336/1278 [03:23<10:42,  1.47it/s]"
          ]
        },
        {
          "output_type": "stream",
          "name": "stdout",
          "text": [
            "Inserted fe4003 to <pinecone.index.Index object at 0x7ef6fd0335e0>\n"
          ]
        },
        {
          "output_type": "stream",
          "name": "stderr",
          "text": [
            "\rProcessing images:  26%|██▋       | 337/1278 [03:26<17:47,  1.13s/it]"
          ]
        },
        {
          "output_type": "stream",
          "name": "stdout",
          "text": [
            "Inserted 066dca to <pinecone.index.Index object at 0x7ef6fd0335e0>\n"
          ]
        },
        {
          "output_type": "stream",
          "name": "stderr",
          "text": [
            "\rProcessing images:  26%|██▋       | 338/1278 [03:26<15:14,  1.03it/s]"
          ]
        },
        {
          "output_type": "stream",
          "name": "stdout",
          "text": [
            "Inserted 7bf51a to <pinecone.index.Index object at 0x7ef6fd0335e0>\n"
          ]
        },
        {
          "output_type": "stream",
          "name": "stderr",
          "text": [
            "\rProcessing images:  27%|██▋       | 339/1278 [03:27<14:14,  1.10it/s]"
          ]
        },
        {
          "output_type": "stream",
          "name": "stdout",
          "text": [
            "Inserted 4400bc to <pinecone.index.Index object at 0x7ef6fd0335e0>\n"
          ]
        },
        {
          "output_type": "stream",
          "name": "stderr",
          "text": [
            "\rProcessing images:  27%|██▋       | 340/1278 [03:28<12:27,  1.26it/s]"
          ]
        },
        {
          "output_type": "stream",
          "name": "stdout",
          "text": [
            "Inserted 075508 to <pinecone.index.Index object at 0x7ef6fd0335e0>\n"
          ]
        },
        {
          "output_type": "stream",
          "name": "stderr",
          "text": [
            "\rProcessing images:  27%|██▋       | 341/1278 [03:28<11:20,  1.38it/s]"
          ]
        },
        {
          "output_type": "stream",
          "name": "stdout",
          "text": [
            "Inserted bfd33b to <pinecone.index.Index object at 0x7ef6fd0335e0>\n"
          ]
        },
        {
          "output_type": "stream",
          "name": "stderr",
          "text": [
            "\rProcessing images:  27%|██▋       | 342/1278 [03:28<09:47,  1.59it/s]"
          ]
        },
        {
          "output_type": "stream",
          "name": "stdout",
          "text": [
            "Inserted 35742d to <pinecone.index.Index object at 0x7ef6fd0335e0>\n"
          ]
        },
        {
          "output_type": "stream",
          "name": "stderr",
          "text": [
            "\rProcessing images:  27%|██▋       | 343/1278 [03:29<10:15,  1.52it/s]"
          ]
        },
        {
          "output_type": "stream",
          "name": "stdout",
          "text": [
            "Inserted b64603 to <pinecone.index.Index object at 0x7ef6fd0335e0>\n"
          ]
        },
        {
          "output_type": "stream",
          "name": "stderr",
          "text": [
            "\rProcessing images:  27%|██▋       | 344/1278 [03:30<09:25,  1.65it/s]"
          ]
        },
        {
          "output_type": "stream",
          "name": "stdout",
          "text": [
            "Inserted 363677 to <pinecone.index.Index object at 0x7ef6fd0335e0>\n"
          ]
        },
        {
          "output_type": "stream",
          "name": "stderr",
          "text": [
            "\rProcessing images:  27%|██▋       | 345/1278 [03:30<08:50,  1.76it/s]"
          ]
        },
        {
          "output_type": "stream",
          "name": "stdout",
          "text": [
            "Inserted 9f60df to <pinecone.index.Index object at 0x7ef6fd0335e0>\n"
          ]
        },
        {
          "output_type": "stream",
          "name": "stderr",
          "text": [
            "\rProcessing images:  27%|██▋       | 346/1278 [03:31<08:43,  1.78it/s]"
          ]
        },
        {
          "output_type": "stream",
          "name": "stdout",
          "text": [
            "Inserted dc8f28 to <pinecone.index.Index object at 0x7ef6fd0335e0>\n"
          ]
        },
        {
          "output_type": "stream",
          "name": "stderr",
          "text": [
            "\rProcessing images:  27%|██▋       | 347/1278 [03:32<10:09,  1.53it/s]"
          ]
        },
        {
          "output_type": "stream",
          "name": "stdout",
          "text": [
            "Inserted 7abc08 to <pinecone.index.Index object at 0x7ef6fd0335e0>\n"
          ]
        },
        {
          "output_type": "stream",
          "name": "stderr",
          "text": [
            "\rProcessing images:  27%|██▋       | 348/1278 [03:32<11:12,  1.38it/s]"
          ]
        },
        {
          "output_type": "stream",
          "name": "stdout",
          "text": [
            "Inserted 2d3c89 to <pinecone.index.Index object at 0x7ef6fd0335e0>\n"
          ]
        },
        {
          "output_type": "stream",
          "name": "stderr",
          "text": [
            "\rProcessing images:  27%|██▋       | 349/1278 [03:33<10:49,  1.43it/s]"
          ]
        },
        {
          "output_type": "stream",
          "name": "stdout",
          "text": [
            "Inserted ccffa9 to <pinecone.index.Index object at 0x7ef6fd0335e0>\n"
          ]
        },
        {
          "output_type": "stream",
          "name": "stderr",
          "text": [
            "\rProcessing images:  27%|██▋       | 350/1278 [03:34<10:19,  1.50it/s]"
          ]
        },
        {
          "output_type": "stream",
          "name": "stdout",
          "text": [
            "Inserted 992caa to <pinecone.index.Index object at 0x7ef6fd0335e0>\n"
          ]
        },
        {
          "output_type": "stream",
          "name": "stderr",
          "text": [
            "\rProcessing images:  27%|██▋       | 351/1278 [03:34<09:22,  1.65it/s]"
          ]
        },
        {
          "output_type": "stream",
          "name": "stdout",
          "text": [
            "Inserted ea2122 to <pinecone.index.Index object at 0x7ef6fd0335e0>\n"
          ]
        },
        {
          "output_type": "stream",
          "name": "stderr",
          "text": [
            "\rProcessing images:  28%|██▊       | 352/1278 [03:35<08:24,  1.83it/s]"
          ]
        },
        {
          "output_type": "stream",
          "name": "stdout",
          "text": [
            "Inserted 838e8d to <pinecone.index.Index object at 0x7ef6fd0335e0>\n"
          ]
        },
        {
          "output_type": "stream",
          "name": "stderr",
          "text": [
            "\rProcessing images:  28%|██▊       | 353/1278 [03:35<09:07,  1.69it/s]"
          ]
        },
        {
          "output_type": "stream",
          "name": "stdout",
          "text": [
            "Inserted b4a51e to <pinecone.index.Index object at 0x7ef6fd0335e0>\n"
          ]
        },
        {
          "output_type": "stream",
          "name": "stderr",
          "text": [
            "\rProcessing images:  28%|██▊       | 354/1278 [03:36<08:16,  1.86it/s]"
          ]
        },
        {
          "output_type": "stream",
          "name": "stdout",
          "text": [
            "Inserted 63684d to <pinecone.index.Index object at 0x7ef6fd0335e0>\n"
          ]
        },
        {
          "output_type": "stream",
          "name": "stderr",
          "text": [
            "\rProcessing images:  28%|██▊       | 355/1278 [03:36<07:39,  2.01it/s]"
          ]
        },
        {
          "output_type": "stream",
          "name": "stdout",
          "text": [
            "Inserted b90a20 to <pinecone.index.Index object at 0x7ef6fd0335e0>\n"
          ]
        },
        {
          "output_type": "stream",
          "name": "stderr",
          "text": [
            "\rProcessing images:  28%|██▊       | 356/1278 [03:37<07:17,  2.11it/s]"
          ]
        },
        {
          "output_type": "stream",
          "name": "stdout",
          "text": [
            "Inserted ead500 to <pinecone.index.Index object at 0x7ef6fd0335e0>\n"
          ]
        },
        {
          "output_type": "stream",
          "name": "stderr",
          "text": [
            "\rProcessing images:  28%|██▊       | 357/1278 [03:37<07:01,  2.18it/s]"
          ]
        },
        {
          "output_type": "stream",
          "name": "stdout",
          "text": [
            "Inserted 5ea015 to <pinecone.index.Index object at 0x7ef6fd0335e0>\n"
          ]
        },
        {
          "output_type": "stream",
          "name": "stderr",
          "text": [
            "\rProcessing images:  28%|██▊       | 358/1278 [03:38<07:29,  2.04it/s]"
          ]
        },
        {
          "output_type": "stream",
          "name": "stdout",
          "text": [
            "Inserted 8a0602 to <pinecone.index.Index object at 0x7ef6fd0335e0>\n"
          ]
        },
        {
          "output_type": "stream",
          "name": "stderr",
          "text": [
            "\rProcessing images:  28%|██▊       | 359/1278 [03:39<11:39,  1.31it/s]"
          ]
        },
        {
          "output_type": "stream",
          "name": "stdout",
          "text": [
            "Inserted b6756e to <pinecone.index.Index object at 0x7ef6fd0335e0>\n"
          ]
        },
        {
          "output_type": "stream",
          "name": "stderr",
          "text": [
            "\rProcessing images:  28%|██▊       | 360/1278 [03:40<11:13,  1.36it/s]"
          ]
        },
        {
          "output_type": "stream",
          "name": "stdout",
          "text": [
            "Inserted 0283de to <pinecone.index.Index object at 0x7ef6fd0335e0>\n"
          ]
        },
        {
          "output_type": "stream",
          "name": "stderr",
          "text": [
            "\rProcessing images:  28%|██▊       | 361/1278 [03:40<10:17,  1.49it/s]"
          ]
        },
        {
          "output_type": "stream",
          "name": "stdout",
          "text": [
            "Inserted 2b233b to <pinecone.index.Index object at 0x7ef6fd0335e0>\n"
          ]
        },
        {
          "output_type": "stream",
          "name": "stderr",
          "text": [
            "\rProcessing images:  28%|██▊       | 362/1278 [03:41<11:01,  1.39it/s]"
          ]
        },
        {
          "output_type": "stream",
          "name": "stdout",
          "text": [
            "Inserted 493191 to <pinecone.index.Index object at 0x7ef6fd0335e0>\n"
          ]
        },
        {
          "output_type": "stream",
          "name": "stderr",
          "text": [
            "\rProcessing images:  28%|██▊       | 363/1278 [03:42<10:50,  1.41it/s]"
          ]
        },
        {
          "output_type": "stream",
          "name": "stdout",
          "text": [
            "Inserted 454e68 to <pinecone.index.Index object at 0x7ef6fd0335e0>\n"
          ]
        },
        {
          "output_type": "stream",
          "name": "stderr",
          "text": [
            "\rProcessing images:  28%|██▊       | 364/1278 [03:44<16:27,  1.08s/it]"
          ]
        },
        {
          "output_type": "stream",
          "name": "stdout",
          "text": [
            "Inserted c1cb0b to <pinecone.index.Index object at 0x7ef6fd0335e0>\n"
          ]
        },
        {
          "output_type": "stream",
          "name": "stderr",
          "text": [
            "\rProcessing images:  29%|██▊       | 365/1278 [03:44<15:21,  1.01s/it]"
          ]
        },
        {
          "output_type": "stream",
          "name": "stdout",
          "text": [
            "Inserted 664ece to <pinecone.index.Index object at 0x7ef6fd0335e0>\n"
          ]
        },
        {
          "output_type": "stream",
          "name": "stderr",
          "text": [
            "\rProcessing images:  29%|██▊       | 366/1278 [03:46<16:45,  1.10s/it]"
          ]
        },
        {
          "output_type": "stream",
          "name": "stdout",
          "text": [
            "Inserted c6bbb7 to <pinecone.index.Index object at 0x7ef6fd0335e0>\n"
          ]
        },
        {
          "output_type": "stream",
          "name": "stderr",
          "text": [
            "\rProcessing images:  29%|██▊       | 367/1278 [03:47<15:23,  1.01s/it]"
          ]
        },
        {
          "output_type": "stream",
          "name": "stdout",
          "text": [
            "Inserted 39a65d to <pinecone.index.Index object at 0x7ef6fd0335e0>\n"
          ]
        },
        {
          "output_type": "stream",
          "name": "stderr",
          "text": [
            "\rProcessing images:  29%|██▉       | 368/1278 [03:47<12:58,  1.17it/s]"
          ]
        },
        {
          "output_type": "stream",
          "name": "stdout",
          "text": [
            "Inserted 12b8c7 to <pinecone.index.Index object at 0x7ef6fd0335e0>\n"
          ]
        },
        {
          "output_type": "stream",
          "name": "stderr",
          "text": [
            "\rProcessing images:  29%|██▉       | 369/1278 [03:47<10:58,  1.38it/s]"
          ]
        },
        {
          "output_type": "stream",
          "name": "stdout",
          "text": [
            "Inserted 609a50 to <pinecone.index.Index object at 0x7ef6fd0335e0>\n"
          ]
        },
        {
          "output_type": "stream",
          "name": "stderr",
          "text": [
            "\rProcessing images:  29%|██▉       | 370/1278 [03:48<11:14,  1.35it/s]"
          ]
        },
        {
          "output_type": "stream",
          "name": "stdout",
          "text": [
            "Inserted bea102 to <pinecone.index.Index object at 0x7ef6fd0335e0>\n"
          ]
        },
        {
          "output_type": "stream",
          "name": "stderr",
          "text": [
            "\rProcessing images:  29%|██▉       | 371/1278 [03:49<09:45,  1.55it/s]"
          ]
        },
        {
          "output_type": "stream",
          "name": "stdout",
          "text": [
            "Inserted 034abf to <pinecone.index.Index object at 0x7ef6fd0335e0>\n"
          ]
        },
        {
          "output_type": "stream",
          "name": "stderr",
          "text": [
            "\rProcessing images:  29%|██▉       | 372/1278 [03:49<08:52,  1.70it/s]"
          ]
        },
        {
          "output_type": "stream",
          "name": "stdout",
          "text": [
            "Inserted 8717cf to <pinecone.index.Index object at 0x7ef6fd0335e0>\n"
          ]
        },
        {
          "output_type": "stream",
          "name": "stderr",
          "text": [
            "\rProcessing images:  29%|██▉       | 373/1278 [03:50<08:15,  1.83it/s]"
          ]
        },
        {
          "output_type": "stream",
          "name": "stdout",
          "text": [
            "Inserted 4fcb56 to <pinecone.index.Index object at 0x7ef6fd0335e0>\n"
          ]
        },
        {
          "output_type": "stream",
          "name": "stderr",
          "text": [
            "\rProcessing images:  29%|██▉       | 374/1278 [03:50<08:57,  1.68it/s]"
          ]
        },
        {
          "output_type": "stream",
          "name": "stdout",
          "text": [
            "Inserted a352c7 to <pinecone.index.Index object at 0x7ef6fd0335e0>\n"
          ]
        },
        {
          "output_type": "stream",
          "name": "stderr",
          "text": [
            "\rProcessing images:  29%|██▉       | 375/1278 [03:51<10:24,  1.45it/s]"
          ]
        },
        {
          "output_type": "stream",
          "name": "stdout",
          "text": [
            "Inserted 8f89fe to <pinecone.index.Index object at 0x7ef6fd0335e0>\n"
          ]
        },
        {
          "output_type": "stream",
          "name": "stderr",
          "text": [
            "\rProcessing images:  29%|██▉       | 376/1278 [03:52<09:08,  1.65it/s]"
          ]
        },
        {
          "output_type": "stream",
          "name": "stdout",
          "text": [
            "Inserted f03a4f to <pinecone.index.Index object at 0x7ef6fd0335e0>\n"
          ]
        },
        {
          "output_type": "stream",
          "name": "stderr",
          "text": [
            "\rProcessing images:  29%|██▉       | 377/1278 [03:52<08:10,  1.84it/s]"
          ]
        },
        {
          "output_type": "stream",
          "name": "stdout",
          "text": [
            "Inserted 99d5fc to <pinecone.index.Index object at 0x7ef6fd0335e0>\n"
          ]
        },
        {
          "output_type": "stream",
          "name": "stderr",
          "text": [
            "\rProcessing images:  30%|██▉       | 378/1278 [03:53<08:49,  1.70it/s]"
          ]
        },
        {
          "output_type": "stream",
          "name": "stdout",
          "text": [
            "Inserted 127ef7 to <pinecone.index.Index object at 0x7ef6fd0335e0>\n"
          ]
        },
        {
          "output_type": "stream",
          "name": "stderr",
          "text": [
            "\rProcessing images:  30%|██▉       | 379/1278 [03:53<08:09,  1.84it/s]"
          ]
        },
        {
          "output_type": "stream",
          "name": "stdout",
          "text": [
            "Inserted 06beff to <pinecone.index.Index object at 0x7ef6fd0335e0>\n"
          ]
        },
        {
          "output_type": "stream",
          "name": "stderr",
          "text": [
            "\rProcessing images:  30%|██▉       | 380/1278 [03:54<07:34,  1.98it/s]"
          ]
        },
        {
          "output_type": "stream",
          "name": "stdout",
          "text": [
            "Skipping faulty image from URL: https://prod-images-static.radiopaedia.org/images/58589199/0..jpg\n"
          ]
        },
        {
          "output_type": "stream",
          "name": "stderr",
          "text": [
            "\rProcessing images:  30%|██▉       | 381/1278 [03:54<07:35,  1.97it/s]"
          ]
        },
        {
          "output_type": "stream",
          "name": "stdout",
          "text": [
            "Inserted 06beff to <pinecone.index.Index object at 0x7ef6fd0335e0>\n"
          ]
        },
        {
          "output_type": "stream",
          "name": "stderr",
          "text": [
            "\rProcessing images:  30%|██▉       | 382/1278 [03:55<07:56,  1.88it/s]"
          ]
        },
        {
          "output_type": "stream",
          "name": "stdout",
          "text": [
            "Inserted 99d5fc to <pinecone.index.Index object at 0x7ef6fd0335e0>\n"
          ]
        },
        {
          "output_type": "stream",
          "name": "stderr",
          "text": [
            "\rProcessing images:  30%|██▉       | 383/1278 [03:55<07:53,  1.89it/s]"
          ]
        },
        {
          "output_type": "stream",
          "name": "stdout",
          "text": [
            "Inserted 99d5fc to <pinecone.index.Index object at 0x7ef6fd0335e0>\n"
          ]
        },
        {
          "output_type": "stream",
          "name": "stderr",
          "text": [
            "\rProcessing images:  30%|███       | 384/1278 [03:56<07:45,  1.92it/s]"
          ]
        },
        {
          "output_type": "stream",
          "name": "stdout",
          "text": [
            "Inserted 99d5fc to <pinecone.index.Index object at 0x7ef6fd0335e0>\n"
          ]
        },
        {
          "output_type": "stream",
          "name": "stderr",
          "text": [
            "\rProcessing images:  30%|███       | 385/1278 [03:57<10:16,  1.45it/s]"
          ]
        },
        {
          "output_type": "stream",
          "name": "stdout",
          "text": [
            "Inserted a5540c to <pinecone.index.Index object at 0x7ef6fd0335e0>\n"
          ]
        },
        {
          "output_type": "stream",
          "name": "stderr",
          "text": [
            "\rProcessing images:  30%|███       | 386/1278 [03:58<12:55,  1.15it/s]"
          ]
        },
        {
          "output_type": "stream",
          "name": "stdout",
          "text": [
            "Inserted ad8010 to <pinecone.index.Index object at 0x7ef6fd0335e0>\n"
          ]
        },
        {
          "output_type": "stream",
          "name": "stderr",
          "text": [
            "\rProcessing images:  30%|███       | 387/1278 [03:59<12:43,  1.17it/s]"
          ]
        },
        {
          "output_type": "stream",
          "name": "stdout",
          "text": [
            "Inserted 0072dc to <pinecone.index.Index object at 0x7ef6fd0335e0>\n"
          ]
        },
        {
          "output_type": "stream",
          "name": "stderr",
          "text": [
            "\rProcessing images:  30%|███       | 388/1278 [04:00<12:48,  1.16it/s]"
          ]
        },
        {
          "output_type": "stream",
          "name": "stdout",
          "text": [
            "Inserted 911ea4 to <pinecone.index.Index object at 0x7ef6fd0335e0>\n"
          ]
        },
        {
          "output_type": "stream",
          "name": "stderr",
          "text": [
            "\rProcessing images:  30%|███       | 389/1278 [04:01<12:49,  1.16it/s]"
          ]
        },
        {
          "output_type": "stream",
          "name": "stdout",
          "text": [
            "Inserted 1f732a to <pinecone.index.Index object at 0x7ef6fd0335e0>\n"
          ]
        },
        {
          "output_type": "stream",
          "name": "stderr",
          "text": [
            "\rProcessing images:  31%|███       | 390/1278 [04:02<13:18,  1.11it/s]"
          ]
        },
        {
          "output_type": "stream",
          "name": "stdout",
          "text": [
            "Inserted 4c468b to <pinecone.index.Index object at 0x7ef6fd0335e0>\n"
          ]
        },
        {
          "output_type": "stream",
          "name": "stderr",
          "text": [
            "\rProcessing images:  31%|███       | 391/1278 [04:02<11:12,  1.32it/s]"
          ]
        },
        {
          "output_type": "stream",
          "name": "stdout",
          "text": [
            "Inserted 06beff to <pinecone.index.Index object at 0x7ef6fd0335e0>\n"
          ]
        },
        {
          "output_type": "stream",
          "name": "stderr",
          "text": [
            "\rProcessing images:  31%|███       | 392/1278 [04:02<09:39,  1.53it/s]"
          ]
        },
        {
          "output_type": "stream",
          "name": "stdout",
          "text": [
            "Skipping faulty image from URL: https://prod-images-static.radiopaedia.org/images/58607304/b452d6e7781799137b0a36c733ce5e3bb830e5b4bfa359cdcc5073cf45d02bae.jpeg\n"
          ]
        },
        {
          "output_type": "stream",
          "name": "stderr",
          "text": [
            "\rProcessing images:  31%|███       | 393/1278 [04:03<08:46,  1.68it/s]"
          ]
        },
        {
          "output_type": "stream",
          "name": "stdout",
          "text": [
            "Inserted 06beff to <pinecone.index.Index object at 0x7ef6fd0335e0>\n"
          ]
        },
        {
          "output_type": "stream",
          "name": "stderr",
          "text": [
            "\rProcessing images:  31%|███       | 394/1278 [04:03<08:05,  1.82it/s]"
          ]
        },
        {
          "output_type": "stream",
          "name": "stdout",
          "text": [
            "Inserted 99d5fc to <pinecone.index.Index object at 0x7ef6fd0335e0>\n"
          ]
        },
        {
          "output_type": "stream",
          "name": "stderr",
          "text": [
            "\rProcessing images:  31%|███       | 395/1278 [04:04<07:34,  1.94it/s]"
          ]
        },
        {
          "output_type": "stream",
          "name": "stdout",
          "text": [
            "Inserted 06beff to <pinecone.index.Index object at 0x7ef6fd0335e0>\n"
          ]
        },
        {
          "output_type": "stream",
          "name": "stderr",
          "text": [
            "\rProcessing images:  31%|███       | 396/1278 [04:04<07:09,  2.05it/s]"
          ]
        },
        {
          "output_type": "stream",
          "name": "stdout",
          "text": [
            "Inserted 67b6a5 to <pinecone.index.Index object at 0x7ef6fd0335e0>\n"
          ]
        },
        {
          "output_type": "stream",
          "name": "stderr",
          "text": [
            "\rProcessing images:  31%|███       | 397/1278 [04:05<08:05,  1.81it/s]"
          ]
        },
        {
          "output_type": "stream",
          "name": "stdout",
          "text": [
            "Inserted 0baf01 to <pinecone.index.Index object at 0x7ef6fd0335e0>\n"
          ]
        },
        {
          "output_type": "stream",
          "name": "stderr",
          "text": [
            "\rProcessing images:  31%|███       | 398/1278 [04:06<08:30,  1.72it/s]"
          ]
        },
        {
          "output_type": "stream",
          "name": "stdout",
          "text": [
            "Inserted 58f92b to <pinecone.index.Index object at 0x7ef6fd0335e0>\n"
          ]
        },
        {
          "output_type": "stream",
          "name": "stderr",
          "text": [
            "\rProcessing images:  31%|███       | 399/1278 [04:06<07:41,  1.91it/s]"
          ]
        },
        {
          "output_type": "stream",
          "name": "stdout",
          "text": [
            "Inserted 98eaf8 to <pinecone.index.Index object at 0x7ef6fd0335e0>\n"
          ]
        },
        {
          "output_type": "stream",
          "name": "stderr",
          "text": [
            "\rProcessing images:  31%|███▏      | 400/1278 [04:07<08:23,  1.74it/s]"
          ]
        },
        {
          "output_type": "stream",
          "name": "stdout",
          "text": [
            "Inserted 99d5fc to <pinecone.index.Index object at 0x7ef6fd0335e0>\n"
          ]
        },
        {
          "output_type": "stream",
          "name": "stderr",
          "text": [
            "\rProcessing images:  31%|███▏      | 401/1278 [04:07<07:41,  1.90it/s]"
          ]
        },
        {
          "output_type": "stream",
          "name": "stdout",
          "text": [
            "Inserted 99d5fc to <pinecone.index.Index object at 0x7ef6fd0335e0>\n"
          ]
        },
        {
          "output_type": "stream",
          "name": "stderr",
          "text": [
            "\rProcessing images:  31%|███▏      | 402/1278 [04:07<06:59,  2.09it/s]"
          ]
        },
        {
          "output_type": "stream",
          "name": "stdout",
          "text": [
            "Inserted 94db52 to <pinecone.index.Index object at 0x7ef6fd0335e0>\n"
          ]
        },
        {
          "output_type": "stream",
          "name": "stderr",
          "text": [
            "\rProcessing images:  32%|███▏      | 403/1278 [04:08<07:56,  1.84it/s]"
          ]
        },
        {
          "output_type": "stream",
          "name": "stdout",
          "text": [
            "Inserted befcd3 to <pinecone.index.Index object at 0x7ef6fd0335e0>\n"
          ]
        },
        {
          "output_type": "stream",
          "name": "stderr",
          "text": [
            "\rProcessing images:  32%|███▏      | 404/1278 [04:09<07:40,  1.90it/s]"
          ]
        },
        {
          "output_type": "stream",
          "name": "stdout",
          "text": [
            "Inserted 99d5fc to <pinecone.index.Index object at 0x7ef6fd0335e0>\n"
          ]
        },
        {
          "output_type": "stream",
          "name": "stderr",
          "text": [
            "\rProcessing images:  32%|███▏      | 405/1278 [04:09<07:41,  1.89it/s]"
          ]
        },
        {
          "output_type": "stream",
          "name": "stdout",
          "text": [
            "Inserted fad705 to <pinecone.index.Index object at 0x7ef6fd0335e0>\n"
          ]
        },
        {
          "output_type": "stream",
          "name": "stderr",
          "text": [
            "\rProcessing images:  32%|███▏      | 406/1278 [04:10<09:01,  1.61it/s]"
          ]
        },
        {
          "output_type": "stream",
          "name": "stdout",
          "text": [
            "Inserted 634454 to <pinecone.index.Index object at 0x7ef6fd0335e0>\n"
          ]
        },
        {
          "output_type": "stream",
          "name": "stderr",
          "text": [
            "\rProcessing images:  32%|███▏      | 407/1278 [04:11<10:59,  1.32it/s]"
          ]
        },
        {
          "output_type": "stream",
          "name": "stdout",
          "text": [
            "Inserted 99d5fc to <pinecone.index.Index object at 0x7ef6fd0335e0>\n"
          ]
        },
        {
          "output_type": "stream",
          "name": "stderr",
          "text": [
            "\rProcessing images:  32%|███▏      | 408/1278 [04:12<11:23,  1.27it/s]"
          ]
        },
        {
          "output_type": "stream",
          "name": "stdout",
          "text": [
            "Inserted 99d5fc to <pinecone.index.Index object at 0x7ef6fd0335e0>\n"
          ]
        },
        {
          "output_type": "stream",
          "name": "stderr",
          "text": [
            "\rProcessing images:  32%|███▏      | 409/1278 [04:13<10:52,  1.33it/s]"
          ]
        },
        {
          "output_type": "stream",
          "name": "stdout",
          "text": [
            "Inserted 99d5fc to <pinecone.index.Index object at 0x7ef6fd0335e0>\n"
          ]
        },
        {
          "output_type": "stream",
          "name": "stderr",
          "text": [
            "\rProcessing images:  32%|███▏      | 410/1278 [04:13<09:51,  1.47it/s]"
          ]
        },
        {
          "output_type": "stream",
          "name": "stdout",
          "text": [
            "Inserted 06beff to <pinecone.index.Index object at 0x7ef6fd0335e0>\n"
          ]
        },
        {
          "output_type": "stream",
          "name": "stderr",
          "text": [
            "\rProcessing images:  32%|███▏      | 411/1278 [04:14<09:38,  1.50it/s]"
          ]
        },
        {
          "output_type": "stream",
          "name": "stdout",
          "text": [
            "Inserted 06beff to <pinecone.index.Index object at 0x7ef6fd0335e0>\n"
          ]
        },
        {
          "output_type": "stream",
          "name": "stderr",
          "text": [
            "\rProcessing images:  32%|███▏      | 412/1278 [04:14<08:44,  1.65it/s]"
          ]
        },
        {
          "output_type": "stream",
          "name": "stdout",
          "text": [
            "Inserted 1feaf8 to <pinecone.index.Index object at 0x7ef6fd0335e0>\n"
          ]
        },
        {
          "output_type": "stream",
          "name": "stderr",
          "text": [
            "\rProcessing images:  32%|███▏      | 413/1278 [04:15<07:48,  1.84it/s]"
          ]
        },
        {
          "output_type": "stream",
          "name": "stdout",
          "text": [
            "Inserted f28a31 to <pinecone.index.Index object at 0x7ef6fd0335e0>\n"
          ]
        },
        {
          "output_type": "stream",
          "name": "stderr",
          "text": [
            "\rProcessing images:  32%|███▏      | 414/1278 [04:15<07:18,  1.97it/s]"
          ]
        },
        {
          "output_type": "stream",
          "name": "stdout",
          "text": [
            "Inserted 99d5fc to <pinecone.index.Index object at 0x7ef6fd0335e0>\n"
          ]
        },
        {
          "output_type": "stream",
          "name": "stderr",
          "text": [
            "\rProcessing images:  32%|███▏      | 415/1278 [04:16<07:28,  1.92it/s]"
          ]
        },
        {
          "output_type": "stream",
          "name": "stdout",
          "text": [
            "Inserted 06beff to <pinecone.index.Index object at 0x7ef6fd0335e0>\n"
          ]
        },
        {
          "output_type": "stream",
          "name": "stderr",
          "text": [
            "\rProcessing images:  33%|███▎      | 416/1278 [04:16<07:01,  2.05it/s]"
          ]
        },
        {
          "output_type": "stream",
          "name": "stdout",
          "text": [
            "Inserted 99d5fc to <pinecone.index.Index object at 0x7ef6fd0335e0>\n"
          ]
        },
        {
          "output_type": "stream",
          "name": "stderr",
          "text": [
            "\rProcessing images:  33%|███▎      | 417/1278 [04:17<07:35,  1.89it/s]"
          ]
        },
        {
          "output_type": "stream",
          "name": "stdout",
          "text": [
            "Inserted 5a76a2 to <pinecone.index.Index object at 0x7ef6fd0335e0>\n"
          ]
        },
        {
          "output_type": "stream",
          "name": "stderr",
          "text": [
            "\rProcessing images:  33%|███▎      | 418/1278 [04:17<07:11,  1.99it/s]"
          ]
        },
        {
          "output_type": "stream",
          "name": "stdout",
          "text": [
            "Inserted 99d5fc to <pinecone.index.Index object at 0x7ef6fd0335e0>\n"
          ]
        },
        {
          "output_type": "stream",
          "name": "stderr",
          "text": [
            "\rProcessing images:  33%|███▎      | 419/1278 [04:17<06:44,  2.12it/s]"
          ]
        },
        {
          "output_type": "stream",
          "name": "stdout",
          "text": [
            "Inserted 06beff to <pinecone.index.Index object at 0x7ef6fd0335e0>\n"
          ]
        },
        {
          "output_type": "stream",
          "name": "stderr",
          "text": [
            "\rProcessing images:  33%|███▎      | 420/1278 [04:18<07:04,  2.02it/s]"
          ]
        },
        {
          "output_type": "stream",
          "name": "stdout",
          "text": [
            "Inserted 6a5eef to <pinecone.index.Index object at 0x7ef6fd0335e0>\n"
          ]
        },
        {
          "output_type": "stream",
          "name": "stderr",
          "text": [
            "\rProcessing images:  33%|███▎      | 421/1278 [04:18<06:40,  2.14it/s]"
          ]
        },
        {
          "output_type": "stream",
          "name": "stdout",
          "text": [
            "Inserted beb044 to <pinecone.index.Index object at 0x7ef6fd0335e0>\n"
          ]
        },
        {
          "output_type": "stream",
          "name": "stderr",
          "text": [
            "\rProcessing images:  33%|███▎      | 422/1278 [04:19<07:25,  1.92it/s]"
          ]
        },
        {
          "output_type": "stream",
          "name": "stdout",
          "text": [
            "Inserted 6a5eef to <pinecone.index.Index object at 0x7ef6fd0335e0>\n"
          ]
        },
        {
          "output_type": "stream",
          "name": "stderr",
          "text": [
            "\rProcessing images:  33%|███▎      | 423/1278 [04:20<08:26,  1.69it/s]"
          ]
        },
        {
          "output_type": "stream",
          "name": "stdout",
          "text": [
            "Inserted 6a0e4b to <pinecone.index.Index object at 0x7ef6fd0335e0>\n"
          ]
        },
        {
          "output_type": "stream",
          "name": "stderr",
          "text": [
            "\rProcessing images:  33%|███▎      | 424/1278 [04:20<07:41,  1.85it/s]"
          ]
        },
        {
          "output_type": "stream",
          "name": "stdout",
          "text": [
            "Inserted 06beff to <pinecone.index.Index object at 0x7ef6fd0335e0>\n"
          ]
        },
        {
          "output_type": "stream",
          "name": "stderr",
          "text": [
            "\rProcessing images:  33%|███▎      | 425/1278 [04:21<07:57,  1.79it/s]"
          ]
        },
        {
          "output_type": "stream",
          "name": "stdout",
          "text": [
            "Inserted db0806 to <pinecone.index.Index object at 0x7ef6fd0335e0>\n"
          ]
        },
        {
          "output_type": "stream",
          "name": "stderr",
          "text": [
            "\rProcessing images:  33%|███▎      | 426/1278 [04:22<08:55,  1.59it/s]"
          ]
        },
        {
          "output_type": "stream",
          "name": "stdout",
          "text": [
            "Inserted e0aa4a to <pinecone.index.Index object at 0x7ef6fd0335e0>\n"
          ]
        },
        {
          "output_type": "stream",
          "name": "stderr",
          "text": [
            "\rProcessing images:  33%|███▎      | 427/1278 [04:22<09:01,  1.57it/s]"
          ]
        },
        {
          "output_type": "stream",
          "name": "stdout",
          "text": [
            "Inserted e9cca8 to <pinecone.index.Index object at 0x7ef6fd0335e0>\n"
          ]
        },
        {
          "output_type": "stream",
          "name": "stderr",
          "text": [
            "\rProcessing images:  33%|███▎      | 428/1278 [04:23<09:02,  1.57it/s]"
          ]
        },
        {
          "output_type": "stream",
          "name": "stdout",
          "text": [
            "Inserted af3b9c to <pinecone.index.Index object at 0x7ef6fd0335e0>\n"
          ]
        },
        {
          "output_type": "stream",
          "name": "stderr",
          "text": [
            "\rProcessing images:  34%|███▎      | 429/1278 [04:23<08:44,  1.62it/s]"
          ]
        },
        {
          "output_type": "stream",
          "name": "stdout",
          "text": [
            "Inserted bc62cb to <pinecone.index.Index object at 0x7ef6fd0335e0>\n"
          ]
        },
        {
          "output_type": "stream",
          "name": "stderr",
          "text": [
            "\rProcessing images:  34%|███▎      | 430/1278 [04:24<09:04,  1.56it/s]"
          ]
        },
        {
          "output_type": "stream",
          "name": "stdout",
          "text": [
            "Inserted 47b458 to <pinecone.index.Index object at 0x7ef6fd0335e0>\n"
          ]
        },
        {
          "output_type": "stream",
          "name": "stderr",
          "text": [
            "\rProcessing images:  34%|███▎      | 431/1278 [04:25<09:44,  1.45it/s]"
          ]
        },
        {
          "output_type": "stream",
          "name": "stdout",
          "text": [
            "Inserted 02c662 to <pinecone.index.Index object at 0x7ef6fd0335e0>\n"
          ]
        },
        {
          "output_type": "stream",
          "name": "stderr",
          "text": [
            "\rProcessing images:  34%|███▍      | 432/1278 [04:25<09:03,  1.56it/s]"
          ]
        },
        {
          "output_type": "stream",
          "name": "stdout",
          "text": [
            "Inserted 99d5fc to <pinecone.index.Index object at 0x7ef6fd0335e0>\n"
          ]
        },
        {
          "output_type": "stream",
          "name": "stderr",
          "text": [
            "\rProcessing images:  34%|███▍      | 433/1278 [04:26<08:31,  1.65it/s]"
          ]
        },
        {
          "output_type": "stream",
          "name": "stdout",
          "text": [
            "Inserted 4a5563 to <pinecone.index.Index object at 0x7ef6fd0335e0>\n"
          ]
        },
        {
          "output_type": "stream",
          "name": "stderr",
          "text": [
            "\rProcessing images:  34%|███▍      | 434/1278 [04:26<07:59,  1.76it/s]"
          ]
        },
        {
          "output_type": "stream",
          "name": "stdout",
          "text": [
            "Inserted 06beff to <pinecone.index.Index object at 0x7ef6fd0335e0>\n"
          ]
        },
        {
          "output_type": "stream",
          "name": "stderr",
          "text": [
            "\rProcessing images:  34%|███▍      | 435/1278 [04:27<07:46,  1.81it/s]"
          ]
        },
        {
          "output_type": "stream",
          "name": "stdout",
          "text": [
            "Inserted 99d5fc to <pinecone.index.Index object at 0x7ef6fd0335e0>\n"
          ]
        },
        {
          "output_type": "stream",
          "name": "stderr",
          "text": [
            "\rProcessing images:  34%|███▍      | 436/1278 [04:28<08:15,  1.70it/s]"
          ]
        },
        {
          "output_type": "stream",
          "name": "stdout",
          "text": [
            "Inserted ae62c4 to <pinecone.index.Index object at 0x7ef6fd0335e0>\n"
          ]
        },
        {
          "output_type": "stream",
          "name": "stderr",
          "text": [
            "\rProcessing images:  34%|███▍      | 437/1278 [04:28<08:57,  1.57it/s]"
          ]
        },
        {
          "output_type": "stream",
          "name": "stdout",
          "text": [
            "Inserted 72b678 to <pinecone.index.Index object at 0x7ef6fd0335e0>\n"
          ]
        },
        {
          "output_type": "stream",
          "name": "stderr",
          "text": [
            "\rProcessing images:  34%|███▍      | 438/1278 [04:29<08:21,  1.68it/s]"
          ]
        },
        {
          "output_type": "stream",
          "name": "stdout",
          "text": [
            "Inserted dee215 to <pinecone.index.Index object at 0x7ef6fd0335e0>\n"
          ]
        },
        {
          "output_type": "stream",
          "name": "stderr",
          "text": [
            "\rProcessing images:  34%|███▍      | 439/1278 [04:29<07:39,  1.82it/s]"
          ]
        },
        {
          "output_type": "stream",
          "name": "stdout",
          "text": [
            "Inserted 792b0d to <pinecone.index.Index object at 0x7ef6fd0335e0>\n"
          ]
        },
        {
          "output_type": "stream",
          "name": "stderr",
          "text": [
            "\rProcessing images:  34%|███▍      | 440/1278 [04:30<07:25,  1.88it/s]"
          ]
        },
        {
          "output_type": "stream",
          "name": "stdout",
          "text": [
            "Inserted 1feaf8 to <pinecone.index.Index object at 0x7ef6fd0335e0>\n"
          ]
        },
        {
          "output_type": "stream",
          "name": "stderr",
          "text": [
            "\rProcessing images:  35%|███▍      | 441/1278 [04:31<08:32,  1.63it/s]"
          ]
        },
        {
          "output_type": "stream",
          "name": "stdout",
          "text": [
            "Inserted 1feaf8 to <pinecone.index.Index object at 0x7ef6fd0335e0>\n"
          ]
        },
        {
          "output_type": "stream",
          "name": "stderr",
          "text": [
            "\rProcessing images:  35%|███▍      | 442/1278 [04:31<09:26,  1.47it/s]"
          ]
        },
        {
          "output_type": "stream",
          "name": "stdout",
          "text": [
            "Inserted ba94fa to <pinecone.index.Index object at 0x7ef6fd0335e0>\n"
          ]
        },
        {
          "output_type": "stream",
          "name": "stderr",
          "text": [
            "\rProcessing images:  35%|███▍      | 443/1278 [04:32<09:38,  1.44it/s]"
          ]
        },
        {
          "output_type": "stream",
          "name": "stdout",
          "text": [
            "Inserted 59b8c3 to <pinecone.index.Index object at 0x7ef6fd0335e0>\n"
          ]
        },
        {
          "output_type": "stream",
          "name": "stderr",
          "text": [
            "\rProcessing images:  35%|███▍      | 444/1278 [04:33<09:15,  1.50it/s]"
          ]
        },
        {
          "output_type": "stream",
          "name": "stdout",
          "text": [
            "Inserted 6672c4 to <pinecone.index.Index object at 0x7ef6fd0335e0>\n"
          ]
        },
        {
          "output_type": "stream",
          "name": "stderr",
          "text": [
            "\rProcessing images:  35%|███▍      | 445/1278 [04:33<08:43,  1.59it/s]"
          ]
        },
        {
          "output_type": "stream",
          "name": "stdout",
          "text": [
            "Inserted 0e7243 to <pinecone.index.Index object at 0x7ef6fd0335e0>\n"
          ]
        },
        {
          "output_type": "stream",
          "name": "stderr",
          "text": [
            "\rProcessing images:  35%|███▍      | 446/1278 [04:34<08:51,  1.57it/s]"
          ]
        },
        {
          "output_type": "stream",
          "name": "stdout",
          "text": [
            "Inserted d821f0 to <pinecone.index.Index object at 0x7ef6fd0335e0>\n"
          ]
        },
        {
          "output_type": "stream",
          "name": "stderr",
          "text": [
            "\rProcessing images:  35%|███▍      | 447/1278 [04:34<07:52,  1.76it/s]"
          ]
        },
        {
          "output_type": "stream",
          "name": "stdout",
          "text": [
            "Inserted 99d5fc to <pinecone.index.Index object at 0x7ef6fd0335e0>\n"
          ]
        },
        {
          "output_type": "stream",
          "name": "stderr",
          "text": [
            "\rProcessing images:  35%|███▌      | 448/1278 [04:37<14:33,  1.05s/it]"
          ]
        },
        {
          "output_type": "stream",
          "name": "stdout",
          "text": [
            "Inserted e20718 to <pinecone.index.Index object at 0x7ef6fd0335e0>\n"
          ]
        },
        {
          "output_type": "stream",
          "name": "stderr",
          "text": [
            "\rProcessing images:  35%|███▌      | 449/1278 [04:37<12:08,  1.14it/s]"
          ]
        },
        {
          "output_type": "stream",
          "name": "stdout",
          "text": [
            "Inserted 99d5fc to <pinecone.index.Index object at 0x7ef6fd0335e0>\n"
          ]
        },
        {
          "output_type": "stream",
          "name": "stderr",
          "text": [
            "\rProcessing images:  35%|███▌      | 450/1278 [04:38<11:46,  1.17it/s]"
          ]
        },
        {
          "output_type": "stream",
          "name": "stdout",
          "text": [
            "Inserted 99d5fc to <pinecone.index.Index object at 0x7ef6fd0335e0>\n"
          ]
        },
        {
          "output_type": "stream",
          "name": "stderr",
          "text": [
            "\rProcessing images:  35%|███▌      | 451/1278 [04:39<11:06,  1.24it/s]"
          ]
        },
        {
          "output_type": "stream",
          "name": "stdout",
          "text": [
            "Inserted e87b0a to <pinecone.index.Index object at 0x7ef6fd0335e0>\n"
          ]
        },
        {
          "output_type": "stream",
          "name": "stderr",
          "text": [
            "\rProcessing images:  35%|███▌      | 452/1278 [04:39<09:57,  1.38it/s]"
          ]
        },
        {
          "output_type": "stream",
          "name": "stdout",
          "text": [
            "Inserted 053d3f to <pinecone.index.Index object at 0x7ef6fd0335e0>\n"
          ]
        },
        {
          "output_type": "stream",
          "name": "stderr",
          "text": [
            "\rProcessing images:  35%|███▌      | 453/1278 [04:40<09:04,  1.51it/s]"
          ]
        },
        {
          "output_type": "stream",
          "name": "stdout",
          "text": [
            "Inserted 06beff to <pinecone.index.Index object at 0x7ef6fd0335e0>\n"
          ]
        },
        {
          "output_type": "stream",
          "name": "stderr",
          "text": [
            "\rProcessing images:  36%|███▌      | 454/1278 [04:41<10:34,  1.30it/s]"
          ]
        },
        {
          "output_type": "stream",
          "name": "stdout",
          "text": [
            "Inserted dfcd63 to <pinecone.index.Index object at 0x7ef6fd0335e0>\n"
          ]
        },
        {
          "output_type": "stream",
          "name": "stderr",
          "text": [
            "\rProcessing images:  36%|███▌      | 455/1278 [04:41<10:15,  1.34it/s]"
          ]
        },
        {
          "output_type": "stream",
          "name": "stdout",
          "text": [
            "Inserted 1feaf8 to <pinecone.index.Index object at 0x7ef6fd0335e0>\n"
          ]
        },
        {
          "output_type": "stream",
          "name": "stderr",
          "text": [
            "\rProcessing images:  36%|███▌      | 456/1278 [04:42<09:18,  1.47it/s]"
          ]
        },
        {
          "output_type": "stream",
          "name": "stdout",
          "text": [
            "Inserted 5cd757 to <pinecone.index.Index object at 0x7ef6fd0335e0>\n"
          ]
        },
        {
          "output_type": "stream",
          "name": "stderr",
          "text": [
            "\rProcessing images:  36%|███▌      | 457/1278 [04:43<10:41,  1.28it/s]"
          ]
        },
        {
          "output_type": "stream",
          "name": "stdout",
          "text": [
            "Inserted 1feaf8 to <pinecone.index.Index object at 0x7ef6fd0335e0>\n"
          ]
        },
        {
          "output_type": "stream",
          "name": "stderr",
          "text": [
            "\rProcessing images:  36%|███▌      | 458/1278 [04:43<09:47,  1.40it/s]"
          ]
        },
        {
          "output_type": "stream",
          "name": "stdout",
          "text": [
            "Inserted 1feaf8 to <pinecone.index.Index object at 0x7ef6fd0335e0>\n"
          ]
        },
        {
          "output_type": "stream",
          "name": "stderr",
          "text": [
            "\rProcessing images:  36%|███▌      | 459/1278 [04:44<09:29,  1.44it/s]"
          ]
        },
        {
          "output_type": "stream",
          "name": "stdout",
          "text": [
            "Inserted 1feaf8 to <pinecone.index.Index object at 0x7ef6fd0335e0>\n"
          ]
        },
        {
          "output_type": "stream",
          "name": "stderr",
          "text": [
            "\rProcessing images:  36%|███▌      | 460/1278 [04:45<10:25,  1.31it/s]"
          ]
        },
        {
          "output_type": "stream",
          "name": "stdout",
          "text": [
            "Inserted f4ff50 to <pinecone.index.Index object at 0x7ef6fd0335e0>\n"
          ]
        },
        {
          "output_type": "stream",
          "name": "stderr",
          "text": [
            "\rProcessing images:  36%|███▌      | 461/1278 [04:46<10:40,  1.28it/s]"
          ]
        },
        {
          "output_type": "stream",
          "name": "stdout",
          "text": [
            "Inserted 7db75f to <pinecone.index.Index object at 0x7ef6fd0335e0>\n"
          ]
        },
        {
          "output_type": "stream",
          "name": "stderr",
          "text": [
            "\rProcessing images:  36%|███▌      | 462/1278 [04:46<09:06,  1.49it/s]"
          ]
        },
        {
          "output_type": "stream",
          "name": "stdout",
          "text": [
            "Inserted 31fb34 to <pinecone.index.Index object at 0x7ef6fd0335e0>\n"
          ]
        },
        {
          "output_type": "stream",
          "name": "stderr",
          "text": [
            "\rProcessing images:  36%|███▌      | 463/1278 [04:47<07:57,  1.71it/s]"
          ]
        },
        {
          "output_type": "stream",
          "name": "stdout",
          "text": [
            "Inserted 4197b4 to <pinecone.index.Index object at 0x7ef6fd0335e0>\n"
          ]
        },
        {
          "output_type": "stream",
          "name": "stderr",
          "text": [
            "\rProcessing images:  36%|███▋      | 464/1278 [04:47<07:14,  1.87it/s]"
          ]
        },
        {
          "output_type": "stream",
          "name": "stdout",
          "text": [
            "Inserted dcef51 to <pinecone.index.Index object at 0x7ef6fd0335e0>\n"
          ]
        },
        {
          "output_type": "stream",
          "name": "stderr",
          "text": [
            "\rProcessing images:  36%|███▋      | 465/1278 [04:48<07:59,  1.69it/s]"
          ]
        },
        {
          "output_type": "stream",
          "name": "stdout",
          "text": [
            "Inserted 217829 to <pinecone.index.Index object at 0x7ef6fd0335e0>\n"
          ]
        },
        {
          "output_type": "stream",
          "name": "stderr",
          "text": [
            "\rProcessing images:  36%|███▋      | 466/1278 [04:48<08:20,  1.62it/s]"
          ]
        },
        {
          "output_type": "stream",
          "name": "stdout",
          "text": [
            "Inserted 99d5fc to <pinecone.index.Index object at 0x7ef6fd0335e0>\n"
          ]
        },
        {
          "output_type": "stream",
          "name": "stderr",
          "text": [
            "\rProcessing images:  37%|███▋      | 467/1278 [04:49<07:34,  1.78it/s]"
          ]
        },
        {
          "output_type": "stream",
          "name": "stdout",
          "text": [
            "Inserted 06beff to <pinecone.index.Index object at 0x7ef6fd0335e0>\n"
          ]
        },
        {
          "output_type": "stream",
          "name": "stderr",
          "text": [
            "\rProcessing images:  37%|███▋      | 468/1278 [04:49<07:11,  1.88it/s]"
          ]
        },
        {
          "output_type": "stream",
          "name": "stdout",
          "text": [
            "Inserted 99d5fc to <pinecone.index.Index object at 0x7ef6fd0335e0>\n"
          ]
        },
        {
          "output_type": "stream",
          "name": "stderr",
          "text": [
            "\rProcessing images:  37%|███▋      | 469/1278 [04:50<06:51,  1.96it/s]"
          ]
        },
        {
          "output_type": "stream",
          "name": "stdout",
          "text": [
            "Inserted d8da47 to <pinecone.index.Index object at 0x7ef6fd0335e0>\n"
          ]
        },
        {
          "output_type": "stream",
          "name": "stderr",
          "text": [
            "\rProcessing images:  37%|███▋      | 470/1278 [04:50<06:36,  2.04it/s]"
          ]
        },
        {
          "output_type": "stream",
          "name": "stdout",
          "text": [
            "Inserted a6e90e to <pinecone.index.Index object at 0x7ef6fd0335e0>\n"
          ]
        },
        {
          "output_type": "stream",
          "name": "stderr",
          "text": [
            "\rProcessing images:  37%|███▋      | 471/1278 [04:51<07:00,  1.92it/s]"
          ]
        },
        {
          "output_type": "stream",
          "name": "stdout",
          "text": [
            "Inserted 1feaf8 to <pinecone.index.Index object at 0x7ef6fd0335e0>\n"
          ]
        },
        {
          "output_type": "stream",
          "name": "stderr",
          "text": [
            "\rProcessing images:  37%|███▋      | 472/1278 [04:51<07:08,  1.88it/s]"
          ]
        },
        {
          "output_type": "stream",
          "name": "stdout",
          "text": [
            "Inserted 51aa3e to <pinecone.index.Index object at 0x7ef6fd0335e0>\n"
          ]
        },
        {
          "output_type": "stream",
          "name": "stderr",
          "text": [
            "\rProcessing images:  37%|███▋      | 473/1278 [04:52<07:12,  1.86it/s]"
          ]
        },
        {
          "output_type": "stream",
          "name": "stdout",
          "text": [
            "Inserted 06beff to <pinecone.index.Index object at 0x7ef6fd0335e0>\n"
          ]
        },
        {
          "output_type": "stream",
          "name": "stderr",
          "text": [
            "\rProcessing images:  37%|███▋      | 474/1278 [04:53<07:18,  1.83it/s]"
          ]
        },
        {
          "output_type": "stream",
          "name": "stdout",
          "text": [
            "Inserted 3c2271 to <pinecone.index.Index object at 0x7ef6fd0335e0>\n"
          ]
        },
        {
          "output_type": "stream",
          "name": "stderr",
          "text": [
            "\rProcessing images:  37%|███▋      | 475/1278 [04:53<07:02,  1.90it/s]"
          ]
        },
        {
          "output_type": "stream",
          "name": "stdout",
          "text": [
            "Inserted d8da47 to <pinecone.index.Index object at 0x7ef6fd0335e0>\n"
          ]
        },
        {
          "output_type": "stream",
          "name": "stderr",
          "text": [
            "\rProcessing images:  37%|███▋      | 476/1278 [04:54<10:21,  1.29it/s]"
          ]
        },
        {
          "output_type": "stream",
          "name": "stdout",
          "text": [
            "Inserted d613fe to <pinecone.index.Index object at 0x7ef6fd0335e0>\n"
          ]
        },
        {
          "output_type": "stream",
          "name": "stderr",
          "text": [
            "\rProcessing images:  37%|███▋      | 477/1278 [04:55<09:42,  1.38it/s]"
          ]
        },
        {
          "output_type": "stream",
          "name": "stdout",
          "text": [
            "Inserted b0b2d2 to <pinecone.index.Index object at 0x7ef6fd0335e0>\n"
          ]
        },
        {
          "output_type": "stream",
          "name": "stderr",
          "text": [
            "\rProcessing images:  37%|███▋      | 478/1278 [04:56<12:35,  1.06it/s]"
          ]
        },
        {
          "output_type": "stream",
          "name": "stdout",
          "text": [
            "Inserted a6e90e to <pinecone.index.Index object at 0x7ef6fd0335e0>\n"
          ]
        },
        {
          "output_type": "stream",
          "name": "stderr",
          "text": [
            "\rProcessing images:  37%|███▋      | 479/1278 [04:57<11:05,  1.20it/s]"
          ]
        },
        {
          "output_type": "stream",
          "name": "stdout",
          "text": [
            "Inserted a6e90e to <pinecone.index.Index object at 0x7ef6fd0335e0>\n"
          ]
        },
        {
          "output_type": "stream",
          "name": "stderr",
          "text": [
            "\rProcessing images:  38%|███▊      | 480/1278 [04:57<09:41,  1.37it/s]"
          ]
        },
        {
          "output_type": "stream",
          "name": "stdout",
          "text": [
            "Inserted a11895 to <pinecone.index.Index object at 0x7ef6fd0335e0>\n"
          ]
        },
        {
          "output_type": "stream",
          "name": "stderr",
          "text": [
            "\rProcessing images:  38%|███▊      | 481/1278 [04:58<08:40,  1.53it/s]"
          ]
        },
        {
          "output_type": "stream",
          "name": "stdout",
          "text": [
            "Inserted 135120 to <pinecone.index.Index object at 0x7ef6fd0335e0>\n"
          ]
        },
        {
          "output_type": "stream",
          "name": "stderr",
          "text": [
            "\rProcessing images:  38%|███▊      | 482/1278 [04:59<08:35,  1.54it/s]"
          ]
        },
        {
          "output_type": "stream",
          "name": "stdout",
          "text": [
            "Inserted 9b371f to <pinecone.index.Index object at 0x7ef6fd0335e0>\n"
          ]
        },
        {
          "output_type": "stream",
          "name": "stderr",
          "text": [
            "\rProcessing images:  38%|███▊      | 483/1278 [04:59<08:52,  1.49it/s]"
          ]
        },
        {
          "output_type": "stream",
          "name": "stdout",
          "text": [
            "Inserted 326d8e to <pinecone.index.Index object at 0x7ef6fd0335e0>\n"
          ]
        },
        {
          "output_type": "stream",
          "name": "stderr",
          "text": [
            "\rProcessing images:  38%|███▊      | 484/1278 [05:00<08:39,  1.53it/s]"
          ]
        },
        {
          "output_type": "stream",
          "name": "stdout",
          "text": [
            "Inserted 37b784 to <pinecone.index.Index object at 0x7ef6fd0335e0>\n"
          ]
        },
        {
          "output_type": "stream",
          "name": "stderr",
          "text": [
            "\rProcessing images:  38%|███▊      | 485/1278 [05:00<07:55,  1.67it/s]"
          ]
        },
        {
          "output_type": "stream",
          "name": "stdout",
          "text": [
            "Inserted 67b019 to <pinecone.index.Index object at 0x7ef6fd0335e0>\n"
          ]
        },
        {
          "output_type": "stream",
          "name": "stderr",
          "text": [
            "\rProcessing images:  38%|███▊      | 486/1278 [05:01<07:16,  1.81it/s]"
          ]
        },
        {
          "output_type": "stream",
          "name": "stdout",
          "text": [
            "Inserted 06beff to <pinecone.index.Index object at 0x7ef6fd0335e0>\n"
          ]
        },
        {
          "output_type": "stream",
          "name": "stderr",
          "text": [
            "\rProcessing images:  38%|███▊      | 487/1278 [05:02<07:44,  1.70it/s]"
          ]
        },
        {
          "output_type": "stream",
          "name": "stdout",
          "text": [
            "Inserted 06beff to <pinecone.index.Index object at 0x7ef6fd0335e0>\n"
          ]
        },
        {
          "output_type": "stream",
          "name": "stderr",
          "text": [
            "\rProcessing images:  38%|███▊      | 488/1278 [05:02<07:21,  1.79it/s]"
          ]
        },
        {
          "output_type": "stream",
          "name": "stdout",
          "text": [
            "Inserted fd3970 to <pinecone.index.Index object at 0x7ef6fd0335e0>\n"
          ]
        },
        {
          "output_type": "stream",
          "name": "stderr",
          "text": [
            "\rProcessing images:  38%|███▊      | 489/1278 [05:02<07:05,  1.85it/s]"
          ]
        },
        {
          "output_type": "stream",
          "name": "stdout",
          "text": [
            "Inserted 1feaf8 to <pinecone.index.Index object at 0x7ef6fd0335e0>\n"
          ]
        },
        {
          "output_type": "stream",
          "name": "stderr",
          "text": [
            "\rProcessing images:  38%|███▊      | 490/1278 [05:03<07:02,  1.86it/s]"
          ]
        },
        {
          "output_type": "stream",
          "name": "stdout",
          "text": [
            "Inserted 06beff to <pinecone.index.Index object at 0x7ef6fd0335e0>\n"
          ]
        },
        {
          "output_type": "stream",
          "name": "stderr",
          "text": [
            "\rProcessing images:  38%|███▊      | 491/1278 [05:04<07:54,  1.66it/s]"
          ]
        },
        {
          "output_type": "stream",
          "name": "stdout",
          "text": [
            "Inserted ab31b2 to <pinecone.index.Index object at 0x7ef6fd0335e0>\n"
          ]
        },
        {
          "output_type": "stream",
          "name": "stderr",
          "text": [
            "\rProcessing images:  38%|███▊      | 492/1278 [05:04<07:17,  1.80it/s]"
          ]
        },
        {
          "output_type": "stream",
          "name": "stdout",
          "text": [
            "Inserted 99d5fc to <pinecone.index.Index object at 0x7ef6fd0335e0>\n"
          ]
        },
        {
          "output_type": "stream",
          "name": "stderr",
          "text": [
            "\rProcessing images:  39%|███▊      | 493/1278 [05:05<07:30,  1.74it/s]"
          ]
        },
        {
          "output_type": "stream",
          "name": "stdout",
          "text": [
            "Inserted 06beff to <pinecone.index.Index object at 0x7ef6fd0335e0>\n"
          ]
        },
        {
          "output_type": "stream",
          "name": "stderr",
          "text": [
            "\rProcessing images:  39%|███▊      | 494/1278 [05:05<06:49,  1.91it/s]"
          ]
        },
        {
          "output_type": "stream",
          "name": "stdout",
          "text": [
            "Inserted 99d5fc to <pinecone.index.Index object at 0x7ef6fd0335e0>\n"
          ]
        },
        {
          "output_type": "stream",
          "name": "stderr",
          "text": [
            "\rProcessing images:  39%|███▊      | 495/1278 [05:06<07:56,  1.64it/s]"
          ]
        },
        {
          "output_type": "stream",
          "name": "stdout",
          "text": [
            "Inserted 6aa63e to <pinecone.index.Index object at 0x7ef6fd0335e0>\n"
          ]
        },
        {
          "output_type": "stream",
          "name": "stderr",
          "text": [
            "\rProcessing images:  39%|███▉      | 496/1278 [05:06<07:10,  1.82it/s]"
          ]
        },
        {
          "output_type": "stream",
          "name": "stdout",
          "text": [
            "Inserted 99d5fc to <pinecone.index.Index object at 0x7ef6fd0335e0>\n"
          ]
        },
        {
          "output_type": "stream",
          "name": "stderr",
          "text": [
            "\rProcessing images:  39%|███▉      | 497/1278 [05:07<06:37,  1.97it/s]"
          ]
        },
        {
          "output_type": "stream",
          "name": "stdout",
          "text": [
            "Inserted 99d5fc to <pinecone.index.Index object at 0x7ef6fd0335e0>\n"
          ]
        },
        {
          "output_type": "stream",
          "name": "stderr",
          "text": [
            "\rProcessing images:  39%|███▉      | 498/1278 [05:07<06:02,  2.15it/s]"
          ]
        },
        {
          "output_type": "stream",
          "name": "stdout",
          "text": [
            "Inserted 86f72c to <pinecone.index.Index object at 0x7ef6fd0335e0>\n"
          ]
        },
        {
          "output_type": "stream",
          "name": "stderr",
          "text": [
            "\rProcessing images:  39%|███▉      | 499/1278 [05:08<05:57,  2.18it/s]"
          ]
        },
        {
          "output_type": "stream",
          "name": "stdout",
          "text": [
            "Inserted 99d5fc to <pinecone.index.Index object at 0x7ef6fd0335e0>\n"
          ]
        },
        {
          "output_type": "stream",
          "name": "stderr",
          "text": [
            "\rProcessing images:  39%|███▉      | 500/1278 [05:08<05:40,  2.29it/s]"
          ]
        },
        {
          "output_type": "stream",
          "name": "stdout",
          "text": [
            "Inserted 1feaf8 to <pinecone.index.Index object at 0x7ef6fd0335e0>\n"
          ]
        },
        {
          "output_type": "stream",
          "name": "stderr",
          "text": [
            "\rProcessing images:  39%|███▉      | 501/1278 [05:09<06:29,  1.99it/s]"
          ]
        },
        {
          "output_type": "stream",
          "name": "stdout",
          "text": [
            "Inserted dda68f to <pinecone.index.Index object at 0x7ef6fd0335e0>\n"
          ]
        },
        {
          "output_type": "stream",
          "name": "stderr",
          "text": [
            "\rProcessing images:  39%|███▉      | 502/1278 [05:09<06:19,  2.05it/s]"
          ]
        },
        {
          "output_type": "stream",
          "name": "stdout",
          "text": [
            "Inserted 99d5fc to <pinecone.index.Index object at 0x7ef6fd0335e0>\n"
          ]
        },
        {
          "output_type": "stream",
          "name": "stderr",
          "text": [
            "\rProcessing images:  39%|███▉      | 503/1278 [05:10<06:33,  1.97it/s]"
          ]
        },
        {
          "output_type": "stream",
          "name": "stdout",
          "text": [
            "Inserted a6e90e to <pinecone.index.Index object at 0x7ef6fd0335e0>\n"
          ]
        },
        {
          "output_type": "stream",
          "name": "stderr",
          "text": [
            "\rProcessing images:  39%|███▉      | 504/1278 [05:11<08:19,  1.55it/s]"
          ]
        },
        {
          "output_type": "stream",
          "name": "stdout",
          "text": [
            "Inserted 99d5fc to <pinecone.index.Index object at 0x7ef6fd0335e0>\n"
          ]
        },
        {
          "output_type": "stream",
          "name": "stderr",
          "text": [
            "\rProcessing images:  40%|███▉      | 505/1278 [05:11<08:24,  1.53it/s]"
          ]
        },
        {
          "output_type": "stream",
          "name": "stdout",
          "text": [
            "Inserted 99d5fc to <pinecone.index.Index object at 0x7ef6fd0335e0>\n"
          ]
        },
        {
          "output_type": "stream",
          "name": "stderr",
          "text": [
            "\rProcessing images:  40%|███▉      | 506/1278 [05:12<09:19,  1.38it/s]"
          ]
        },
        {
          "output_type": "stream",
          "name": "stdout",
          "text": [
            "Inserted 06beff to <pinecone.index.Index object at 0x7ef6fd0335e0>\n"
          ]
        },
        {
          "output_type": "stream",
          "name": "stderr",
          "text": [
            "\rProcessing images:  40%|███▉      | 507/1278 [05:13<08:21,  1.54it/s]"
          ]
        },
        {
          "output_type": "stream",
          "name": "stdout",
          "text": [
            "Inserted 86f72c to <pinecone.index.Index object at 0x7ef6fd0335e0>\n"
          ]
        },
        {
          "output_type": "stream",
          "name": "stderr",
          "text": [
            "\rProcessing images:  40%|███▉      | 508/1278 [05:13<07:51,  1.63it/s]"
          ]
        },
        {
          "output_type": "stream",
          "name": "stdout",
          "text": [
            "Inserted 99d5fc to <pinecone.index.Index object at 0x7ef6fd0335e0>\n"
          ]
        },
        {
          "output_type": "stream",
          "name": "stderr",
          "text": [
            "\rProcessing images:  40%|███▉      | 509/1278 [05:14<07:32,  1.70it/s]"
          ]
        },
        {
          "output_type": "stream",
          "name": "stdout",
          "text": [
            "Inserted 86f72c to <pinecone.index.Index object at 0x7ef6fd0335e0>\n"
          ]
        },
        {
          "output_type": "stream",
          "name": "stderr",
          "text": [
            "\rProcessing images:  40%|███▉      | 510/1278 [05:14<07:22,  1.73it/s]"
          ]
        },
        {
          "output_type": "stream",
          "name": "stdout",
          "text": [
            "Inserted b2d165 to <pinecone.index.Index object at 0x7ef6fd0335e0>\n"
          ]
        },
        {
          "output_type": "stream",
          "name": "stderr",
          "text": [
            "\rProcessing images:  40%|███▉      | 511/1278 [05:15<07:00,  1.82it/s]"
          ]
        },
        {
          "output_type": "stream",
          "name": "stdout",
          "text": [
            "Inserted 06beff to <pinecone.index.Index object at 0x7ef6fd0335e0>\n"
          ]
        },
        {
          "output_type": "stream",
          "name": "stderr",
          "text": [
            "\rProcessing images:  40%|████      | 512/1278 [05:15<07:24,  1.72it/s]"
          ]
        },
        {
          "output_type": "stream",
          "name": "stdout",
          "text": [
            "Inserted 06beff to <pinecone.index.Index object at 0x7ef6fd0335e0>\n"
          ]
        },
        {
          "output_type": "stream",
          "name": "stderr",
          "text": [
            "\rProcessing images:  40%|████      | 513/1278 [05:16<06:44,  1.89it/s]"
          ]
        },
        {
          "output_type": "stream",
          "name": "stdout",
          "text": [
            "Inserted 06beff to <pinecone.index.Index object at 0x7ef6fd0335e0>\n"
          ]
        },
        {
          "output_type": "stream",
          "name": "stderr",
          "text": [
            "\rProcessing images:  40%|████      | 514/1278 [05:17<08:10,  1.56it/s]"
          ]
        },
        {
          "output_type": "stream",
          "name": "stdout",
          "text": [
            "Inserted 06beff to <pinecone.index.Index object at 0x7ef6fd0335e0>\n"
          ]
        },
        {
          "output_type": "stream",
          "name": "stderr",
          "text": [
            "\rProcessing images:  40%|████      | 515/1278 [05:17<07:24,  1.72it/s]"
          ]
        },
        {
          "output_type": "stream",
          "name": "stdout",
          "text": [
            "Inserted df24bd to <pinecone.index.Index object at 0x7ef6fd0335e0>\n"
          ]
        },
        {
          "output_type": "stream",
          "name": "stderr",
          "text": [
            "\rProcessing images:  40%|████      | 516/1278 [05:18<06:42,  1.89it/s]"
          ]
        },
        {
          "output_type": "stream",
          "name": "stdout",
          "text": [
            "Inserted 99d5fc to <pinecone.index.Index object at 0x7ef6fd0335e0>\n"
          ]
        },
        {
          "output_type": "stream",
          "name": "stderr",
          "text": [
            "\rProcessing images:  40%|████      | 517/1278 [05:18<06:42,  1.89it/s]"
          ]
        },
        {
          "output_type": "stream",
          "name": "stdout",
          "text": [
            "Inserted ac8010 to <pinecone.index.Index object at 0x7ef6fd0335e0>\n"
          ]
        },
        {
          "output_type": "stream",
          "name": "stderr",
          "text": [
            "\rProcessing images:  41%|████      | 518/1278 [05:19<06:47,  1.87it/s]"
          ]
        },
        {
          "output_type": "stream",
          "name": "stdout",
          "text": [
            "Inserted 5c2d88 to <pinecone.index.Index object at 0x7ef6fd0335e0>\n"
          ]
        },
        {
          "output_type": "stream",
          "name": "stderr",
          "text": [
            "\rProcessing images:  41%|████      | 519/1278 [05:19<06:39,  1.90it/s]"
          ]
        },
        {
          "output_type": "stream",
          "name": "stdout",
          "text": [
            "Inserted 1feaf8 to <pinecone.index.Index object at 0x7ef6fd0335e0>\n"
          ]
        },
        {
          "output_type": "stream",
          "name": "stderr",
          "text": [
            "\rProcessing images:  41%|████      | 520/1278 [05:20<06:23,  1.98it/s]"
          ]
        },
        {
          "output_type": "stream",
          "name": "stdout",
          "text": [
            "Inserted 99d5fc to <pinecone.index.Index object at 0x7ef6fd0335e0>\n"
          ]
        },
        {
          "output_type": "stream",
          "name": "stderr",
          "text": [
            "\rProcessing images:  41%|████      | 521/1278 [05:20<06:08,  2.06it/s]"
          ]
        },
        {
          "output_type": "stream",
          "name": "stdout",
          "text": [
            "Inserted 99d5fc to <pinecone.index.Index object at 0x7ef6fd0335e0>\n"
          ]
        },
        {
          "output_type": "stream",
          "name": "stderr",
          "text": [
            "\rProcessing images:  41%|████      | 522/1278 [05:21<06:05,  2.07it/s]"
          ]
        },
        {
          "output_type": "stream",
          "name": "stdout",
          "text": [
            "Inserted 1feaf8 to <pinecone.index.Index object at 0x7ef6fd0335e0>\n"
          ]
        },
        {
          "output_type": "stream",
          "name": "stderr",
          "text": [
            "\rProcessing images:  41%|████      | 523/1278 [05:21<06:12,  2.03it/s]"
          ]
        },
        {
          "output_type": "stream",
          "name": "stdout",
          "text": [
            "Inserted 1feaf8 to <pinecone.index.Index object at 0x7ef6fd0335e0>\n"
          ]
        },
        {
          "output_type": "stream",
          "name": "stderr",
          "text": [
            "\rProcessing images:  41%|████      | 524/1278 [05:22<05:58,  2.10it/s]"
          ]
        },
        {
          "output_type": "stream",
          "name": "stdout",
          "text": [
            "Inserted 1feaf8 to <pinecone.index.Index object at 0x7ef6fd0335e0>\n"
          ]
        },
        {
          "output_type": "stream",
          "name": "stderr",
          "text": [
            "\rProcessing images:  41%|████      | 525/1278 [05:23<07:57,  1.58it/s]"
          ]
        },
        {
          "output_type": "stream",
          "name": "stdout",
          "text": [
            "Inserted 020dce to <pinecone.index.Index object at 0x7ef6fd0335e0>\n"
          ]
        },
        {
          "output_type": "stream",
          "name": "stderr",
          "text": [
            "\rProcessing images:  41%|████      | 526/1278 [05:23<06:57,  1.80it/s]"
          ]
        },
        {
          "output_type": "stream",
          "name": "stdout",
          "text": [
            "Inserted 06beff to <pinecone.index.Index object at 0x7ef6fd0335e0>\n"
          ]
        },
        {
          "output_type": "stream",
          "name": "stderr",
          "text": [
            "\rProcessing images:  41%|████      | 527/1278 [05:24<07:06,  1.76it/s]"
          ]
        },
        {
          "output_type": "stream",
          "name": "stdout",
          "text": [
            "Inserted 06beff to <pinecone.index.Index object at 0x7ef6fd0335e0>\n"
          ]
        },
        {
          "output_type": "stream",
          "name": "stderr",
          "text": [
            "\rProcessing images:  41%|████▏     | 528/1278 [05:24<06:50,  1.83it/s]"
          ]
        },
        {
          "output_type": "stream",
          "name": "stdout",
          "text": [
            "Inserted f817b7 to <pinecone.index.Index object at 0x7ef6fd0335e0>\n"
          ]
        },
        {
          "output_type": "stream",
          "name": "stderr",
          "text": [
            "\rProcessing images:  41%|████▏     | 529/1278 [05:25<06:41,  1.87it/s]"
          ]
        },
        {
          "output_type": "stream",
          "name": "stdout",
          "text": [
            "Inserted 1feaf8 to <pinecone.index.Index object at 0x7ef6fd0335e0>\n"
          ]
        },
        {
          "output_type": "stream",
          "name": "stderr",
          "text": [
            "\rProcessing images:  41%|████▏     | 530/1278 [05:25<06:41,  1.86it/s]"
          ]
        },
        {
          "output_type": "stream",
          "name": "stdout",
          "text": [
            "Inserted 937a99 to <pinecone.index.Index object at 0x7ef6fd0335e0>\n"
          ]
        },
        {
          "output_type": "stream",
          "name": "stderr",
          "text": [
            "\rProcessing images:  42%|████▏     | 531/1278 [05:26<06:40,  1.86it/s]"
          ]
        },
        {
          "output_type": "stream",
          "name": "stdout",
          "text": [
            "Inserted ec445b to <pinecone.index.Index object at 0x7ef6fd0335e0>\n"
          ]
        },
        {
          "output_type": "stream",
          "name": "stderr",
          "text": [
            "\rProcessing images:  42%|████▏     | 532/1278 [05:26<06:33,  1.90it/s]"
          ]
        },
        {
          "output_type": "stream",
          "name": "stdout",
          "text": [
            "Inserted 5b1b9c to <pinecone.index.Index object at 0x7ef6fd0335e0>\n"
          ]
        },
        {
          "output_type": "stream",
          "name": "stderr",
          "text": [
            "\rProcessing images:  42%|████▏     | 533/1278 [05:27<06:42,  1.85it/s]"
          ]
        },
        {
          "output_type": "stream",
          "name": "stdout",
          "text": [
            "Inserted 1feaf8 to <pinecone.index.Index object at 0x7ef6fd0335e0>\n"
          ]
        },
        {
          "output_type": "stream",
          "name": "stderr",
          "text": [
            "\rProcessing images:  42%|████▏     | 534/1278 [05:28<09:15,  1.34it/s]"
          ]
        },
        {
          "output_type": "stream",
          "name": "stdout",
          "text": [
            "Inserted 1feaf8 to <pinecone.index.Index object at 0x7ef6fd0335e0>\n"
          ]
        },
        {
          "output_type": "stream",
          "name": "stderr",
          "text": [
            "\rProcessing images:  42%|████▏     | 535/1278 [05:29<09:31,  1.30it/s]"
          ]
        },
        {
          "output_type": "stream",
          "name": "stdout",
          "text": [
            "Inserted 95d3aa to <pinecone.index.Index object at 0x7ef6fd0335e0>\n"
          ]
        },
        {
          "output_type": "stream",
          "name": "stderr",
          "text": [
            "\rProcessing images:  42%|████▏     | 536/1278 [05:29<08:24,  1.47it/s]"
          ]
        },
        {
          "output_type": "stream",
          "name": "stdout",
          "text": [
            "Inserted 4c05ac to <pinecone.index.Index object at 0x7ef6fd0335e0>\n"
          ]
        },
        {
          "output_type": "stream",
          "name": "stderr",
          "text": [
            "\rProcessing images:  42%|████▏     | 537/1278 [05:30<07:38,  1.62it/s]"
          ]
        },
        {
          "output_type": "stream",
          "name": "stdout",
          "text": [
            "Inserted 96d3b0 to <pinecone.index.Index object at 0x7ef6fd0335e0>\n"
          ]
        },
        {
          "output_type": "stream",
          "name": "stderr",
          "text": [
            "\rProcessing images:  42%|████▏     | 538/1278 [05:30<07:15,  1.70it/s]"
          ]
        },
        {
          "output_type": "stream",
          "name": "stdout",
          "text": [
            "Inserted 0b6e84 to <pinecone.index.Index object at 0x7ef6fd0335e0>\n"
          ]
        },
        {
          "output_type": "stream",
          "name": "stderr",
          "text": [
            "\rProcessing images:  42%|████▏     | 539/1278 [05:31<08:35,  1.43it/s]"
          ]
        },
        {
          "output_type": "stream",
          "name": "stdout",
          "text": [
            "Inserted 3bf5e1 to <pinecone.index.Index object at 0x7ef6fd0335e0>\n"
          ]
        },
        {
          "output_type": "stream",
          "name": "stderr",
          "text": [
            "\rProcessing images:  42%|████▏     | 540/1278 [05:32<10:23,  1.18it/s]"
          ]
        },
        {
          "output_type": "stream",
          "name": "stdout",
          "text": [
            "Inserted 2e56b3 to <pinecone.index.Index object at 0x7ef6fd0335e0>\n"
          ]
        },
        {
          "output_type": "stream",
          "name": "stderr",
          "text": [
            "\rProcessing images:  42%|████▏     | 541/1278 [05:33<09:21,  1.31it/s]"
          ]
        },
        {
          "output_type": "stream",
          "name": "stdout",
          "text": [
            "Inserted a616a8 to <pinecone.index.Index object at 0x7ef6fd0335e0>\n"
          ]
        },
        {
          "output_type": "stream",
          "name": "stderr",
          "text": [
            "\rProcessing images:  42%|████▏     | 542/1278 [05:34<10:55,  1.12it/s]"
          ]
        },
        {
          "output_type": "stream",
          "name": "stdout",
          "text": [
            "Inserted 1c4e02 to <pinecone.index.Index object at 0x7ef6fd0335e0>\n"
          ]
        },
        {
          "output_type": "stream",
          "name": "stderr",
          "text": [
            "\rProcessing images:  42%|████▏     | 543/1278 [05:35<09:50,  1.24it/s]"
          ]
        },
        {
          "output_type": "stream",
          "name": "stdout",
          "text": [
            "Inserted 99d5fc to <pinecone.index.Index object at 0x7ef6fd0335e0>\n"
          ]
        },
        {
          "output_type": "stream",
          "name": "stderr",
          "text": [
            "\rProcessing images:  43%|████▎     | 544/1278 [05:35<08:27,  1.45it/s]"
          ]
        },
        {
          "output_type": "stream",
          "name": "stdout",
          "text": [
            "Inserted 6fe8d0 to <pinecone.index.Index object at 0x7ef6fd0335e0>\n"
          ]
        },
        {
          "output_type": "stream",
          "name": "stderr",
          "text": [
            "\rProcessing images:  43%|████▎     | 545/1278 [05:36<07:49,  1.56it/s]"
          ]
        },
        {
          "output_type": "stream",
          "name": "stdout",
          "text": [
            "Inserted 937270 to <pinecone.index.Index object at 0x7ef6fd0335e0>\n"
          ]
        },
        {
          "output_type": "stream",
          "name": "stderr",
          "text": [
            "\rProcessing images:  43%|████▎     | 546/1278 [05:36<06:55,  1.76it/s]"
          ]
        },
        {
          "output_type": "stream",
          "name": "stdout",
          "text": [
            "Inserted 6b6f36 to <pinecone.index.Index object at 0x7ef6fd0335e0>\n"
          ]
        },
        {
          "output_type": "stream",
          "name": "stderr",
          "text": [
            "\rProcessing images:  43%|████▎     | 547/1278 [05:37<07:17,  1.67it/s]"
          ]
        },
        {
          "output_type": "stream",
          "name": "stdout",
          "text": [
            "Inserted 0dd5c2 to <pinecone.index.Index object at 0x7ef6fd0335e0>\n"
          ]
        },
        {
          "output_type": "stream",
          "name": "stderr",
          "text": [
            "\rProcessing images:  43%|████▎     | 548/1278 [05:37<07:39,  1.59it/s]"
          ]
        },
        {
          "output_type": "stream",
          "name": "stdout",
          "text": [
            "Inserted 7ba308 to <pinecone.index.Index object at 0x7ef6fd0335e0>\n"
          ]
        },
        {
          "output_type": "stream",
          "name": "stderr",
          "text": [
            "\rProcessing images:  43%|████▎     | 549/1278 [05:38<06:53,  1.76it/s]"
          ]
        },
        {
          "output_type": "stream",
          "name": "stdout",
          "text": [
            "Inserted 70db79 to <pinecone.index.Index object at 0x7ef6fd0335e0>\n"
          ]
        },
        {
          "output_type": "stream",
          "name": "stderr",
          "text": [
            "\rProcessing images:  43%|████▎     | 550/1278 [05:39<07:55,  1.53it/s]"
          ]
        },
        {
          "output_type": "stream",
          "name": "stdout",
          "text": [
            "Inserted 60ef13 to <pinecone.index.Index object at 0x7ef6fd0335e0>\n"
          ]
        },
        {
          "output_type": "stream",
          "name": "stderr",
          "text": [
            "\rProcessing images:  43%|████▎     | 551/1278 [05:40<08:30,  1.42it/s]"
          ]
        },
        {
          "output_type": "stream",
          "name": "stdout",
          "text": [
            "Inserted 13e72f to <pinecone.index.Index object at 0x7ef6fd0335e0>\n"
          ]
        },
        {
          "output_type": "stream",
          "name": "stderr",
          "text": [
            "\rProcessing images:  43%|████▎     | 552/1278 [05:40<07:31,  1.61it/s]"
          ]
        },
        {
          "output_type": "stream",
          "name": "stdout",
          "text": [
            "Inserted 2e16ed to <pinecone.index.Index object at 0x7ef6fd0335e0>\n"
          ]
        },
        {
          "output_type": "stream",
          "name": "stderr",
          "text": [
            "\rProcessing images:  43%|████▎     | 553/1278 [05:40<06:56,  1.74it/s]"
          ]
        },
        {
          "output_type": "stream",
          "name": "stdout",
          "text": [
            "Inserted d4545e to <pinecone.index.Index object at 0x7ef6fd0335e0>\n"
          ]
        },
        {
          "output_type": "stream",
          "name": "stderr",
          "text": [
            "\rProcessing images:  43%|████▎     | 554/1278 [05:42<08:52,  1.36it/s]"
          ]
        },
        {
          "output_type": "stream",
          "name": "stdout",
          "text": [
            "Inserted c5f479 to <pinecone.index.Index object at 0x7ef6fd0335e0>\n"
          ]
        },
        {
          "output_type": "stream",
          "name": "stderr",
          "text": [
            "\rProcessing images:  43%|████▎     | 555/1278 [05:42<08:25,  1.43it/s]"
          ]
        },
        {
          "output_type": "stream",
          "name": "stdout",
          "text": [
            "Inserted 8f3c0b to <pinecone.index.Index object at 0x7ef6fd0335e0>\n"
          ]
        },
        {
          "output_type": "stream",
          "name": "stderr",
          "text": [
            "\rProcessing images:  44%|████▎     | 556/1278 [05:43<07:44,  1.56it/s]"
          ]
        },
        {
          "output_type": "stream",
          "name": "stdout",
          "text": [
            "Inserted 91c634 to <pinecone.index.Index object at 0x7ef6fd0335e0>\n"
          ]
        },
        {
          "output_type": "stream",
          "name": "stderr",
          "text": [
            "\rProcessing images:  44%|████▎     | 557/1278 [05:43<07:21,  1.63it/s]"
          ]
        },
        {
          "output_type": "stream",
          "name": "stdout",
          "text": [
            "Inserted b38f39 to <pinecone.index.Index object at 0x7ef6fd0335e0>\n"
          ]
        },
        {
          "output_type": "stream",
          "name": "stderr",
          "text": [
            "\rProcessing images:  44%|████▎     | 558/1278 [05:44<06:53,  1.74it/s]"
          ]
        },
        {
          "output_type": "stream",
          "name": "stdout",
          "text": [
            "Inserted b64d9c to <pinecone.index.Index object at 0x7ef6fd0335e0>\n"
          ]
        },
        {
          "output_type": "stream",
          "name": "stderr",
          "text": [
            "\rProcessing images:  44%|████▎     | 559/1278 [05:44<06:33,  1.83it/s]"
          ]
        },
        {
          "output_type": "stream",
          "name": "stdout",
          "text": [
            "Inserted 415696 to <pinecone.index.Index object at 0x7ef6fd0335e0>\n"
          ]
        },
        {
          "output_type": "stream",
          "name": "stderr",
          "text": [
            "\rProcessing images:  44%|████▍     | 560/1278 [05:45<07:25,  1.61it/s]"
          ]
        },
        {
          "output_type": "stream",
          "name": "stdout",
          "text": [
            "Inserted b52b4e to <pinecone.index.Index object at 0x7ef6fd0335e0>\n"
          ]
        },
        {
          "output_type": "stream",
          "name": "stderr",
          "text": [
            "\rProcessing images:  44%|████▍     | 561/1278 [05:45<07:06,  1.68it/s]"
          ]
        },
        {
          "output_type": "stream",
          "name": "stdout",
          "text": [
            "Inserted ba7eb9 to <pinecone.index.Index object at 0x7ef6fd0335e0>\n"
          ]
        },
        {
          "output_type": "stream",
          "name": "stderr",
          "text": [
            "\rProcessing images:  44%|████▍     | 562/1278 [05:46<06:25,  1.86it/s]"
          ]
        },
        {
          "output_type": "stream",
          "name": "stdout",
          "text": [
            "Inserted a63a83 to <pinecone.index.Index object at 0x7ef6fd0335e0>\n"
          ]
        },
        {
          "output_type": "stream",
          "name": "stderr",
          "text": [
            "\rProcessing images:  44%|████▍     | 563/1278 [05:46<05:59,  1.99it/s]"
          ]
        },
        {
          "output_type": "stream",
          "name": "stdout",
          "text": [
            "Inserted 5d8e8e to <pinecone.index.Index object at 0x7ef6fd0335e0>\n"
          ]
        },
        {
          "output_type": "stream",
          "name": "stderr",
          "text": [
            "\rProcessing images:  44%|████▍     | 564/1278 [05:47<06:20,  1.88it/s]"
          ]
        },
        {
          "output_type": "stream",
          "name": "stdout",
          "text": [
            "Inserted 009fee to <pinecone.index.Index object at 0x7ef6fd0335e0>\n"
          ]
        },
        {
          "output_type": "stream",
          "name": "stderr",
          "text": [
            "\rProcessing images:  44%|████▍     | 565/1278 [05:47<05:58,  1.99it/s]"
          ]
        },
        {
          "output_type": "stream",
          "name": "stdout",
          "text": [
            "Inserted 4c468b to <pinecone.index.Index object at 0x7ef6fd0335e0>\n"
          ]
        },
        {
          "output_type": "stream",
          "name": "stderr",
          "text": [
            "\rProcessing images:  44%|████▍     | 566/1278 [05:48<05:37,  2.11it/s]"
          ]
        },
        {
          "output_type": "stream",
          "name": "stdout",
          "text": [
            "Inserted c12540 to <pinecone.index.Index object at 0x7ef6fd0335e0>\n"
          ]
        },
        {
          "output_type": "stream",
          "name": "stderr",
          "text": [
            "\rProcessing images:  44%|████▍     | 567/1278 [05:48<06:33,  1.81it/s]"
          ]
        },
        {
          "output_type": "stream",
          "name": "stdout",
          "text": [
            "Inserted 6a0e4b to <pinecone.index.Index object at 0x7ef6fd0335e0>\n"
          ]
        },
        {
          "output_type": "stream",
          "name": "stderr",
          "text": [
            "\rProcessing images:  44%|████▍     | 568/1278 [05:49<06:49,  1.73it/s]"
          ]
        },
        {
          "output_type": "stream",
          "name": "stdout",
          "text": [
            "Inserted 0311bf to <pinecone.index.Index object at 0x7ef6fd0335e0>\n"
          ]
        },
        {
          "output_type": "stream",
          "name": "stderr",
          "text": [
            "\rProcessing images:  45%|████▍     | 569/1278 [05:50<06:28,  1.83it/s]"
          ]
        },
        {
          "output_type": "stream",
          "name": "stdout",
          "text": [
            "Inserted fa8f5d to <pinecone.index.Index object at 0x7ef6fd0335e0>\n"
          ]
        },
        {
          "output_type": "stream",
          "name": "stderr",
          "text": [
            "\rProcessing images:  45%|████▍     | 570/1278 [05:50<06:14,  1.89it/s]"
          ]
        },
        {
          "output_type": "stream",
          "name": "stdout",
          "text": [
            "Inserted 06beff to <pinecone.index.Index object at 0x7ef6fd0335e0>\n"
          ]
        },
        {
          "output_type": "stream",
          "name": "stderr",
          "text": [
            "\rProcessing images:  45%|████▍     | 571/1278 [05:51<05:53,  2.00it/s]"
          ]
        },
        {
          "output_type": "stream",
          "name": "stdout",
          "text": [
            "Inserted 9b4077 to <pinecone.index.Index object at 0x7ef6fd0335e0>\n"
          ]
        },
        {
          "output_type": "stream",
          "name": "stderr",
          "text": [
            "\rProcessing images:  45%|████▍     | 572/1278 [05:51<06:00,  1.96it/s]"
          ]
        },
        {
          "output_type": "stream",
          "name": "stdout",
          "text": [
            "Inserted 082161 to <pinecone.index.Index object at 0x7ef6fd0335e0>\n"
          ]
        },
        {
          "output_type": "stream",
          "name": "stderr",
          "text": [
            "\rProcessing images:  45%|████▍     | 573/1278 [05:52<05:58,  1.97it/s]"
          ]
        },
        {
          "output_type": "stream",
          "name": "stdout",
          "text": [
            "Inserted df92ac to <pinecone.index.Index object at 0x7ef6fd0335e0>\n"
          ]
        },
        {
          "output_type": "stream",
          "name": "stderr",
          "text": [
            "\rProcessing images:  45%|████▍     | 574/1278 [05:52<05:43,  2.05it/s]"
          ]
        },
        {
          "output_type": "stream",
          "name": "stdout",
          "text": [
            "Inserted 2ac38f to <pinecone.index.Index object at 0x7ef6fd0335e0>\n"
          ]
        },
        {
          "output_type": "stream",
          "name": "stderr",
          "text": [
            "\rProcessing images:  45%|████▍     | 575/1278 [05:53<05:49,  2.01it/s]"
          ]
        },
        {
          "output_type": "stream",
          "name": "stdout",
          "text": [
            "Inserted 4c468b to <pinecone.index.Index object at 0x7ef6fd0335e0>\n"
          ]
        },
        {
          "output_type": "stream",
          "name": "stderr",
          "text": [
            "\rProcessing images:  45%|████▌     | 576/1278 [05:53<05:52,  1.99it/s]"
          ]
        },
        {
          "output_type": "stream",
          "name": "stdout",
          "text": [
            "Inserted 00ad6f to <pinecone.index.Index object at 0x7ef6fd0335e0>\n"
          ]
        },
        {
          "output_type": "stream",
          "name": "stderr",
          "text": [
            "\rProcessing images:  45%|████▌     | 577/1278 [05:54<06:39,  1.76it/s]"
          ]
        },
        {
          "output_type": "stream",
          "name": "stdout",
          "text": [
            "Inserted d8ff95 to <pinecone.index.Index object at 0x7ef6fd0335e0>\n"
          ]
        },
        {
          "output_type": "stream",
          "name": "stderr",
          "text": [
            "\rProcessing images:  45%|████▌     | 578/1278 [05:54<06:40,  1.75it/s]"
          ]
        },
        {
          "output_type": "stream",
          "name": "stdout",
          "text": [
            "Inserted 7bf39d to <pinecone.index.Index object at 0x7ef6fd0335e0>\n"
          ]
        },
        {
          "output_type": "stream",
          "name": "stderr",
          "text": [
            "\rProcessing images:  45%|████▌     | 579/1278 [05:55<06:12,  1.88it/s]"
          ]
        },
        {
          "output_type": "stream",
          "name": "stdout",
          "text": [
            "Inserted b74683 to <pinecone.index.Index object at 0x7ef6fd0335e0>\n"
          ]
        },
        {
          "output_type": "stream",
          "name": "stderr",
          "text": [
            "\rProcessing images:  45%|████▌     | 580/1278 [05:55<05:51,  1.98it/s]"
          ]
        },
        {
          "output_type": "stream",
          "name": "stdout",
          "text": [
            "Inserted 55d560 to <pinecone.index.Index object at 0x7ef6fd0335e0>\n"
          ]
        },
        {
          "output_type": "stream",
          "name": "stderr",
          "text": [
            "\rProcessing images:  45%|████▌     | 581/1278 [05:56<05:48,  2.00it/s]"
          ]
        },
        {
          "output_type": "stream",
          "name": "stdout",
          "text": [
            "Inserted 42b9d8 to <pinecone.index.Index object at 0x7ef6fd0335e0>\n"
          ]
        },
        {
          "output_type": "stream",
          "name": "stderr",
          "text": [
            "\rProcessing images:  46%|████▌     | 582/1278 [05:56<05:55,  1.96it/s]"
          ]
        },
        {
          "output_type": "stream",
          "name": "stdout",
          "text": [
            "Inserted 7a7233 to <pinecone.index.Index object at 0x7ef6fd0335e0>\n"
          ]
        },
        {
          "output_type": "stream",
          "name": "stderr",
          "text": [
            "\rProcessing images:  46%|████▌     | 583/1278 [05:57<05:46,  2.00it/s]"
          ]
        },
        {
          "output_type": "stream",
          "name": "stdout",
          "text": [
            "Inserted e0b436 to <pinecone.index.Index object at 0x7ef6fd0335e0>\n"
          ]
        },
        {
          "output_type": "stream",
          "name": "stderr",
          "text": [
            "\rProcessing images:  46%|████▌     | 584/1278 [05:57<05:41,  2.03it/s]"
          ]
        },
        {
          "output_type": "stream",
          "name": "stdout",
          "text": [
            "Inserted be0c36 to <pinecone.index.Index object at 0x7ef6fd0335e0>\n"
          ]
        },
        {
          "output_type": "stream",
          "name": "stderr",
          "text": [
            "\rProcessing images:  46%|████▌     | 585/1278 [05:58<05:50,  1.98it/s]"
          ]
        },
        {
          "output_type": "stream",
          "name": "stdout",
          "text": [
            "Inserted 6ceef4 to <pinecone.index.Index object at 0x7ef6fd0335e0>\n"
          ]
        },
        {
          "output_type": "stream",
          "name": "stderr",
          "text": [
            "\rProcessing images:  46%|████▌     | 586/1278 [05:58<05:50,  1.98it/s]"
          ]
        },
        {
          "output_type": "stream",
          "name": "stdout",
          "text": [
            "Inserted 70c3a4 to <pinecone.index.Index object at 0x7ef6fd0335e0>\n"
          ]
        },
        {
          "output_type": "stream",
          "name": "stderr",
          "text": [
            "\rProcessing images:  46%|████▌     | 587/1278 [05:59<06:45,  1.70it/s]"
          ]
        },
        {
          "output_type": "stream",
          "name": "stdout",
          "text": [
            "Inserted e49d10 to <pinecone.index.Index object at 0x7ef6fd0335e0>\n"
          ]
        },
        {
          "output_type": "stream",
          "name": "stderr",
          "text": [
            "\rProcessing images:  46%|████▌     | 588/1278 [06:00<08:06,  1.42it/s]"
          ]
        },
        {
          "output_type": "stream",
          "name": "stdout",
          "text": [
            "Inserted ef9674 to <pinecone.index.Index object at 0x7ef6fd0335e0>\n"
          ]
        },
        {
          "output_type": "stream",
          "name": "stderr",
          "text": [
            "\rProcessing images:  46%|████▌     | 589/1278 [06:01<07:34,  1.52it/s]"
          ]
        },
        {
          "output_type": "stream",
          "name": "stdout",
          "text": [
            "Inserted 99d5fc to <pinecone.index.Index object at 0x7ef6fd0335e0>\n"
          ]
        },
        {
          "output_type": "stream",
          "name": "stderr",
          "text": [
            "\rProcessing images:  46%|████▌     | 590/1278 [06:01<06:56,  1.65it/s]"
          ]
        },
        {
          "output_type": "stream",
          "name": "stdout",
          "text": [
            "Inserted 88c0cc to <pinecone.index.Index object at 0x7ef6fd0335e0>\n"
          ]
        },
        {
          "output_type": "stream",
          "name": "stderr",
          "text": [
            "\rProcessing images:  46%|████▌     | 591/1278 [06:02<07:11,  1.59it/s]"
          ]
        },
        {
          "output_type": "stream",
          "name": "stdout",
          "text": [
            "Inserted cc8008 to <pinecone.index.Index object at 0x7ef6fd0335e0>\n"
          ]
        },
        {
          "output_type": "stream",
          "name": "stderr",
          "text": [
            "\rProcessing images:  46%|████▋     | 592/1278 [06:02<06:57,  1.64it/s]"
          ]
        },
        {
          "output_type": "stream",
          "name": "stdout",
          "text": [
            "Inserted 2b7980 to <pinecone.index.Index object at 0x7ef6fd0335e0>\n"
          ]
        },
        {
          "output_type": "stream",
          "name": "stderr",
          "text": [
            "\rProcessing images:  46%|████▋     | 593/1278 [06:03<06:15,  1.82it/s]"
          ]
        },
        {
          "output_type": "stream",
          "name": "stdout",
          "text": [
            "Inserted 06beff to <pinecone.index.Index object at 0x7ef6fd0335e0>\n"
          ]
        },
        {
          "output_type": "stream",
          "name": "stderr",
          "text": [
            "\rProcessing images:  46%|████▋     | 594/1278 [06:03<05:53,  1.94it/s]"
          ]
        },
        {
          "output_type": "stream",
          "name": "stdout",
          "text": [
            "Inserted d06fa1 to <pinecone.index.Index object at 0x7ef6fd0335e0>\n"
          ]
        },
        {
          "output_type": "stream",
          "name": "stderr",
          "text": [
            "\rProcessing images:  47%|████▋     | 595/1278 [06:04<06:07,  1.86it/s]"
          ]
        },
        {
          "output_type": "stream",
          "name": "stdout",
          "text": [
            "Inserted 06beff to <pinecone.index.Index object at 0x7ef6fd0335e0>\n"
          ]
        },
        {
          "output_type": "stream",
          "name": "stderr",
          "text": [
            "\rProcessing images:  47%|████▋     | 596/1278 [06:04<05:49,  1.95it/s]"
          ]
        },
        {
          "output_type": "stream",
          "name": "stdout",
          "text": [
            "Inserted 4c468b to <pinecone.index.Index object at 0x7ef6fd0335e0>\n"
          ]
        },
        {
          "output_type": "stream",
          "name": "stderr",
          "text": [
            "\rProcessing images:  47%|████▋     | 597/1278 [06:05<05:26,  2.08it/s]"
          ]
        },
        {
          "output_type": "stream",
          "name": "stdout",
          "text": [
            "Inserted 2a2b2a to <pinecone.index.Index object at 0x7ef6fd0335e0>\n"
          ]
        },
        {
          "output_type": "stream",
          "name": "stderr",
          "text": [
            "\rProcessing images:  47%|████▋     | 598/1278 [06:05<05:45,  1.97it/s]"
          ]
        },
        {
          "output_type": "stream",
          "name": "stdout",
          "text": [
            "Skipping faulty image from URL: https://prod-images-static.radiopaedia.org/images/55964882/export--1116638688.jpg\n"
          ]
        },
        {
          "output_type": "stream",
          "name": "stderr",
          "text": [
            "\rProcessing images:  47%|████▋     | 599/1278 [06:06<05:44,  1.97it/s]"
          ]
        },
        {
          "output_type": "stream",
          "name": "stdout",
          "text": [
            "Inserted 99d5fc to <pinecone.index.Index object at 0x7ef6fd0335e0>\n"
          ]
        },
        {
          "output_type": "stream",
          "name": "stderr",
          "text": [
            "\rProcessing images:  47%|████▋     | 600/1278 [06:06<05:37,  2.01it/s]"
          ]
        },
        {
          "output_type": "stream",
          "name": "stdout",
          "text": [
            "Inserted 99d5fc to <pinecone.index.Index object at 0x7ef6fd0335e0>\n"
          ]
        },
        {
          "output_type": "stream",
          "name": "stderr",
          "text": [
            "\rProcessing images:  47%|████▋     | 601/1278 [06:07<05:39,  1.99it/s]"
          ]
        },
        {
          "output_type": "stream",
          "name": "stdout",
          "text": [
            "Inserted 99d5fc to <pinecone.index.Index object at 0x7ef6fd0335e0>\n"
          ]
        },
        {
          "output_type": "stream",
          "name": "stderr",
          "text": [
            "\rProcessing images:  47%|████▋     | 602/1278 [06:07<05:53,  1.91it/s]"
          ]
        },
        {
          "output_type": "stream",
          "name": "stdout",
          "text": [
            "Inserted 43c58d to <pinecone.index.Index object at 0x7ef6fd0335e0>\n"
          ]
        },
        {
          "output_type": "stream",
          "name": "stderr",
          "text": [
            "\rProcessing images:  47%|████▋     | 603/1278 [06:08<05:44,  1.96it/s]"
          ]
        },
        {
          "output_type": "stream",
          "name": "stdout",
          "text": [
            "Inserted a1e3a8 to <pinecone.index.Index object at 0x7ef6fd0335e0>\n"
          ]
        },
        {
          "output_type": "stream",
          "name": "stderr",
          "text": [
            "\rProcessing images:  47%|████▋     | 604/1278 [06:08<06:31,  1.72it/s]"
          ]
        },
        {
          "output_type": "stream",
          "name": "stdout",
          "text": [
            "Inserted 9b33df to <pinecone.index.Index object at 0x7ef6fd0335e0>\n"
          ]
        },
        {
          "output_type": "stream",
          "name": "stderr",
          "text": [
            "\rProcessing images:  47%|████▋     | 605/1278 [06:09<06:00,  1.87it/s]"
          ]
        },
        {
          "output_type": "stream",
          "name": "stdout",
          "text": [
            "Inserted 191676 to <pinecone.index.Index object at 0x7ef6fd0335e0>\n"
          ]
        },
        {
          "output_type": "stream",
          "name": "stderr",
          "text": [
            "\rProcessing images:  47%|████▋     | 606/1278 [06:09<06:17,  1.78it/s]"
          ]
        },
        {
          "output_type": "stream",
          "name": "stdout",
          "text": [
            "Inserted a1a408 to <pinecone.index.Index object at 0x7ef6fd0335e0>\n"
          ]
        },
        {
          "output_type": "stream",
          "name": "stderr",
          "text": [
            "\rProcessing images:  47%|████▋     | 607/1278 [06:10<05:52,  1.90it/s]"
          ]
        },
        {
          "output_type": "stream",
          "name": "stdout",
          "text": [
            "Inserted 26439b to <pinecone.index.Index object at 0x7ef6fd0335e0>\n"
          ]
        },
        {
          "output_type": "stream",
          "name": "stderr",
          "text": [
            "\rProcessing images:  48%|████▊     | 608/1278 [06:10<05:27,  2.05it/s]"
          ]
        },
        {
          "output_type": "stream",
          "name": "stdout",
          "text": [
            "Inserted b73d9a to <pinecone.index.Index object at 0x7ef6fd0335e0>\n"
          ]
        },
        {
          "output_type": "stream",
          "name": "stderr",
          "text": [
            "\rProcessing images:  48%|████▊     | 609/1278 [06:11<05:13,  2.14it/s]"
          ]
        },
        {
          "output_type": "stream",
          "name": "stdout",
          "text": [
            "Inserted 08f5c1 to <pinecone.index.Index object at 0x7ef6fd0335e0>\n"
          ]
        },
        {
          "output_type": "stream",
          "name": "stderr",
          "text": [
            "\rProcessing images:  48%|████▊     | 610/1278 [06:12<06:36,  1.69it/s]"
          ]
        },
        {
          "output_type": "stream",
          "name": "stdout",
          "text": [
            "Inserted 811236 to <pinecone.index.Index object at 0x7ef6fd0335e0>\n"
          ]
        },
        {
          "output_type": "stream",
          "name": "stderr",
          "text": [
            "\rProcessing images:  48%|████▊     | 611/1278 [06:12<07:15,  1.53it/s]"
          ]
        },
        {
          "output_type": "stream",
          "name": "stdout",
          "text": [
            "Inserted 907d1e to <pinecone.index.Index object at 0x7ef6fd0335e0>\n"
          ]
        },
        {
          "output_type": "stream",
          "name": "stderr",
          "text": [
            "\rProcessing images:  48%|████▊     | 612/1278 [06:16<15:27,  1.39s/it]"
          ]
        },
        {
          "output_type": "stream",
          "name": "stdout",
          "text": [
            "Inserted 32cbec to <pinecone.index.Index object at 0x7ef6fd0335e0>\n"
          ]
        },
        {
          "output_type": "stream",
          "name": "stderr",
          "text": [
            "\rProcessing images:  48%|████▊     | 613/1278 [06:16<12:22,  1.12s/it]"
          ]
        },
        {
          "output_type": "stream",
          "name": "stdout",
          "text": [
            "Inserted 06beff to <pinecone.index.Index object at 0x7ef6fd0335e0>\n"
          ]
        },
        {
          "output_type": "stream",
          "name": "stderr",
          "text": [
            "\rProcessing images:  48%|████▊     | 614/1278 [06:16<10:12,  1.08it/s]"
          ]
        },
        {
          "output_type": "stream",
          "name": "stdout",
          "text": [
            "Inserted b7ec0d to <pinecone.index.Index object at 0x7ef6fd0335e0>\n"
          ]
        },
        {
          "output_type": "stream",
          "name": "stderr",
          "text": [
            "\rProcessing images:  48%|████▊     | 615/1278 [06:17<08:30,  1.30it/s]"
          ]
        },
        {
          "output_type": "stream",
          "name": "stdout",
          "text": [
            "Inserted 5157f8 to <pinecone.index.Index object at 0x7ef6fd0335e0>\n"
          ]
        },
        {
          "output_type": "stream",
          "name": "stderr",
          "text": [
            "\rProcessing images:  48%|████▊     | 616/1278 [06:17<07:30,  1.47it/s]"
          ]
        },
        {
          "output_type": "stream",
          "name": "stdout",
          "text": [
            "Inserted 06beff to <pinecone.index.Index object at 0x7ef6fd0335e0>\n"
          ]
        },
        {
          "output_type": "stream",
          "name": "stderr",
          "text": [
            "\rProcessing images:  48%|████▊     | 617/1278 [06:18<07:26,  1.48it/s]"
          ]
        },
        {
          "output_type": "stream",
          "name": "stdout",
          "text": [
            "Inserted 9461ee to <pinecone.index.Index object at 0x7ef6fd0335e0>\n"
          ]
        },
        {
          "output_type": "stream",
          "name": "stderr",
          "text": [
            "\rProcessing images:  48%|████▊     | 618/1278 [06:18<06:41,  1.64it/s]"
          ]
        },
        {
          "output_type": "stream",
          "name": "stdout",
          "text": [
            "Inserted 8cdae5 to <pinecone.index.Index object at 0x7ef6fd0335e0>\n"
          ]
        },
        {
          "output_type": "stream",
          "name": "stderr",
          "text": [
            "\rProcessing images:  48%|████▊     | 619/1278 [06:19<06:25,  1.71it/s]"
          ]
        },
        {
          "output_type": "stream",
          "name": "stdout",
          "text": [
            "Inserted d613fe to <pinecone.index.Index object at 0x7ef6fd0335e0>\n"
          ]
        },
        {
          "output_type": "stream",
          "name": "stderr",
          "text": [
            "\rProcessing images:  49%|████▊     | 620/1278 [06:19<05:55,  1.85it/s]"
          ]
        },
        {
          "output_type": "stream",
          "name": "stdout",
          "text": [
            "Inserted 3fcdd7 to <pinecone.index.Index object at 0x7ef6fd0335e0>\n"
          ]
        },
        {
          "output_type": "stream",
          "name": "stderr",
          "text": [
            "\rProcessing images:  49%|████▊     | 621/1278 [06:20<06:14,  1.76it/s]"
          ]
        },
        {
          "output_type": "stream",
          "name": "stdout",
          "text": [
            "Inserted 0d2e0c to <pinecone.index.Index object at 0x7ef6fd0335e0>\n"
          ]
        },
        {
          "output_type": "stream",
          "name": "stderr",
          "text": [
            "\rProcessing images:  49%|████▊     | 622/1278 [06:21<05:58,  1.83it/s]"
          ]
        },
        {
          "output_type": "stream",
          "name": "stdout",
          "text": [
            "Inserted a49f2e to <pinecone.index.Index object at 0x7ef6fd0335e0>\n"
          ]
        },
        {
          "output_type": "stream",
          "name": "stderr",
          "text": [
            "\rProcessing images:  49%|████▊     | 623/1278 [06:21<05:29,  1.99it/s]"
          ]
        },
        {
          "output_type": "stream",
          "name": "stdout",
          "text": [
            "Skipping faulty image from URL: https://prod-images-static.radiopaedia.org/images/55681124/17abfc6a9aafbd6584801c64cefc3e5ed1e8b7ef9fbee87de581c3a2ebefc826.jpeg\n"
          ]
        },
        {
          "output_type": "stream",
          "name": "stderr",
          "text": [
            "\rProcessing images:  49%|████▉     | 624/1278 [06:22<05:41,  1.92it/s]"
          ]
        },
        {
          "output_type": "stream",
          "name": "stdout",
          "text": [
            "Inserted 366358 to <pinecone.index.Index object at 0x7ef6fd0335e0>\n"
          ]
        },
        {
          "output_type": "stream",
          "name": "stderr",
          "text": [
            "\rProcessing images:  49%|████▉     | 625/1278 [06:22<05:27,  1.99it/s]"
          ]
        },
        {
          "output_type": "stream",
          "name": "stdout",
          "text": [
            "Inserted 06beff to <pinecone.index.Index object at 0x7ef6fd0335e0>\n"
          ]
        },
        {
          "output_type": "stream",
          "name": "stderr",
          "text": [
            "\rProcessing images:  49%|████▉     | 626/1278 [06:23<08:13,  1.32it/s]"
          ]
        },
        {
          "output_type": "stream",
          "name": "stdout",
          "text": [
            "Inserted 99d5fc to <pinecone.index.Index object at 0x7ef6fd0335e0>\n"
          ]
        },
        {
          "output_type": "stream",
          "name": "stderr",
          "text": [
            "\rProcessing images:  49%|████▉     | 627/1278 [06:24<07:17,  1.49it/s]"
          ]
        },
        {
          "output_type": "stream",
          "name": "stdout",
          "text": [
            "Inserted 1bbe63 to <pinecone.index.Index object at 0x7ef6fd0335e0>\n"
          ]
        },
        {
          "output_type": "stream",
          "name": "stderr",
          "text": [
            "\rProcessing images:  49%|████▉     | 628/1278 [06:24<06:21,  1.70it/s]"
          ]
        },
        {
          "output_type": "stream",
          "name": "stdout",
          "text": [
            "Inserted 923964 to <pinecone.index.Index object at 0x7ef6fd0335e0>\n"
          ]
        },
        {
          "output_type": "stream",
          "name": "stderr",
          "text": [
            "\rProcessing images:  49%|████▉     | 629/1278 [06:25<06:27,  1.67it/s]"
          ]
        },
        {
          "output_type": "stream",
          "name": "stdout",
          "text": [
            "Inserted 4c468b to <pinecone.index.Index object at 0x7ef6fd0335e0>\n"
          ]
        },
        {
          "output_type": "stream",
          "name": "stderr",
          "text": [
            "\rProcessing images:  49%|████▉     | 630/1278 [06:25<06:09,  1.75it/s]"
          ]
        },
        {
          "output_type": "stream",
          "name": "stdout",
          "text": [
            "Inserted ca6ad5 to <pinecone.index.Index object at 0x7ef6fd0335e0>\n"
          ]
        },
        {
          "output_type": "stream",
          "name": "stderr",
          "text": [
            "\rProcessing images:  49%|████▉     | 631/1278 [06:26<06:09,  1.75it/s]"
          ]
        },
        {
          "output_type": "stream",
          "name": "stdout",
          "text": [
            "Inserted 4c468b to <pinecone.index.Index object at 0x7ef6fd0335e0>\n"
          ]
        },
        {
          "output_type": "stream",
          "name": "stderr",
          "text": [
            "\rProcessing images:  49%|████▉     | 632/1278 [06:27<06:31,  1.65it/s]"
          ]
        },
        {
          "output_type": "stream",
          "name": "stdout",
          "text": [
            "Inserted 4c468b to <pinecone.index.Index object at 0x7ef6fd0335e0>\n"
          ]
        },
        {
          "output_type": "stream",
          "name": "stderr",
          "text": [
            "\rProcessing images:  50%|████▉     | 633/1278 [06:27<06:25,  1.67it/s]"
          ]
        },
        {
          "output_type": "stream",
          "name": "stdout",
          "text": [
            "Inserted 902ca6 to <pinecone.index.Index object at 0x7ef6fd0335e0>\n"
          ]
        },
        {
          "output_type": "stream",
          "name": "stderr",
          "text": [
            "\rProcessing images:  50%|████▉     | 634/1278 [06:28<06:33,  1.64it/s]"
          ]
        },
        {
          "output_type": "stream",
          "name": "stdout",
          "text": [
            "Inserted 53776a to <pinecone.index.Index object at 0x7ef6fd0335e0>\n"
          ]
        },
        {
          "output_type": "stream",
          "name": "stderr",
          "text": [
            "\rProcessing images:  50%|████▉     | 635/1278 [06:28<06:24,  1.67it/s]"
          ]
        },
        {
          "output_type": "stream",
          "name": "stdout",
          "text": [
            "Inserted 75ac38 to <pinecone.index.Index object at 0x7ef6fd0335e0>\n"
          ]
        },
        {
          "output_type": "stream",
          "name": "stderr",
          "text": [
            "\rProcessing images:  50%|████▉     | 636/1278 [06:29<06:19,  1.69it/s]"
          ]
        },
        {
          "output_type": "stream",
          "name": "stdout",
          "text": [
            "Inserted 01e599 to <pinecone.index.Index object at 0x7ef6fd0335e0>\n"
          ]
        },
        {
          "output_type": "stream",
          "name": "stderr",
          "text": [
            "\rProcessing images:  50%|████▉     | 637/1278 [06:30<06:19,  1.69it/s]"
          ]
        },
        {
          "output_type": "stream",
          "name": "stdout",
          "text": [
            "Inserted c08c8a to <pinecone.index.Index object at 0x7ef6fd0335e0>\n"
          ]
        },
        {
          "output_type": "stream",
          "name": "stderr",
          "text": [
            "\rProcessing images:  50%|████▉     | 638/1278 [06:31<07:55,  1.35it/s]"
          ]
        },
        {
          "output_type": "stream",
          "name": "stdout",
          "text": [
            "Inserted 06beff to <pinecone.index.Index object at 0x7ef6fd0335e0>\n"
          ]
        },
        {
          "output_type": "stream",
          "name": "stderr",
          "text": [
            "\rProcessing images:  50%|█████     | 639/1278 [06:31<07:46,  1.37it/s]"
          ]
        },
        {
          "output_type": "stream",
          "name": "stdout",
          "text": [
            "Inserted 3bcfed to <pinecone.index.Index object at 0x7ef6fd0335e0>\n"
          ]
        },
        {
          "output_type": "stream",
          "name": "stderr",
          "text": [
            "\rProcessing images:  50%|█████     | 640/1278 [06:32<07:52,  1.35it/s]"
          ]
        },
        {
          "output_type": "stream",
          "name": "stdout",
          "text": [
            "Inserted 150bb3 to <pinecone.index.Index object at 0x7ef6fd0335e0>\n"
          ]
        },
        {
          "output_type": "stream",
          "name": "stderr",
          "text": [
            "\rProcessing images:  50%|█████     | 641/1278 [06:33<07:27,  1.42it/s]"
          ]
        },
        {
          "output_type": "stream",
          "name": "stdout",
          "text": [
            "Inserted 4dcb76 to <pinecone.index.Index object at 0x7ef6fd0335e0>\n"
          ]
        },
        {
          "output_type": "stream",
          "name": "stderr",
          "text": [
            "\rProcessing images:  50%|█████     | 642/1278 [06:33<07:04,  1.50it/s]"
          ]
        },
        {
          "output_type": "stream",
          "name": "stdout",
          "text": [
            "Inserted 8230b4 to <pinecone.index.Index object at 0x7ef6fd0335e0>\n"
          ]
        },
        {
          "output_type": "stream",
          "name": "stderr",
          "text": [
            "\rProcessing images:  50%|█████     | 643/1278 [06:34<07:45,  1.36it/s]"
          ]
        },
        {
          "output_type": "stream",
          "name": "stdout",
          "text": [
            "Inserted cd4e8d to <pinecone.index.Index object at 0x7ef6fd0335e0>\n"
          ]
        },
        {
          "output_type": "stream",
          "name": "stderr",
          "text": [
            "\rProcessing images:  50%|█████     | 644/1278 [06:35<08:01,  1.32it/s]"
          ]
        },
        {
          "output_type": "stream",
          "name": "stdout",
          "text": [
            "Inserted 9c9dac to <pinecone.index.Index object at 0x7ef6fd0335e0>\n"
          ]
        },
        {
          "output_type": "stream",
          "name": "stderr",
          "text": [
            "\rProcessing images:  50%|█████     | 645/1278 [06:35<07:03,  1.49it/s]"
          ]
        },
        {
          "output_type": "stream",
          "name": "stdout",
          "text": [
            "Inserted ad746a to <pinecone.index.Index object at 0x7ef6fd0335e0>\n"
          ]
        },
        {
          "output_type": "stream",
          "name": "stderr",
          "text": [
            "\rProcessing images:  51%|█████     | 646/1278 [06:36<06:11,  1.70it/s]"
          ]
        },
        {
          "output_type": "stream",
          "name": "stdout",
          "text": [
            "Inserted b98fbb to <pinecone.index.Index object at 0x7ef6fd0335e0>\n"
          ]
        },
        {
          "output_type": "stream",
          "name": "stderr",
          "text": [
            "\rProcessing images:  51%|█████     | 647/1278 [06:36<06:15,  1.68it/s]"
          ]
        },
        {
          "output_type": "stream",
          "name": "stdout",
          "text": [
            "Inserted 4c468b to <pinecone.index.Index object at 0x7ef6fd0335e0>\n"
          ]
        },
        {
          "output_type": "stream",
          "name": "stderr",
          "text": [
            "\rProcessing images:  51%|█████     | 648/1278 [06:37<05:45,  1.82it/s]"
          ]
        },
        {
          "output_type": "stream",
          "name": "stdout",
          "text": [
            "Inserted d360ea to <pinecone.index.Index object at 0x7ef6fd0335e0>\n"
          ]
        },
        {
          "output_type": "stream",
          "name": "stderr",
          "text": [
            "\rProcessing images:  51%|█████     | 649/1278 [06:37<05:23,  1.95it/s]"
          ]
        },
        {
          "output_type": "stream",
          "name": "stdout",
          "text": [
            "Inserted 52f70d to <pinecone.index.Index object at 0x7ef6fd0335e0>\n"
          ]
        },
        {
          "output_type": "stream",
          "name": "stderr",
          "text": [
            "\rProcessing images:  51%|█████     | 650/1278 [06:38<05:59,  1.74it/s]"
          ]
        },
        {
          "output_type": "stream",
          "name": "stdout",
          "text": [
            "Inserted 06beff to <pinecone.index.Index object at 0x7ef6fd0335e0>\n"
          ]
        },
        {
          "output_type": "stream",
          "name": "stderr",
          "text": [
            "\rProcessing images:  51%|█████     | 651/1278 [06:39<05:55,  1.76it/s]"
          ]
        },
        {
          "output_type": "stream",
          "name": "stdout",
          "text": [
            "Inserted aae7dc to <pinecone.index.Index object at 0x7ef6fd0335e0>\n"
          ]
        },
        {
          "output_type": "stream",
          "name": "stderr",
          "text": [
            "\rProcessing images:  51%|█████     | 652/1278 [06:39<06:25,  1.62it/s]"
          ]
        },
        {
          "output_type": "stream",
          "name": "stdout",
          "text": [
            "Inserted eab56c to <pinecone.index.Index object at 0x7ef6fd0335e0>\n"
          ]
        },
        {
          "output_type": "stream",
          "name": "stderr",
          "text": [
            "\rProcessing images:  51%|█████     | 653/1278 [06:41<09:23,  1.11it/s]"
          ]
        },
        {
          "output_type": "stream",
          "name": "stdout",
          "text": [
            "Inserted 0af192 to <pinecone.index.Index object at 0x7ef6fd0335e0>\n"
          ]
        },
        {
          "output_type": "stream",
          "name": "stderr",
          "text": [
            "\rProcessing images:  51%|█████     | 654/1278 [06:42<09:53,  1.05it/s]"
          ]
        },
        {
          "output_type": "stream",
          "name": "stdout",
          "text": [
            "Inserted a0749c to <pinecone.index.Index object at 0x7ef6fd0335e0>\n"
          ]
        },
        {
          "output_type": "stream",
          "name": "stderr",
          "text": [
            "\rProcessing images:  51%|█████▏    | 655/1278 [06:43<08:31,  1.22it/s]"
          ]
        },
        {
          "output_type": "stream",
          "name": "stdout",
          "text": [
            "Inserted 7e7c7b to <pinecone.index.Index object at 0x7ef6fd0335e0>\n"
          ]
        },
        {
          "output_type": "stream",
          "name": "stderr",
          "text": [
            "\rProcessing images:  51%|█████▏    | 656/1278 [06:43<07:33,  1.37it/s]"
          ]
        },
        {
          "output_type": "stream",
          "name": "stdout",
          "text": [
            "Inserted 8230b4 to <pinecone.index.Index object at 0x7ef6fd0335e0>\n"
          ]
        },
        {
          "output_type": "stream",
          "name": "stderr",
          "text": [
            "\rProcessing images:  51%|█████▏    | 657/1278 [06:44<06:56,  1.49it/s]"
          ]
        },
        {
          "output_type": "stream",
          "name": "stdout",
          "text": [
            "Inserted 06beff to <pinecone.index.Index object at 0x7ef6fd0335e0>\n"
          ]
        },
        {
          "output_type": "stream",
          "name": "stderr",
          "text": [
            "\rProcessing images:  51%|█████▏    | 658/1278 [06:44<06:30,  1.59it/s]"
          ]
        },
        {
          "output_type": "stream",
          "name": "stdout",
          "text": [
            "Inserted 885abc to <pinecone.index.Index object at 0x7ef6fd0335e0>\n"
          ]
        },
        {
          "output_type": "stream",
          "name": "stderr",
          "text": [
            "\rProcessing images:  52%|█████▏    | 659/1278 [06:45<06:38,  1.55it/s]"
          ]
        },
        {
          "output_type": "stream",
          "name": "stdout",
          "text": [
            "Inserted 8230b4 to <pinecone.index.Index object at 0x7ef6fd0335e0>\n"
          ]
        },
        {
          "output_type": "stream",
          "name": "stderr",
          "text": [
            "\rProcessing images:  52%|█████▏    | 660/1278 [06:45<06:13,  1.65it/s]"
          ]
        },
        {
          "output_type": "stream",
          "name": "stdout",
          "text": [
            "Inserted 6d9443 to <pinecone.index.Index object at 0x7ef6fd0335e0>\n"
          ]
        },
        {
          "output_type": "stream",
          "name": "stderr",
          "text": [
            "\rProcessing images:  52%|█████▏    | 661/1278 [06:46<05:50,  1.76it/s]"
          ]
        },
        {
          "output_type": "stream",
          "name": "stdout",
          "text": [
            "Inserted ee1bfd to <pinecone.index.Index object at 0x7ef6fd0335e0>\n"
          ]
        },
        {
          "output_type": "stream",
          "name": "stderr",
          "text": [
            "\rProcessing images:  52%|█████▏    | 662/1278 [06:46<05:30,  1.87it/s]"
          ]
        },
        {
          "output_type": "stream",
          "name": "stdout",
          "text": [
            "Skipping faulty image from URL: https://prod-images-static.radiopaedia.org/images/55289712/CT_THORAX___-_UPPER_ABDOMEN_W_OR_W_AND_WO_CONTRAST_0001.jpg\n"
          ]
        },
        {
          "output_type": "stream",
          "name": "stderr",
          "text": [
            "\rProcessing images:  52%|█████▏    | 663/1278 [06:47<05:11,  1.98it/s]"
          ]
        },
        {
          "output_type": "stream",
          "name": "stdout",
          "text": [
            "Inserted 12680a to <pinecone.index.Index object at 0x7ef6fd0335e0>\n"
          ]
        },
        {
          "output_type": "stream",
          "name": "stderr",
          "text": [
            "\rProcessing images:  52%|█████▏    | 664/1278 [06:47<05:22,  1.90it/s]"
          ]
        },
        {
          "output_type": "stream",
          "name": "stdout",
          "text": [
            "Inserted 4c468b to <pinecone.index.Index object at 0x7ef6fd0335e0>\n"
          ]
        },
        {
          "output_type": "stream",
          "name": "stderr",
          "text": [
            "\rProcessing images:  52%|█████▏    | 665/1278 [06:48<04:59,  2.05it/s]"
          ]
        },
        {
          "output_type": "stream",
          "name": "stdout",
          "text": [
            "Skipping faulty image from URL: https://prod-images-static.radiopaedia.org/images/54781548/CT_CHEST_ABDO_PELVIS___-_NECK_W_WO_CONTRAST_0002.jpg\n"
          ]
        },
        {
          "output_type": "stream",
          "name": "stderr",
          "text": [
            "\rProcessing images:  52%|█████▏    | 666/1278 [06:48<04:47,  2.13it/s]"
          ]
        },
        {
          "output_type": "stream",
          "name": "stdout",
          "text": [
            "Inserted e4a13b to <pinecone.index.Index object at 0x7ef6fd0335e0>\n"
          ]
        },
        {
          "output_type": "stream",
          "name": "stderr",
          "text": [
            "\rProcessing images:  52%|█████▏    | 667/1278 [06:49<05:07,  1.99it/s]"
          ]
        },
        {
          "output_type": "stream",
          "name": "stdout",
          "text": [
            "Inserted 4c468b to <pinecone.index.Index object at 0x7ef6fd0335e0>\n"
          ]
        },
        {
          "output_type": "stream",
          "name": "stderr",
          "text": [
            "\rProcessing images:  52%|█████▏    | 668/1278 [06:49<05:31,  1.84it/s]"
          ]
        },
        {
          "output_type": "stream",
          "name": "stdout",
          "text": [
            "Inserted 5200e5 to <pinecone.index.Index object at 0x7ef6fd0335e0>\n"
          ]
        },
        {
          "output_type": "stream",
          "name": "stderr",
          "text": [
            "\rProcessing images:  52%|█████▏    | 669/1278 [06:50<05:15,  1.93it/s]"
          ]
        },
        {
          "output_type": "stream",
          "name": "stdout",
          "text": [
            "Inserted 2ca750 to <pinecone.index.Index object at 0x7ef6fd0335e0>\n"
          ]
        },
        {
          "output_type": "stream",
          "name": "stderr",
          "text": [
            "\rProcessing images:  52%|█████▏    | 670/1278 [06:51<06:55,  1.46it/s]"
          ]
        },
        {
          "output_type": "stream",
          "name": "stdout",
          "text": [
            "Inserted 6272af to <pinecone.index.Index object at 0x7ef6fd0335e0>\n"
          ]
        },
        {
          "output_type": "stream",
          "name": "stderr",
          "text": [
            "\rProcessing images:  53%|█████▎    | 671/1278 [06:51<06:28,  1.56it/s]"
          ]
        },
        {
          "output_type": "stream",
          "name": "stdout",
          "text": [
            "Inserted 4c468b to <pinecone.index.Index object at 0x7ef6fd0335e0>\n"
          ]
        },
        {
          "output_type": "stream",
          "name": "stderr",
          "text": [
            "\rProcessing images:  53%|█████▎    | 672/1278 [06:52<06:14,  1.62it/s]"
          ]
        },
        {
          "output_type": "stream",
          "name": "stdout",
          "text": [
            "Inserted 4c468b to <pinecone.index.Index object at 0x7ef6fd0335e0>\n"
          ]
        },
        {
          "output_type": "stream",
          "name": "stderr",
          "text": [
            "\rProcessing images:  53%|█████▎    | 673/1278 [06:54<09:31,  1.06it/s]"
          ]
        },
        {
          "output_type": "stream",
          "name": "stdout",
          "text": [
            "Inserted 4c468b to <pinecone.index.Index object at 0x7ef6fd0335e0>\n"
          ]
        },
        {
          "output_type": "stream",
          "name": "stderr",
          "text": [
            "\rProcessing images:  53%|█████▎    | 674/1278 [06:54<08:20,  1.21it/s]"
          ]
        },
        {
          "output_type": "stream",
          "name": "stdout",
          "text": [
            "Inserted 4c468b to <pinecone.index.Index object at 0x7ef6fd0335e0>\n"
          ]
        },
        {
          "output_type": "stream",
          "name": "stderr",
          "text": [
            "\rProcessing images:  53%|█████▎    | 675/1278 [06:55<07:04,  1.42it/s]"
          ]
        },
        {
          "output_type": "stream",
          "name": "stdout",
          "text": [
            "Inserted 4db81a to <pinecone.index.Index object at 0x7ef6fd0335e0>\n"
          ]
        },
        {
          "output_type": "stream",
          "name": "stderr",
          "text": [
            "\rProcessing images:  53%|█████▎    | 676/1278 [06:55<06:06,  1.64it/s]"
          ]
        },
        {
          "output_type": "stream",
          "name": "stdout",
          "text": [
            "Inserted 06beff to <pinecone.index.Index object at 0x7ef6fd0335e0>\n"
          ]
        },
        {
          "output_type": "stream",
          "name": "stderr",
          "text": [
            "\rProcessing images:  53%|█████▎    | 677/1278 [06:56<06:20,  1.58it/s]"
          ]
        },
        {
          "output_type": "stream",
          "name": "stdout",
          "text": [
            "Inserted 8230b4 to <pinecone.index.Index object at 0x7ef6fd0335e0>\n"
          ]
        },
        {
          "output_type": "stream",
          "name": "stderr",
          "text": [
            "\rProcessing images:  53%|█████▎    | 678/1278 [06:56<06:06,  1.64it/s]"
          ]
        },
        {
          "output_type": "stream",
          "name": "stdout",
          "text": [
            "Inserted aef011 to <pinecone.index.Index object at 0x7ef6fd0335e0>\n"
          ]
        },
        {
          "output_type": "stream",
          "name": "stderr",
          "text": [
            "\rProcessing images:  53%|█████▎    | 679/1278 [06:57<07:18,  1.37it/s]"
          ]
        },
        {
          "output_type": "stream",
          "name": "stdout",
          "text": [
            "Inserted 534aec to <pinecone.index.Index object at 0x7ef6fd0335e0>\n"
          ]
        },
        {
          "output_type": "stream",
          "name": "stderr",
          "text": [
            "\rProcessing images:  53%|█████▎    | 680/1278 [06:58<06:35,  1.51it/s]"
          ]
        },
        {
          "output_type": "stream",
          "name": "stdout",
          "text": [
            "Inserted 6e33bb to <pinecone.index.Index object at 0x7ef6fd0335e0>\n"
          ]
        },
        {
          "output_type": "stream",
          "name": "stderr",
          "text": [
            "\rProcessing images:  53%|█████▎    | 681/1278 [06:59<06:55,  1.44it/s]"
          ]
        },
        {
          "output_type": "stream",
          "name": "stdout",
          "text": [
            "Inserted 01949e to <pinecone.index.Index object at 0x7ef6fd0335e0>\n"
          ]
        },
        {
          "output_type": "stream",
          "name": "stderr",
          "text": [
            "\rProcessing images:  53%|█████▎    | 682/1278 [06:59<06:48,  1.46it/s]"
          ]
        },
        {
          "output_type": "stream",
          "name": "stdout",
          "text": [
            "Inserted 2f82fc to <pinecone.index.Index object at 0x7ef6fd0335e0>\n"
          ]
        },
        {
          "output_type": "stream",
          "name": "stderr",
          "text": [
            "\rProcessing images:  53%|█████▎    | 683/1278 [07:00<06:51,  1.45it/s]"
          ]
        },
        {
          "output_type": "stream",
          "name": "stdout",
          "text": [
            "Inserted e471c1 to <pinecone.index.Index object at 0x7ef6fd0335e0>\n"
          ]
        },
        {
          "output_type": "stream",
          "name": "stderr",
          "text": [
            "\rProcessing images:  54%|█████▎    | 684/1278 [07:01<06:55,  1.43it/s]"
          ]
        },
        {
          "output_type": "stream",
          "name": "stdout",
          "text": [
            "Inserted 7c8c18 to <pinecone.index.Index object at 0x7ef6fd0335e0>\n"
          ]
        },
        {
          "output_type": "stream",
          "name": "stderr",
          "text": [
            "\rProcessing images:  54%|█████▎    | 685/1278 [07:01<07:08,  1.39it/s]"
          ]
        },
        {
          "output_type": "stream",
          "name": "stdout",
          "text": [
            "Inserted 7c8c18 to <pinecone.index.Index object at 0x7ef6fd0335e0>\n"
          ]
        },
        {
          "output_type": "stream",
          "name": "stderr",
          "text": [
            "\rProcessing images:  54%|█████▎    | 686/1278 [07:02<06:40,  1.48it/s]"
          ]
        },
        {
          "output_type": "stream",
          "name": "stdout",
          "text": [
            "Inserted d93806 to <pinecone.index.Index object at 0x7ef6fd0335e0>\n"
          ]
        },
        {
          "output_type": "stream",
          "name": "stderr",
          "text": [
            "\rProcessing images:  54%|█████▍    | 687/1278 [07:02<06:02,  1.63it/s]"
          ]
        },
        {
          "output_type": "stream",
          "name": "stdout",
          "text": [
            "Inserted 0c14ce to <pinecone.index.Index object at 0x7ef6fd0335e0>\n"
          ]
        },
        {
          "output_type": "stream",
          "name": "stderr",
          "text": [
            "\rProcessing images:  54%|█████▍    | 688/1278 [07:03<05:27,  1.80it/s]"
          ]
        },
        {
          "output_type": "stream",
          "name": "stdout",
          "text": [
            "Inserted 72fae1 to <pinecone.index.Index object at 0x7ef6fd0335e0>\n"
          ]
        },
        {
          "output_type": "stream",
          "name": "stderr",
          "text": [
            "\rProcessing images:  54%|█████▍    | 689/1278 [07:03<05:10,  1.90it/s]"
          ]
        },
        {
          "output_type": "stream",
          "name": "stdout",
          "text": [
            "Inserted b9956c to <pinecone.index.Index object at 0x7ef6fd0335e0>\n"
          ]
        },
        {
          "output_type": "stream",
          "name": "stderr",
          "text": [
            "\rProcessing images:  54%|█████▍    | 690/1278 [07:04<05:04,  1.93it/s]"
          ]
        },
        {
          "output_type": "stream",
          "name": "stdout",
          "text": [
            "Inserted 913a3e to <pinecone.index.Index object at 0x7ef6fd0335e0>\n"
          ]
        },
        {
          "output_type": "stream",
          "name": "stderr",
          "text": [
            "\rProcessing images:  54%|█████▍    | 691/1278 [07:04<05:15,  1.86it/s]"
          ]
        },
        {
          "output_type": "stream",
          "name": "stdout",
          "text": [
            "Inserted e82807 to <pinecone.index.Index object at 0x7ef6fd0335e0>\n"
          ]
        },
        {
          "output_type": "stream",
          "name": "stderr",
          "text": [
            "\rProcessing images:  54%|█████▍    | 692/1278 [07:05<04:59,  1.96it/s]"
          ]
        },
        {
          "output_type": "stream",
          "name": "stdout",
          "text": [
            "Inserted d529df to <pinecone.index.Index object at 0x7ef6fd0335e0>\n"
          ]
        },
        {
          "output_type": "stream",
          "name": "stderr",
          "text": [
            "\rProcessing images:  54%|█████▍    | 693/1278 [07:05<04:52,  2.00it/s]"
          ]
        },
        {
          "output_type": "stream",
          "name": "stdout",
          "text": [
            "Inserted c6c3c7 to <pinecone.index.Index object at 0x7ef6fd0335e0>\n"
          ]
        },
        {
          "output_type": "stream",
          "name": "stderr",
          "text": [
            "\rProcessing images:  54%|█████▍    | 694/1278 [07:06<04:49,  2.02it/s]"
          ]
        },
        {
          "output_type": "stream",
          "name": "stdout",
          "text": [
            "Inserted eaf62b to <pinecone.index.Index object at 0x7ef6fd0335e0>\n"
          ]
        },
        {
          "output_type": "stream",
          "name": "stderr",
          "text": [
            "\rProcessing images:  54%|█████▍    | 695/1278 [07:06<04:42,  2.07it/s]"
          ]
        },
        {
          "output_type": "stream",
          "name": "stdout",
          "text": [
            "Inserted e74b47 to <pinecone.index.Index object at 0x7ef6fd0335e0>\n"
          ]
        },
        {
          "output_type": "stream",
          "name": "stderr",
          "text": [
            "\rProcessing images:  54%|█████▍    | 696/1278 [07:07<04:41,  2.07it/s]"
          ]
        },
        {
          "output_type": "stream",
          "name": "stdout",
          "text": [
            "Inserted 44af85 to <pinecone.index.Index object at 0x7ef6fd0335e0>\n"
          ]
        },
        {
          "output_type": "stream",
          "name": "stderr",
          "text": [
            "\rProcessing images:  55%|█████▍    | 697/1278 [07:07<04:25,  2.19it/s]"
          ]
        },
        {
          "output_type": "stream",
          "name": "stdout",
          "text": [
            "Inserted 7d1afa to <pinecone.index.Index object at 0x7ef6fd0335e0>\n"
          ]
        },
        {
          "output_type": "stream",
          "name": "stderr",
          "text": [
            "\rProcessing images:  55%|█████▍    | 698/1278 [07:08<04:29,  2.15it/s]"
          ]
        },
        {
          "output_type": "stream",
          "name": "stdout",
          "text": [
            "Inserted 1012cb to <pinecone.index.Index object at 0x7ef6fd0335e0>\n"
          ]
        },
        {
          "output_type": "stream",
          "name": "stderr",
          "text": [
            "\rProcessing images:  55%|█████▍    | 699/1278 [07:08<04:14,  2.28it/s]"
          ]
        },
        {
          "output_type": "stream",
          "name": "stdout",
          "text": [
            "Inserted 9d89a4 to <pinecone.index.Index object at 0x7ef6fd0335e0>\n"
          ]
        },
        {
          "output_type": "stream",
          "name": "stderr",
          "text": [
            "\rProcessing images:  55%|█████▍    | 700/1278 [07:08<04:12,  2.29it/s]"
          ]
        },
        {
          "output_type": "stream",
          "name": "stdout",
          "text": [
            "Inserted b9956c to <pinecone.index.Index object at 0x7ef6fd0335e0>\n"
          ]
        },
        {
          "output_type": "stream",
          "name": "stderr",
          "text": [
            "\rProcessing images:  55%|█████▍    | 701/1278 [07:10<06:43,  1.43it/s]"
          ]
        },
        {
          "output_type": "stream",
          "name": "stdout",
          "text": [
            "Inserted 57dc54 to <pinecone.index.Index object at 0x7ef6fd0335e0>\n"
          ]
        },
        {
          "output_type": "stream",
          "name": "stderr",
          "text": [
            "\rProcessing images:  55%|█████▍    | 702/1278 [07:10<06:00,  1.60it/s]"
          ]
        },
        {
          "output_type": "stream",
          "name": "stdout",
          "text": [
            "Inserted 45f813 to <pinecone.index.Index object at 0x7ef6fd0335e0>\n"
          ]
        },
        {
          "output_type": "stream",
          "name": "stderr",
          "text": [
            "\rProcessing images:  55%|█████▌    | 703/1278 [07:11<05:15,  1.82it/s]"
          ]
        },
        {
          "output_type": "stream",
          "name": "stdout",
          "text": [
            "Inserted 9e14eb to <pinecone.index.Index object at 0x7ef6fd0335e0>\n"
          ]
        },
        {
          "output_type": "stream",
          "name": "stderr",
          "text": [
            "\rProcessing images:  55%|█████▌    | 704/1278 [07:11<05:25,  1.76it/s]"
          ]
        },
        {
          "output_type": "stream",
          "name": "stdout",
          "text": [
            "Inserted 893d27 to <pinecone.index.Index object at 0x7ef6fd0335e0>\n"
          ]
        },
        {
          "output_type": "stream",
          "name": "stderr",
          "text": [
            "\rProcessing images:  55%|█████▌    | 705/1278 [07:12<05:04,  1.88it/s]"
          ]
        },
        {
          "output_type": "stream",
          "name": "stdout",
          "text": [
            "Inserted b9956c to <pinecone.index.Index object at 0x7ef6fd0335e0>\n"
          ]
        },
        {
          "output_type": "stream",
          "name": "stderr",
          "text": [
            "\rProcessing images:  55%|█████▌    | 706/1278 [07:12<04:46,  2.00it/s]"
          ]
        },
        {
          "output_type": "stream",
          "name": "stdout",
          "text": [
            "Inserted 5d8e8e to <pinecone.index.Index object at 0x7ef6fd0335e0>\n"
          ]
        },
        {
          "output_type": "stream",
          "name": "stderr",
          "text": [
            "\rProcessing images:  55%|█████▌    | 707/1278 [07:13<04:41,  2.03it/s]"
          ]
        },
        {
          "output_type": "stream",
          "name": "stdout",
          "text": [
            "Inserted 5a2aed to <pinecone.index.Index object at 0x7ef6fd0335e0>\n"
          ]
        },
        {
          "output_type": "stream",
          "name": "stderr",
          "text": [
            "\rProcessing images:  55%|█████▌    | 708/1278 [07:13<04:37,  2.06it/s]"
          ]
        },
        {
          "output_type": "stream",
          "name": "stdout",
          "text": [
            "Inserted da6709 to <pinecone.index.Index object at 0x7ef6fd0335e0>\n"
          ]
        },
        {
          "output_type": "stream",
          "name": "stderr",
          "text": [
            "\rProcessing images:  55%|█████▌    | 709/1278 [07:14<04:53,  1.94it/s]"
          ]
        },
        {
          "output_type": "stream",
          "name": "stdout",
          "text": [
            "Inserted 897723 to <pinecone.index.Index object at 0x7ef6fd0335e0>\n"
          ]
        },
        {
          "output_type": "stream",
          "name": "stderr",
          "text": [
            "\rProcessing images:  56%|█████▌    | 710/1278 [07:14<05:08,  1.84it/s]"
          ]
        },
        {
          "output_type": "stream",
          "name": "stdout",
          "text": [
            "Inserted db7a8b to <pinecone.index.Index object at 0x7ef6fd0335e0>\n"
          ]
        },
        {
          "output_type": "stream",
          "name": "stderr",
          "text": [
            "\rProcessing images:  56%|█████▌    | 711/1278 [07:15<04:57,  1.91it/s]"
          ]
        },
        {
          "output_type": "stream",
          "name": "stdout",
          "text": [
            "Inserted c02b62 to <pinecone.index.Index object at 0x7ef6fd0335e0>\n"
          ]
        },
        {
          "output_type": "stream",
          "name": "stderr",
          "text": [
            "\rProcessing images:  56%|█████▌    | 712/1278 [07:15<04:59,  1.89it/s]"
          ]
        },
        {
          "output_type": "stream",
          "name": "stdout",
          "text": [
            "Inserted 913a3e to <pinecone.index.Index object at 0x7ef6fd0335e0>\n"
          ]
        },
        {
          "output_type": "stream",
          "name": "stderr",
          "text": [
            "\rProcessing images:  56%|█████▌    | 713/1278 [07:17<07:16,  1.30it/s]"
          ]
        },
        {
          "output_type": "stream",
          "name": "stdout",
          "text": [
            "Inserted a7aa6a to <pinecone.index.Index object at 0x7ef6fd0335e0>\n"
          ]
        },
        {
          "output_type": "stream",
          "name": "stderr",
          "text": [
            "\rProcessing images:  56%|█████▌    | 714/1278 [07:17<06:41,  1.41it/s]"
          ]
        },
        {
          "output_type": "stream",
          "name": "stdout",
          "text": [
            "Inserted 35d7c5 to <pinecone.index.Index object at 0x7ef6fd0335e0>\n"
          ]
        },
        {
          "output_type": "stream",
          "name": "stderr",
          "text": [
            "\rProcessing images:  56%|█████▌    | 715/1278 [07:18<06:01,  1.56it/s]"
          ]
        },
        {
          "output_type": "stream",
          "name": "stdout",
          "text": [
            "Inserted 8a396d to <pinecone.index.Index object at 0x7ef6fd0335e0>\n"
          ]
        },
        {
          "output_type": "stream",
          "name": "stderr",
          "text": [
            "\rProcessing images:  56%|█████▌    | 716/1278 [07:18<05:33,  1.68it/s]"
          ]
        },
        {
          "output_type": "stream",
          "name": "stdout",
          "text": [
            "Inserted 127c62 to <pinecone.index.Index object at 0x7ef6fd0335e0>\n"
          ]
        },
        {
          "output_type": "stream",
          "name": "stderr",
          "text": [
            "\rProcessing images:  56%|█████▌    | 717/1278 [07:19<06:49,  1.37it/s]"
          ]
        },
        {
          "output_type": "stream",
          "name": "stdout",
          "text": [
            "Inserted 8a396d to <pinecone.index.Index object at 0x7ef6fd0335e0>\n"
          ]
        },
        {
          "output_type": "stream",
          "name": "stderr",
          "text": [
            "\rProcessing images:  56%|█████▌    | 718/1278 [07:20<07:42,  1.21it/s]"
          ]
        },
        {
          "output_type": "stream",
          "name": "stdout",
          "text": [
            "Inserted 34c698 to <pinecone.index.Index object at 0x7ef6fd0335e0>\n"
          ]
        },
        {
          "output_type": "stream",
          "name": "stderr",
          "text": [
            "\rProcessing images:  56%|█████▋    | 719/1278 [07:21<07:43,  1.21it/s]"
          ]
        },
        {
          "output_type": "stream",
          "name": "stdout",
          "text": [
            "Inserted 6a0e4b to <pinecone.index.Index object at 0x7ef6fd0335e0>\n"
          ]
        },
        {
          "output_type": "stream",
          "name": "stderr",
          "text": [
            "\rProcessing images:  56%|█████▋    | 720/1278 [07:21<06:37,  1.40it/s]"
          ]
        },
        {
          "output_type": "stream",
          "name": "stdout",
          "text": [
            "Inserted 4e5c9f to <pinecone.index.Index object at 0x7ef6fd0335e0>\n"
          ]
        },
        {
          "output_type": "stream",
          "name": "stderr",
          "text": [
            "\rProcessing images:  56%|█████▋    | 721/1278 [07:22<06:47,  1.37it/s]"
          ]
        },
        {
          "output_type": "stream",
          "name": "stdout",
          "text": [
            "Inserted f1f0c4 to <pinecone.index.Index object at 0x7ef6fd0335e0>\n"
          ]
        },
        {
          "output_type": "stream",
          "name": "stderr",
          "text": [
            "\rProcessing images:  56%|█████▋    | 722/1278 [07:23<06:47,  1.37it/s]"
          ]
        },
        {
          "output_type": "stream",
          "name": "stdout",
          "text": [
            "Inserted ab4d06 to <pinecone.index.Index object at 0x7ef6fd0335e0>\n"
          ]
        },
        {
          "output_type": "stream",
          "name": "stderr",
          "text": [
            "\rProcessing images:  57%|█████▋    | 723/1278 [07:24<06:34,  1.41it/s]"
          ]
        },
        {
          "output_type": "stream",
          "name": "stdout",
          "text": [
            "Inserted 3cfa3b to <pinecone.index.Index object at 0x7ef6fd0335e0>\n"
          ]
        },
        {
          "output_type": "stream",
          "name": "stderr",
          "text": [
            "\rProcessing images:  57%|█████▋    | 724/1278 [07:24<05:46,  1.60it/s]"
          ]
        },
        {
          "output_type": "stream",
          "name": "stdout",
          "text": [
            "Inserted 7d1afa to <pinecone.index.Index object at 0x7ef6fd0335e0>\n"
          ]
        },
        {
          "output_type": "stream",
          "name": "stderr",
          "text": [
            "\rProcessing images:  57%|█████▋    | 725/1278 [07:24<05:14,  1.76it/s]"
          ]
        },
        {
          "output_type": "stream",
          "name": "stdout",
          "text": [
            "Inserted 44af85 to <pinecone.index.Index object at 0x7ef6fd0335e0>\n"
          ]
        },
        {
          "output_type": "stream",
          "name": "stderr",
          "text": [
            "\rProcessing images:  57%|█████▋    | 726/1278 [07:25<04:50,  1.90it/s]"
          ]
        },
        {
          "output_type": "stream",
          "name": "stdout",
          "text": [
            "Inserted b9956c to <pinecone.index.Index object at 0x7ef6fd0335e0>\n"
          ]
        },
        {
          "output_type": "stream",
          "name": "stderr",
          "text": [
            "\rProcessing images:  57%|█████▋    | 727/1278 [07:25<04:38,  1.98it/s]"
          ]
        },
        {
          "output_type": "stream",
          "name": "stdout",
          "text": [
            "Inserted b9956c to <pinecone.index.Index object at 0x7ef6fd0335e0>\n"
          ]
        },
        {
          "output_type": "stream",
          "name": "stderr",
          "text": [
            "\rProcessing images:  57%|█████▋    | 727/1278 [07:26<05:38,  1.63it/s]\n"
          ]
        },
        {
          "output_type": "error",
          "ename": "OSError",
          "evalue": "ignored",
          "traceback": [
            "\u001b[0;31m---------------------------------------------------------------------------\u001b[0m",
            "\u001b[0;31mOSError\u001b[0m                                   Traceback (most recent call last)",
            "\u001b[0;32m<ipython-input-82-0adfa772a56a>\u001b[0m in \u001b[0;36m<cell line: 1>\u001b[0;34m()\u001b[0m\n\u001b[1;32m      3\u001b[0m         \u001b[0mreport\u001b[0m \u001b[0;34m=\u001b[0m \u001b[0mcreate_report\u001b[0m\u001b[0;34m(\u001b[0m\u001b[0mimage_case\u001b[0m\u001b[0;34m)\u001b[0m\u001b[0;34m\u001b[0m\u001b[0;34m\u001b[0m\u001b[0m\n\u001b[1;32m      4\u001b[0m         \u001b[0mdownload_path\u001b[0m \u001b[0;34m=\u001b[0m \u001b[0mimage_case\u001b[0m\u001b[0;34m[\u001b[0m\u001b[0;34m\"image_download_url\"\u001b[0m\u001b[0;34m]\u001b[0m\u001b[0;34m\u001b[0m\u001b[0;34m\u001b[0m\u001b[0m\n\u001b[0;32m----> 5\u001b[0;31m         \u001b[0mimage\u001b[0m \u001b[0;34m=\u001b[0m \u001b[0mdownload_image\u001b[0m\u001b[0;34m(\u001b[0m\u001b[0mdownload_path\u001b[0m\u001b[0;34m)\u001b[0m\u001b[0;34m\u001b[0m\u001b[0;34m\u001b[0m\u001b[0m\n\u001b[0m\u001b[1;32m      6\u001b[0m         \u001b[0mimg_to_vector_db\u001b[0m\u001b[0;34m(\u001b[0m\u001b[0mimg\u001b[0m\u001b[0;34m=\u001b[0m\u001b[0mimage\u001b[0m\u001b[0;34m,\u001b[0m \u001b[0mreport\u001b[0m\u001b[0;34m=\u001b[0m\u001b[0mreport\u001b[0m\u001b[0;34m,\u001b[0m \u001b[0mdownload_path\u001b[0m\u001b[0;34m=\u001b[0m\u001b[0mdownload_path\u001b[0m\u001b[0;34m)\u001b[0m\u001b[0;34m\u001b[0m\u001b[0;34m\u001b[0m\u001b[0m\n\u001b[1;32m      7\u001b[0m     \u001b[0;32mexcept\u001b[0m \u001b[0mUnidentifiedImageError\u001b[0m\u001b[0;34m:\u001b[0m\u001b[0;34m\u001b[0m\u001b[0;34m\u001b[0m\u001b[0m\n",
            "\u001b[0;32m<ipython-input-80-194b385c0186>\u001b[0m in \u001b[0;36mdownload_image\u001b[0;34m(url)\u001b[0m\n\u001b[1;32m     55\u001b[0m \u001b[0;32mdef\u001b[0m \u001b[0mdownload_image\u001b[0m\u001b[0;34m(\u001b[0m\u001b[0murl\u001b[0m\u001b[0;34m)\u001b[0m\u001b[0;34m:\u001b[0m\u001b[0;34m\u001b[0m\u001b[0;34m\u001b[0m\u001b[0m\n\u001b[1;32m     56\u001b[0m     \u001b[0mresponse\u001b[0m \u001b[0;34m=\u001b[0m \u001b[0mrequests\u001b[0m\u001b[0;34m.\u001b[0m\u001b[0mget\u001b[0m\u001b[0;34m(\u001b[0m\u001b[0murl\u001b[0m\u001b[0;34m)\u001b[0m\u001b[0;34m\u001b[0m\u001b[0;34m\u001b[0m\u001b[0m\n\u001b[0;32m---> 57\u001b[0;31m     \u001b[0mimg\u001b[0m \u001b[0;34m=\u001b[0m \u001b[0mImage\u001b[0m\u001b[0;34m.\u001b[0m\u001b[0mopen\u001b[0m\u001b[0;34m(\u001b[0m\u001b[0mBytesIO\u001b[0m\u001b[0;34m(\u001b[0m\u001b[0mresponse\u001b[0m\u001b[0;34m.\u001b[0m\u001b[0mcontent\u001b[0m\u001b[0;34m)\u001b[0m\u001b[0;34m)\u001b[0m\u001b[0;34m.\u001b[0m\u001b[0mconvert\u001b[0m\u001b[0;34m(\u001b[0m\u001b[0;34m\"RGB\"\u001b[0m\u001b[0;34m)\u001b[0m\u001b[0;34m\u001b[0m\u001b[0;34m\u001b[0m\u001b[0m\n\u001b[0m\u001b[1;32m     58\u001b[0m     \u001b[0;32mreturn\u001b[0m \u001b[0mimg\u001b[0m\u001b[0;34m\u001b[0m\u001b[0;34m\u001b[0m\u001b[0m\n\u001b[1;32m     59\u001b[0m \u001b[0;34m\u001b[0m\u001b[0m\n",
            "\u001b[0;32m/usr/local/lib/python3.10/dist-packages/PIL/Image.py\u001b[0m in \u001b[0;36mconvert\u001b[0;34m(self, mode, matrix, dither, palette, colors)\u001b[0m\n\u001b[1;32m    935\u001b[0m         \"\"\"\n\u001b[1;32m    936\u001b[0m \u001b[0;34m\u001b[0m\u001b[0m\n\u001b[0;32m--> 937\u001b[0;31m         \u001b[0mself\u001b[0m\u001b[0;34m.\u001b[0m\u001b[0mload\u001b[0m\u001b[0;34m(\u001b[0m\u001b[0;34m)\u001b[0m\u001b[0;34m\u001b[0m\u001b[0;34m\u001b[0m\u001b[0m\n\u001b[0m\u001b[1;32m    938\u001b[0m \u001b[0;34m\u001b[0m\u001b[0m\n\u001b[1;32m    939\u001b[0m         \u001b[0mhas_transparency\u001b[0m \u001b[0;34m=\u001b[0m \u001b[0mself\u001b[0m\u001b[0;34m.\u001b[0m\u001b[0minfo\u001b[0m\u001b[0;34m.\u001b[0m\u001b[0mget\u001b[0m\u001b[0;34m(\u001b[0m\u001b[0;34m\"transparency\"\u001b[0m\u001b[0;34m)\u001b[0m \u001b[0;32mis\u001b[0m \u001b[0;32mnot\u001b[0m \u001b[0;32mNone\u001b[0m\u001b[0;34m\u001b[0m\u001b[0;34m\u001b[0m\u001b[0m\n",
            "\u001b[0;32m/usr/local/lib/python3.10/dist-packages/PIL/ImageFile.py\u001b[0m in \u001b[0;36mload\u001b[0;34m(self)\u001b[0m\n\u001b[1;32m    264\u001b[0m                                         \u001b[0;34mf\"({len(b)} bytes not processed)\"\u001b[0m\u001b[0;34m\u001b[0m\u001b[0;34m\u001b[0m\u001b[0m\n\u001b[1;32m    265\u001b[0m                                     )\n\u001b[0;32m--> 266\u001b[0;31m                                     \u001b[0;32mraise\u001b[0m \u001b[0mOSError\u001b[0m\u001b[0;34m(\u001b[0m\u001b[0mmsg\u001b[0m\u001b[0;34m)\u001b[0m\u001b[0;34m\u001b[0m\u001b[0;34m\u001b[0m\u001b[0m\n\u001b[0m\u001b[1;32m    267\u001b[0m \u001b[0;34m\u001b[0m\u001b[0m\n\u001b[1;32m    268\u001b[0m                             \u001b[0mb\u001b[0m \u001b[0;34m=\u001b[0m \u001b[0mb\u001b[0m \u001b[0;34m+\u001b[0m \u001b[0ms\u001b[0m\u001b[0;34m\u001b[0m\u001b[0;34m\u001b[0m\u001b[0m\n",
            "\u001b[0;31mOSError\u001b[0m: image file is truncated (2 bytes not processed)"
          ]
        }
      ]
    },
    {
      "cell_type": "code",
      "source": [
        "def predict(img_path):\n",
        "  embedding = compute_embedding(img_path)\n",
        "  response = index.query(\n",
        "    vector=embedding.flatten().tolist(),\n",
        "    top_k=3,\n",
        "    include_values=True,\n",
        "    include_metadata=True\n",
        "  )\n",
        "  return response\n"
      ],
      "metadata": {
        "id": "ZhjE-rFB9kTg"
      },
      "execution_count": null,
      "outputs": []
    },
    {
      "cell_type": "code",
      "source": [
        "img_path = \"/content/Chest Xray Dataset.png\"\n",
        "new_img = Image.open(img_path).convert(\"RGB\")\n",
        "\n",
        "result = predict(img_path=img_path)\n",
        "print(f\"ID: {result['matches'][0]['id']} | Similarity score: {round(result['matches'][0]['score'], 2)}\")\n",
        "print(f\"Report: {result['matches'][0]['metadata']['report']}\")\n",
        "new_img\n"
      ],
      "metadata": {
        "id": "_HDFHHwBw4EF"
      },
      "execution_count": null,
      "outputs": []
    },
    {
      "cell_type": "code",
      "source": [
        "result"
      ],
      "metadata": {
        "colab": {
          "base_uri": "https://localhost:8080/"
        },
        "id": "pIJbKiEi9kPE",
        "outputId": "88109843-b125-4c09-8f25-bebbc2f5a64f"
      },
      "execution_count": null,
      "outputs": [
        {
          "output_type": "execute_result",
          "data": {
            "text/plain": [
              "{'matches': [{'id': 'b52904',\n",
              "              'metadata': {'report': 'Rheumatic valvular heart disease. Gross '\n",
              "                                     'cardiomegaly with increased subcarinal '\n",
              "                                     'angle and double cardiac border, '\n",
              "                                     'suggesting left atrium enlargement.\\n'\n",
              "                                     'Bilateral CP angles are blunted? Mild '\n",
              "                                     'bilateral pleural effusion.'},\n",
              "              'score': 0.911326349,\n",
              "              'values': [0.642509699,\n",
              "                         2.62609768,\n",
              "                         -2.58366227,\n",
              "                         4.78221798,\n",
              "                         -4.28256798,\n",
              "                         0.0297071114,\n",
              "                         0.167398125,\n",
              "                         0.558124065,\n",
              "                         2.96692276,\n",
              "                         0.281901181,\n",
              "                         0.594820917,\n",
              "                         3.64164424,\n",
              "                         -1.72635543,\n",
              "                         2.18771505,\n",
              "                         4.48079967,\n",
              "                         -0.762422919,\n",
              "                         -2.60762191,\n",
              "                         -3.19919634,\n",
              "                         1.55876529,\n",
              "                         -1.34791911,\n",
              "                         0.819701076,\n",
              "                         -0.912347257,\n",
              "                         2.74399805,\n",
              "                         -0.333394349,\n",
              "                         0.952125371,\n",
              "                         0.22612533,\n",
              "                         0.803386748,\n",
              "                         2.15089297,\n",
              "                         -0.531300664,\n",
              "                         -0.625227,\n",
              "                         4.39866,\n",
              "                         0.0808249488,\n",
              "                         3.52709317,\n",
              "                         2.75166726,\n",
              "                         0.46083191,\n",
              "                         -3.67826891,\n",
              "                         -3.037328,\n",
              "                         -3.9915297,\n",
              "                         -4.3761735,\n",
              "                         0.117976449,\n",
              "                         -2.70054865,\n",
              "                         1.10910928,\n",
              "                         -2.84465241,\n",
              "                         3.88951087,\n",
              "                         -1.30203247,\n",
              "                         -2.91807961,\n",
              "                         -2.60291719,\n",
              "                         -2.12867594,\n",
              "                         0.567122281,\n",
              "                         -0.974583268,\n",
              "                         -3.08818293,\n",
              "                         -1.11958671,\n",
              "                         3.79656672,\n",
              "                         1.28049505,\n",
              "                         -1.51876736,\n",
              "                         -0.95959425,\n",
              "                         2.40897703,\n",
              "                         2.31522179,\n",
              "                         -2.29612875,\n",
              "                         1.37083805,\n",
              "                         -0.289177179,\n",
              "                         0.813777328,\n",
              "                         3.22420049,\n",
              "                         -0.0656008,\n",
              "                         -2.77955532,\n",
              "                         -2.07954812,\n",
              "                         3.28459764,\n",
              "                         -0.984213471,\n",
              "                         -0.363790512,\n",
              "                         2.00845194,\n",
              "                         -0.619328916,\n",
              "                         1.36471653,\n",
              "                         -0.491290778,\n",
              "                         -1.70796204,\n",
              "                         -0.97754842,\n",
              "                         -0.972920775,\n",
              "                         -2.31489372,\n",
              "                         0.922390461,\n",
              "                         3.84627128,\n",
              "                         0.0947649926,\n",
              "                         -0.121964432,\n",
              "                         -0.986662328,\n",
              "                         0.967398763,\n",
              "                         -3.00201654,\n",
              "                         0.888681173,\n",
              "                         2.14195371,\n",
              "                         -3.28155494,\n",
              "                         1.08897185,\n",
              "                         -1.52828431,\n",
              "                         3.20396662,\n",
              "                         0.232236177,\n",
              "                         4.00602961,\n",
              "                         -0.144995272,\n",
              "                         -1.54835045,\n",
              "                         4.31782961,\n",
              "                         -1.7835151,\n",
              "                         -4.44555,\n",
              "                         -1.17178595,\n",
              "                         -5.14436054,\n",
              "                         2.67017794,\n",
              "                         2.2856648,\n",
              "                         -0.443725288,\n",
              "                         -2.45029807,\n",
              "                         -0.136673331,\n",
              "                         6.23130512,\n",
              "                         0.170485556,\n",
              "                         -2.95680523,\n",
              "                         4.18479395,\n",
              "                         1.06695867,\n",
              "                         -1.30363107,\n",
              "                         -5.83204269,\n",
              "                         0.258984864,\n",
              "                         -1.71097064,\n",
              "                         -1.12868345,\n",
              "                         -1.05561614,\n",
              "                         -0.248303786,\n",
              "                         0.769885242,\n",
              "                         1.96245944,\n",
              "                         -6.32878685,\n",
              "                         -1.23631167,\n",
              "                         4.11438417,\n",
              "                         -1.64171934,\n",
              "                         3.05063319,\n",
              "                         -3.17086744,\n",
              "                         4.63189507,\n",
              "                         -0.555634558,\n",
              "                         -1.43513548,\n",
              "                         -1.67942107,\n",
              "                         -7.54185343,\n",
              "                         -1.86460662,\n",
              "                         -1.43454897,\n",
              "                         1.21235,\n",
              "                         2.08225083,\n",
              "                         -2.17495441,\n",
              "                         2.48586822,\n",
              "                         3.2203145,\n",
              "                         -4.44544029,\n",
              "                         -5.49644566,\n",
              "                         0.797907352,\n",
              "                         0.443953931,\n",
              "                         -0.73409766,\n",
              "                         1.65367103,\n",
              "                         -1.67286325,\n",
              "                         -1.22103274,\n",
              "                         -1.27946639,\n",
              "                         0.70473963,\n",
              "                         -0.312044233,\n",
              "                         2.30700088,\n",
              "                         3.71136379,\n",
              "                         2.3841157,\n",
              "                         -2.03915381,\n",
              "                         1.07933927,\n",
              "                         1.86397016,\n",
              "                         2.644696,\n",
              "                         1.54659557,\n",
              "                         -4.57404852,\n",
              "                         2.81407785,\n",
              "                         0.408738345,\n",
              "                         -0.0483722948,\n",
              "                         -0.0168014187,\n",
              "                         -3.70652342,\n",
              "                         0.439495444,\n",
              "                         0.444724888,\n",
              "                         -0.026459109,\n",
              "                         -0.85761863,\n",
              "                         1.22083402,\n",
              "                         1.30820954,\n",
              "                         -1.75329745,\n",
              "                         0.575363815,\n",
              "                         -1.67180014,\n",
              "                         2.40826845,\n",
              "                         -0.112590671,\n",
              "                         1.35598898,\n",
              "                         -2.09639692,\n",
              "                         -2.76630044,\n",
              "                         3.14394689,\n",
              "                         -0.552770555,\n",
              "                         2.49297452,\n",
              "                         1.5824585,\n",
              "                         1.8554194,\n",
              "                         1.32518089,\n",
              "                         0.857903481,\n",
              "                         1.83899808,\n",
              "                         1.28885651,\n",
              "                         -1.04263592,\n",
              "                         1.42463171,\n",
              "                         -1.17009342,\n",
              "                         -0.0676411316,\n",
              "                         1.48098254,\n",
              "                         -1.45389342,\n",
              "                         0.34401384,\n",
              "                         -3.6423285,\n",
              "                         -0.429268181,\n",
              "                         0.0512641147,\n",
              "                         -1.72750223,\n",
              "                         2.80010605,\n",
              "                         2.63792586,\n",
              "                         0.73737514,\n",
              "                         -2.29689741,\n",
              "                         -1.90591705,\n",
              "                         -5.85776186,\n",
              "                         0.219300359,\n",
              "                         -1.25469112,\n",
              "                         2.31641889,\n",
              "                         -2.28839469,\n",
              "                         5.1481061,\n",
              "                         1.87385321,\n",
              "                         -0.856583416,\n",
              "                         5.75058746,\n",
              "                         -0.490049541,\n",
              "                         -3.48180676,\n",
              "                         -1.4765799,\n",
              "                         0.526507676,\n",
              "                         0.854412735,\n",
              "                         -0.934955597,\n",
              "                         1.74232578,\n",
              "                         -0.0505579114,\n",
              "                         4.47985411,\n",
              "                         -1.52625644,\n",
              "                         1.88020861,\n",
              "                         3.86310244,\n",
              "                         4.27039957,\n",
              "                         -5.17299795,\n",
              "                         -1.81691062,\n",
              "                         -1.50155449,\n",
              "                         -1.4035449,\n",
              "                         -1.68746483,\n",
              "                         0.0916203111,\n",
              "                         3.16371942,\n",
              "                         -2.59455729,\n",
              "                         -2.80526686,\n",
              "                         3.15907645,\n",
              "                         -0.525455296,\n",
              "                         4.91357803,\n",
              "                         -0.425970107,\n",
              "                         3.65807223,\n",
              "                         1.63507354,\n",
              "                         0.406435221,\n",
              "                         0.448749632,\n",
              "                         1.49816668,\n",
              "                         0.934274495,\n",
              "                         1.14598286,\n",
              "                         -3.51029801,\n",
              "                         -0.41208306,\n",
              "                         1.52286518,\n",
              "                         0.867281079,\n",
              "                         0.53693825,\n",
              "                         -6.33470964,\n",
              "                         -3.08727455,\n",
              "                         3.57119298,\n",
              "                         0.55926156,\n",
              "                         2.466506,\n",
              "                         -0.258528799,\n",
              "                         -1.22027719,\n",
              "                         -1.89755499,\n",
              "                         1.63994169,\n",
              "                         3.40867376,\n",
              "                         0.824266553,\n",
              "                         2.8991015,\n",
              "                         -4.16662693,\n",
              "                         -0.83566469,\n",
              "                         1.36375606,\n",
              "                         2.18139529,\n",
              "                         1.06128478,\n",
              "                         1.32951009,\n",
              "                         2.26733,\n",
              "                         -3.39990687,\n",
              "                         -4.70713282,\n",
              "                         -1.50949836,\n",
              "                         1.93765163,\n",
              "                         -1.44103193,\n",
              "                         -2.53806949,\n",
              "                         -0.644066215,\n",
              "                         3.98555326,\n",
              "                         -2.62597871,\n",
              "                         -0.751343429,\n",
              "                         -2.41473389,\n",
              "                         0.287784427,\n",
              "                         0.134943843,\n",
              "                         0.446222216,\n",
              "                         -2.53396273,\n",
              "                         0.858800948,\n",
              "                         5.74526358,\n",
              "                         -1.06168723,\n",
              "                         -3.56027937,\n",
              "                         5.7692852,\n",
              "                         -1.99772823,\n",
              "                         3.01055837,\n",
              "                         1.50866091,\n",
              "                         -2.48030782,\n",
              "                         -2.35335,\n",
              "                         0.497229874,\n",
              "                         1.14513421,\n",
              "                         -4.5252738,\n",
              "                         -4.78929949,\n",
              "                         1.84615898,\n",
              "                         -0.562245488,\n",
              "                         4.15155792,\n",
              "                         0.671812594,\n",
              "                         -3.26066184,\n",
              "                         0.316706896,\n",
              "                         -1.04565704,\n",
              "                         -2.29016089,\n",
              "                         0.132735148,\n",
              "                         -1.1616745,\n",
              "                         0.593102276,\n",
              "                         4.30300283,\n",
              "                         0.5502882,\n",
              "                         4.73110771,\n",
              "                         0.477184236,\n",
              "                         0.012902162,\n",
              "                         0.949641168,\n",
              "                         1.3222748,\n",
              "                         2.9265914,\n",
              "                         4.35178852,\n",
              "                         1.58560038,\n",
              "                         -1.98083425,\n",
              "                         1.1065191,\n",
              "                         -1.98242056,\n",
              "                         0.888437212,\n",
              "                         1.28951263,\n",
              "                         -2.0985918,\n",
              "                         -0.453349322,\n",
              "                         1.43864465,\n",
              "                         -3.32221889,\n",
              "                         -2.37563872,\n",
              "                         0.854598403,\n",
              "                         0.613017619,\n",
              "                         -2.66055799,\n",
              "                         2.09655261,\n",
              "                         -5.36960649,\n",
              "                         0.713613331,\n",
              "                         -0.278847843,\n",
              "                         -0.135018498,\n",
              "                         1.50930882,\n",
              "                         -5.25747299,\n",
              "                         -0.182941824,\n",
              "                         4.47073889,\n",
              "                         -0.522739947,\n",
              "                         1.34998941,\n",
              "                         1.81973958,\n",
              "                         -3.84965849,\n",
              "                         -2.34475732,\n",
              "                         2.46258926,\n",
              "                         0.351483047,\n",
              "                         3.2844255,\n",
              "                         1.49435103,\n",
              "                         -0.0520580187,\n",
              "                         2.75966144,\n",
              "                         -1.00603151,\n",
              "                         -0.568044066,\n",
              "                         1.01742136,\n",
              "                         -6.81825161,\n",
              "                         -0.424958706,\n",
              "                         -5.08598042,\n",
              "                         0.200635433,\n",
              "                         3.2372725,\n",
              "                         1.12036932,\n",
              "                         4.13808298,\n",
              "                         1.81546259,\n",
              "                         -1.96037543,\n",
              "                         -2.56257558,\n",
              "                         -1.63369536,\n",
              "                         0.841955543,\n",
              "                         -2.4912405,\n",
              "                         1.48599088,\n",
              "                         -4.15077925,\n",
              "                         3.56211758,\n",
              "                         -0.604468524,\n",
              "                         -0.836145222,\n",
              "                         1.03518343,\n",
              "                         2.84499836,\n",
              "                         1.06468093,\n",
              "                         0.507624447,\n",
              "                         2.61147094,\n",
              "                         -3.28899312,\n",
              "                         -0.0937254205,\n",
              "                         -0.818311691,\n",
              "                         2.75431633,\n",
              "                         -0.871247709,\n",
              "                         1.54894853,\n",
              "                         -1.50967813,\n",
              "                         -3.23899484,\n",
              "                         2.64675617,\n",
              "                         0.0,\n",
              "                         0.0,\n",
              "                         0.0,\n",
              "                         0.0,\n",
              "                         0.0,\n",
              "                         0.0,\n",
              "                         0.0,\n",
              "                         0.0,\n",
              "                         0.0,\n",
              "                         0.0,\n",
              "                         0.0,\n",
              "                         0.0,\n",
              "                         0.0,\n",
              "                         0.0,\n",
              "                         0.0,\n",
              "                         0.0,\n",
              "                         0.0,\n",
              "                         0.0,\n",
              "                         0.0,\n",
              "                         0.0,\n",
              "                         0.0,\n",
              "                         0.0,\n",
              "                         0.0,\n",
              "                         0.0,\n",
              "                         0.0,\n",
              "                         0.0,\n",
              "                         0.0,\n",
              "                         0.0,\n",
              "                         0.0,\n",
              "                         0.0,\n",
              "                         0.0,\n",
              "                         0.0,\n",
              "                         0.0,\n",
              "                         0.0,\n",
              "                         0.0,\n",
              "                         0.0,\n",
              "                         0.0,\n",
              "                         0.0,\n",
              "                         0.0,\n",
              "                         0.0,\n",
              "                         0.0,\n",
              "                         0.0,\n",
              "                         0.0,\n",
              "                         0.0,\n",
              "                         0.0,\n",
              "                         0.0,\n",
              "                         0.0,\n",
              "                         0.0,\n",
              "                         0.0,\n",
              "                         0.0,\n",
              "                         0.0,\n",
              "                         0.0,\n",
              "                         0.0,\n",
              "                         0.0,\n",
              "                         0.0,\n",
              "                         0.0,\n",
              "                         0.0,\n",
              "                         0.0,\n",
              "                         0.0,\n",
              "                         0.0,\n",
              "                         0.0,\n",
              "                         0.0,\n",
              "                         0.0,\n",
              "                         0.0,\n",
              "                         0.0,\n",
              "                         0.0,\n",
              "                         0.0,\n",
              "                         0.0,\n",
              "                         0.0,\n",
              "                         0.0,\n",
              "                         0.0,\n",
              "                         0.0,\n",
              "                         0.0,\n",
              "                         0.0,\n",
              "                         0.0,\n",
              "                         0.0,\n",
              "                         0.0,\n",
              "                         0.0,\n",
              "                         0.0,\n",
              "                         0.0,\n",
              "                         0.0,\n",
              "                         0.0,\n",
              "                         0.0,\n",
              "                         0.0,\n",
              "                         0.0,\n",
              "                         0.0,\n",
              "                         0.0,\n",
              "                         0.0,\n",
              "                         0.0,\n",
              "                         0.0,\n",
              "                         0.0,\n",
              "                         0.0,\n",
              "                         0.0,\n",
              "                         0.0,\n",
              "                         0.0,\n",
              "                         0.0,\n",
              "                         0.0,\n",
              "                         0.0,\n",
              "                         0.0,\n",
              "                         0.0,\n",
              "                         0.0,\n",
              "                         0.0,\n",
              "                         0.0,\n",
              "                         0.0,\n",
              "                         0.0,\n",
              "                         0.0,\n",
              "                         0.0,\n",
              "                         0.0,\n",
              "                         0.0,\n",
              "                         0.0,\n",
              "                         0.0,\n",
              "                         0.0,\n",
              "                         0.0,\n",
              "                         0.0,\n",
              "                         0.0,\n",
              "                         0.0,\n",
              "                         0.0,\n",
              "                         0.0,\n",
              "                         0.0,\n",
              "                         0.0,\n",
              "                         0.0,\n",
              "                         0.0,\n",
              "                         0.0,\n",
              "                         0.0,\n",
              "                         0.0,\n",
              "                         0.0,\n",
              "                         0.0,\n",
              "                         0.0]},\n",
              "             {'id': '92288a',\n",
              "              'metadata': {'report': '\"Situs inversus. Situs inversus, '\n",
              "                                     'otherwise negative.'},\n",
              "              'score': 0.90696162,\n",
              "              'values': [0.811150253,\n",
              "                         2.91351271,\n",
              "                         -1.47224677,\n",
              "                         6.22658396,\n",
              "                         -4.21668482,\n",
              "                         -0.187741369,\n",
              "                         -0.488513619,\n",
              "                         1.1431253,\n",
              "                         2.30767369,\n",
              "                         -0.271918625,\n",
              "                         1.03858781,\n",
              "                         2.29372549,\n",
              "                         -1.05643451,\n",
              "                         3.21685839,\n",
              "                         5.06195116,\n",
              "                         1.95261919,\n",
              "                         -3.21151376,\n",
              "                         -3.73695087,\n",
              "                         0.668583,\n",
              "                         -1.41148341,\n",
              "                         0.387876928,\n",
              "                         -1.50769413,\n",
              "                         2.79604626,\n",
              "                         0.0294377767,\n",
              "                         -0.193194985,\n",
              "                         0.884142339,\n",
              "                         0.589026213,\n",
              "                         2.83607697,\n",
              "                         -0.971482456,\n",
              "                         0.141557157,\n",
              "                         4.71038055,\n",
              "                         -0.441024542,\n",
              "                         2.0234015,\n",
              "                         3.7717309,\n",
              "                         0.49075,\n",
              "                         -4.20309687,\n",
              "                         -2.83912849,\n",
              "                         -4.04690838,\n",
              "                         -5.27746868,\n",
              "                         0.256410807,\n",
              "                         -2.24427795,\n",
              "                         1.60387135,\n",
              "                         -3.08010745,\n",
              "                         4.2402668,\n",
              "                         -1.08354366,\n",
              "                         -2.58571839,\n",
              "                         -2.08113766,\n",
              "                         -2.10496783,\n",
              "                         -0.086556904,\n",
              "                         -1.13784063,\n",
              "                         -2.47379827,\n",
              "                         -1.44573188,\n",
              "                         2.78372288,\n",
              "                         1.25345182,\n",
              "                         -0.78241092,\n",
              "                         -0.412662387,\n",
              "                         3.39080119,\n",
              "                         1.47196496,\n",
              "                         -3.03734422,\n",
              "                         1.01845121,\n",
              "                         0.911231101,\n",
              "                         0.135109961,\n",
              "                         2.5240078,\n",
              "                         -0.450372517,\n",
              "                         -2.53467274,\n",
              "                         -3.59447408,\n",
              "                         1.86378205,\n",
              "                         -1.33583927,\n",
              "                         -1.06309986,\n",
              "                         1.35104895,\n",
              "                         -0.639705598,\n",
              "                         2.03983355,\n",
              "                         -0.131019637,\n",
              "                         -2.3517344,\n",
              "                         -0.943781793,\n",
              "                         -0.120837145,\n",
              "                         -2.69424295,\n",
              "                         0.419272065,\n",
              "                         4.62611723,\n",
              "                         -0.0914216489,\n",
              "                         -0.857016206,\n",
              "                         -0.494863391,\n",
              "                         -0.248598903,\n",
              "                         -3.49780893,\n",
              "                         2.33404446,\n",
              "                         2.29029584,\n",
              "                         -2.4310329,\n",
              "                         1.5442661,\n",
              "                         -2.01944971,\n",
              "                         3.02332044,\n",
              "                         -0.180308491,\n",
              "                         3.79117346,\n",
              "                         0.12787208,\n",
              "                         -1.02236211,\n",
              "                         4.33961391,\n",
              "                         -1.40920877,\n",
              "                         -3.9822576,\n",
              "                         -1.02033484,\n",
              "                         -5.79371595,\n",
              "                         3.26312399,\n",
              "                         1.35714209,\n",
              "                         0.854447961,\n",
              "                         -1.97433686,\n",
              "                         -0.211521387,\n",
              "                         5.31026411,\n",
              "                         -0.161396861,\n",
              "                         -2.55087233,\n",
              "                         5.33649445,\n",
              "                         2.10753417,\n",
              "                         -0.0722493157,\n",
              "                         -4.99537563,\n",
              "                         -0.155560657,\n",
              "                         -1.33994317,\n",
              "                         -0.273692578,\n",
              "                         -0.526242137,\n",
              "                         -0.530725718,\n",
              "                         1.62766588,\n",
              "                         1.80957651,\n",
              "                         -7.08736658,\n",
              "                         -1.67308664,\n",
              "                         4.01824808,\n",
              "                         -1.23610079,\n",
              "                         2.00414205,\n",
              "                         -2.77847338,\n",
              "                         2.83223057,\n",
              "                         -0.00408127485,\n",
              "                         -1.26306236,\n",
              "                         -1.38771164,\n",
              "                         -8.14397812,\n",
              "                         -1.44093871,\n",
              "                         -2.58131146,\n",
              "                         0.990667939,\n",
              "                         2.34712505,\n",
              "                         -0.869230211,\n",
              "                         2.31107736,\n",
              "                         2.79038215,\n",
              "                         -5.70736742,\n",
              "                         -4.5048008,\n",
              "                         1.37754703,\n",
              "                         1.30504739,\n",
              "                         0.510956287,\n",
              "                         0.395758837,\n",
              "                         -1.13253725,\n",
              "                         -0.238930658,\n",
              "                         -0.70559442,\n",
              "                         0.0974669531,\n",
              "                         -0.0104677789,\n",
              "                         2.43714786,\n",
              "                         3.10094905,\n",
              "                         2.54156208,\n",
              "                         -2.4118607,\n",
              "                         2.07179403,\n",
              "                         2.42830873,\n",
              "                         2.44622016,\n",
              "                         2.36414433,\n",
              "                         -4.82038,\n",
              "                         1.49851644,\n",
              "                         1.42839491,\n",
              "                         -0.452707529,\n",
              "                         -1.74697185,\n",
              "                         -4.17247438,\n",
              "                         0.365152776,\n",
              "                         0.812675059,\n",
              "                         0.0714738742,\n",
              "                         -0.878801227,\n",
              "                         2.05252194,\n",
              "                         1.51171172,\n",
              "                         -1.49507868,\n",
              "                         -0.335484385,\n",
              "                         -1.41697645,\n",
              "                         1.88248968,\n",
              "                         -1.06699228,\n",
              "                         1.40074897,\n",
              "                         -3.13592482,\n",
              "                         -3.92601633,\n",
              "                         2.3544147,\n",
              "                         -0.236031026,\n",
              "                         3.24892974,\n",
              "                         1.58664989,\n",
              "                         1.94800186,\n",
              "                         0.474550784,\n",
              "                         0.727982104,\n",
              "                         0.70207268,\n",
              "                         1.13034964,\n",
              "                         -3.12160254,\n",
              "                         1.27641213,\n",
              "                         -0.6949175,\n",
              "                         0.27772525,\n",
              "                         2.28015542,\n",
              "                         -0.219936669,\n",
              "                         0.539259374,\n",
              "                         -3.17844963,\n",
              "                         -0.29253909,\n",
              "                         1.23708797,\n",
              "                         -1.7612201,\n",
              "                         3.36941767,\n",
              "                         2.01755857,\n",
              "                         0.356309325,\n",
              "                         -2.31870127,\n",
              "                         -1.73090291,\n",
              "                         -5.27436113,\n",
              "                         -0.55464232,\n",
              "                         -2.48530364,\n",
              "                         2.34114385,\n",
              "                         -3.63532305,\n",
              "                         5.0758872,\n",
              "                         2.64152288,\n",
              "                         -0.628854096,\n",
              "                         5.56960678,\n",
              "                         -1.33237088,\n",
              "                         -3.85389829,\n",
              "                         -1.19300902,\n",
              "                         0.826897681,\n",
              "                         0.977785885,\n",
              "                         -0.722494483,\n",
              "                         1.57475436,\n",
              "                         -0.207134172,\n",
              "                         2.94237399,\n",
              "                         -1.73946524,\n",
              "                         1.01277041,\n",
              "                         3.30602336,\n",
              "                         5.08415604,\n",
              "                         -3.72797656,\n",
              "                         -0.574979901,\n",
              "                         -2.15994573,\n",
              "                         -0.739625931,\n",
              "                         -0.668291569,\n",
              "                         -0.0275859702,\n",
              "                         3.88662076,\n",
              "                         -2.27264524,\n",
              "                         -1.59380853,\n",
              "                         2.79945874,\n",
              "                         -1.29256928,\n",
              "                         4.11160183,\n",
              "                         0.0486104749,\n",
              "                         3.14698315,\n",
              "                         1.234532,\n",
              "                         0.528204203,\n",
              "                         0.290352196,\n",
              "                         1.65329897,\n",
              "                         1.35074461,\n",
              "                         0.283333838,\n",
              "                         -2.41056705,\n",
              "                         0.155891448,\n",
              "                         1.37686741,\n",
              "                         -0.373581737,\n",
              "                         -0.0949955359,\n",
              "                         -5.80819273,\n",
              "                         -1.66875267,\n",
              "                         3.75112343,\n",
              "                         1.33586633,\n",
              "                         3.39061642,\n",
              "                         -0.294119835,\n",
              "                         -1.35663366,\n",
              "                         -1.66987872,\n",
              "                         0.564067304,\n",
              "                         4.40843916,\n",
              "                         0.509537816,\n",
              "                         3.11077356,\n",
              "                         -3.57964611,\n",
              "                         -0.172925353,\n",
              "                         1.63491678,\n",
              "                         3.43142605,\n",
              "                         0.990746081,\n",
              "                         1.12768316,\n",
              "                         2.92329121,\n",
              "                         -2.6352551,\n",
              "                         -5.4189229,\n",
              "                         -1.76934326,\n",
              "                         2.31579924,\n",
              "                         -2.84418368,\n",
              "                         -1.513726,\n",
              "                         -1.5392772,\n",
              "                         3.59116435,\n",
              "                         -2.12390661,\n",
              "                         0.106342606,\n",
              "                         -2.86833405,\n",
              "                         -1.45219052,\n",
              "                         0.60748136,\n",
              "                         0.270257473,\n",
              "                         -1.09748971,\n",
              "                         0.98761344,\n",
              "                         4.69792843,\n",
              "                         -1.15951407,\n",
              "                         -3.3812592,\n",
              "                         4.64720249,\n",
              "                         -1.44483674,\n",
              "                         2.48952746,\n",
              "                         1.25573158,\n",
              "                         -2.79858565,\n",
              "                         -2.98594809,\n",
              "                         -0.593587697,\n",
              "                         0.658443689,\n",
              "                         -4.86210251,\n",
              "                         -4.02800798,\n",
              "                         1.8968569,\n",
              "                         -0.622028172,\n",
              "                         3.47386265,\n",
              "                         1.61160135,\n",
              "                         -3.7652874,\n",
              "                         0.58207649,\n",
              "                         -0.00571043603,\n",
              "                         -3.51646781,\n",
              "                         1.26128376,\n",
              "                         -0.70264715,\n",
              "                         0.76511091,\n",
              "                         3.2316339,\n",
              "                         1.15001142,\n",
              "                         4.16388226,\n",
              "                         0.81976819,\n",
              "                         1.28353691,\n",
              "                         0.973179221,\n",
              "                         -0.0426856168,\n",
              "                         2.67534781,\n",
              "                         4.1381259,\n",
              "                         2.0726738,\n",
              "                         -1.67552388,\n",
              "                         1.22402632,\n",
              "                         -2.24484,\n",
              "                         1.18253601,\n",
              "                         0.909689128,\n",
              "                         -1.0519712,\n",
              "                         -0.674412429,\n",
              "                         2.03595543,\n",
              "                         -3.16687298,\n",
              "                         -2.20387697,\n",
              "                         0.187062085,\n",
              "                         1.50269377,\n",
              "                         -2.62439656,\n",
              "                         2.58209062,\n",
              "                         -6.36778831,\n",
              "                         0.450667173,\n",
              "                         -0.221756428,\n",
              "                         -0.864384949,\n",
              "                         2.15378857,\n",
              "                         -5.45033073,\n",
              "                         0.140157357,\n",
              "                         4.77431536,\n",
              "                         -1.60870802,\n",
              "                         1.31131518,\n",
              "                         2.21094728,\n",
              "                         -4.75306845,\n",
              "                         -3.06390667,\n",
              "                         1.6991632,\n",
              "                         -0.358339101,\n",
              "                         2.8624661,\n",
              "                         1.48278356,\n",
              "                         -0.348545,\n",
              "                         1.44743705,\n",
              "                         -0.244597375,\n",
              "                         -1.31001186,\n",
              "                         0.352032036,\n",
              "                         -6.59961891,\n",
              "                         -0.886342108,\n",
              "                         -3.35035801,\n",
              "                         -0.12172585,\n",
              "                         3.77469897,\n",
              "                         0.525724053,\n",
              "                         3.66130137,\n",
              "                         2.11921597,\n",
              "                         -2.17860532,\n",
              "                         -2.18895459,\n",
              "                         -0.676978469,\n",
              "                         1.07254565,\n",
              "                         -2.04108858,\n",
              "                         1.34037948,\n",
              "                         -4.13937521,\n",
              "                         3.76028538,\n",
              "                         -1.6993,\n",
              "                         -0.800858498,\n",
              "                         1.57381678,\n",
              "                         3.10932517,\n",
              "                         0.979810536,\n",
              "                         0.0130546438,\n",
              "                         2.38655639,\n",
              "                         -3.3607769,\n",
              "                         -0.00500462484,\n",
              "                         -2.49812722,\n",
              "                         2.67933249,\n",
              "                         -1.36539185,\n",
              "                         1.01026034,\n",
              "                         -1.06096053,\n",
              "                         -3.42095733,\n",
              "                         2.93389988,\n",
              "                         0.0,\n",
              "                         0.0,\n",
              "                         0.0,\n",
              "                         0.0,\n",
              "                         0.0,\n",
              "                         0.0,\n",
              "                         0.0,\n",
              "                         0.0,\n",
              "                         0.0,\n",
              "                         0.0,\n",
              "                         0.0,\n",
              "                         0.0,\n",
              "                         0.0,\n",
              "                         0.0,\n",
              "                         0.0,\n",
              "                         0.0,\n",
              "                         0.0,\n",
              "                         0.0,\n",
              "                         0.0,\n",
              "                         0.0,\n",
              "                         0.0,\n",
              "                         0.0,\n",
              "                         0.0,\n",
              "                         0.0,\n",
              "                         0.0,\n",
              "                         0.0,\n",
              "                         0.0,\n",
              "                         0.0,\n",
              "                         0.0,\n",
              "                         0.0,\n",
              "                         0.0,\n",
              "                         0.0,\n",
              "                         0.0,\n",
              "                         0.0,\n",
              "                         0.0,\n",
              "                         0.0,\n",
              "                         0.0,\n",
              "                         0.0,\n",
              "                         0.0,\n",
              "                         0.0,\n",
              "                         0.0,\n",
              "                         0.0,\n",
              "                         0.0,\n",
              "                         0.0,\n",
              "                         0.0,\n",
              "                         0.0,\n",
              "                         0.0,\n",
              "                         0.0,\n",
              "                         0.0,\n",
              "                         0.0,\n",
              "                         0.0,\n",
              "                         0.0,\n",
              "                         0.0,\n",
              "                         0.0,\n",
              "                         0.0,\n",
              "                         0.0,\n",
              "                         0.0,\n",
              "                         0.0,\n",
              "                         0.0,\n",
              "                         0.0,\n",
              "                         0.0,\n",
              "                         0.0,\n",
              "                         0.0,\n",
              "                         0.0,\n",
              "                         0.0,\n",
              "                         0.0,\n",
              "                         0.0,\n",
              "                         0.0,\n",
              "                         0.0,\n",
              "                         0.0,\n",
              "                         0.0,\n",
              "                         0.0,\n",
              "                         0.0,\n",
              "                         0.0,\n",
              "                         0.0,\n",
              "                         0.0,\n",
              "                         0.0,\n",
              "                         0.0,\n",
              "                         0.0,\n",
              "                         0.0,\n",
              "                         0.0,\n",
              "                         0.0,\n",
              "                         0.0,\n",
              "                         0.0,\n",
              "                         0.0,\n",
              "                         0.0,\n",
              "                         0.0,\n",
              "                         0.0,\n",
              "                         0.0,\n",
              "                         0.0,\n",
              "                         0.0,\n",
              "                         0.0,\n",
              "                         0.0,\n",
              "                         0.0,\n",
              "                         0.0,\n",
              "                         0.0,\n",
              "                         0.0,\n",
              "                         0.0,\n",
              "                         0.0,\n",
              "                         0.0,\n",
              "                         0.0,\n",
              "                         0.0,\n",
              "                         0.0,\n",
              "                         0.0,\n",
              "                         0.0,\n",
              "                         0.0,\n",
              "                         0.0,\n",
              "                         0.0,\n",
              "                         0.0,\n",
              "                         0.0,\n",
              "                         0.0,\n",
              "                         0.0,\n",
              "                         0.0,\n",
              "                         0.0,\n",
              "                         0.0,\n",
              "                         0.0,\n",
              "                         0.0,\n",
              "                         0.0,\n",
              "                         0.0,\n",
              "                         0.0,\n",
              "                         0.0,\n",
              "                         0.0,\n",
              "                         0.0,\n",
              "                         0.0,\n",
              "                         0.0,\n",
              "                         0.0,\n",
              "                         0.0,\n",
              "                         0.0]},\n",
              "             {'id': 'dcbbd6',\n",
              "              'metadata': {'report': 'Shotgun pellets. Plain radiograph '\n",
              "                                     'demonstrates numerous round opacities of '\n",
              "                                     'approximate size 2 mm over the left '\n",
              "                                     'hemithorax and shoulder.\\n'\n",
              "                                     'Similar opacities are also noted in the '\n",
              "                                     'upper aspect of right hemithorax and '\n",
              "                                     'left upper abdomen.'},\n",
              "              'score': 0.904614091,\n",
              "              'values': [0.844065845,\n",
              "                         2.90583539,\n",
              "                         -1.65147698,\n",
              "                         5.74234295,\n",
              "                         -3.08295202,\n",
              "                         -1.03235352,\n",
              "                         -1.22426498,\n",
              "                         2.13348365,\n",
              "                         2.32671547,\n",
              "                         1.50301433,\n",
              "                         -0.116221204,\n",
              "                         3.74273252,\n",
              "                         -2.57635593,\n",
              "                         1.67936409,\n",
              "                         4.77328634,\n",
              "                         1.44664693,\n",
              "                         -2.53517032,\n",
              "                         -3.39255428,\n",
              "                         -0.607563,\n",
              "                         -2.92015386,\n",
              "                         0.0340670943,\n",
              "                         -1.51614249,\n",
              "                         3.05699658,\n",
              "                         -0.604743421,\n",
              "                         0.675017118,\n",
              "                         -0.204944834,\n",
              "                         0.350083828,\n",
              "                         0.968069,\n",
              "                         -0.564368844,\n",
              "                         0.548150361,\n",
              "                         4.61713457,\n",
              "                         -0.409992784,\n",
              "                         1.96739531,\n",
              "                         3.31324935,\n",
              "                         2.37015176,\n",
              "                         -3.38321114,\n",
              "                         -3.48945832,\n",
              "                         -4.07600355,\n",
              "                         -5.61198044,\n",
              "                         -1.46594584,\n",
              "                         -1.23585892,\n",
              "                         0.925581813,\n",
              "                         -4.87858629,\n",
              "                         3.71989393,\n",
              "                         -0.150172859,\n",
              "                         -2.16624093,\n",
              "                         -2.30316257,\n",
              "                         -2.38392377,\n",
              "                         -1.10421228,\n",
              "                         -1.35073662,\n",
              "                         -2.64681816,\n",
              "                         -2.33123803,\n",
              "                         2.90552163,\n",
              "                         1.73645115,\n",
              "                         -1.76105952,\n",
              "                         -0.124701396,\n",
              "                         3.62166786,\n",
              "                         1.27754676,\n",
              "                         -2.05347705,\n",
              "                         0.710516334,\n",
              "                         0.603497326,\n",
              "                         0.100820467,\n",
              "                         3.35889435,\n",
              "                         -0.440636575,\n",
              "                         -1.71935546,\n",
              "                         -3.35317755,\n",
              "                         1.29126751,\n",
              "                         -0.918978095,\n",
              "                         -0.417688221,\n",
              "                         2.14225554,\n",
              "                         -0.29488942,\n",
              "                         0.968413055,\n",
              "                         -0.427091539,\n",
              "                         -3.29613471,\n",
              "                         0.0289515238,\n",
              "                         -1.00859404,\n",
              "                         -3.94223976,\n",
              "                         0.420888931,\n",
              "                         3.26713657,\n",
              "                         0.638516426,\n",
              "                         -0.335526675,\n",
              "                         0.576323271,\n",
              "                         -0.902969658,\n",
              "                         -3.38817477,\n",
              "                         2.13134933,\n",
              "                         1.40964556,\n",
              "                         -3.45882654,\n",
              "                         1.62442422,\n",
              "                         -3.4250524,\n",
              "                         1.76000059,\n",
              "                         0.430348128,\n",
              "                         2.81246376,\n",
              "                         1.71030033,\n",
              "                         -0.279167563,\n",
              "                         4.14414835,\n",
              "                         -1.38637316,\n",
              "                         -2.59677553,\n",
              "                         -0.853422821,\n",
              "                         -7.21485,\n",
              "                         3.31835771,\n",
              "                         2.75537848,\n",
              "                         1.43060756,\n",
              "                         -2.0588491,\n",
              "                         0.749976456,\n",
              "                         5.45365572,\n",
              "                         -0.381335706,\n",
              "                         -2.30741644,\n",
              "                         4.16731787,\n",
              "                         1.7924515,\n",
              "                         0.571510375,\n",
              "                         -3.99188352,\n",
              "                         0.571875811,\n",
              "                         -2.27196288,\n",
              "                         -0.135555655,\n",
              "                         -1.08764982,\n",
              "                         -1.5681175,\n",
              "                         1.27779257,\n",
              "                         1.06114376,\n",
              "                         -6.23523569,\n",
              "                         -1.333763,\n",
              "                         5.75904751,\n",
              "                         -2.42568517,\n",
              "                         1.07389188,\n",
              "                         -2.6132853,\n",
              "                         3.09142923,\n",
              "                         -1.13806796,\n",
              "                         -0.636137187,\n",
              "                         -1.6403352,\n",
              "                         -7.26263046,\n",
              "                         -2.20228624,\n",
              "                         -2.06288433,\n",
              "                         -0.667826533,\n",
              "                         0.308336,\n",
              "                         -2.00656152,\n",
              "                         3.12943625,\n",
              "                         2.69721222,\n",
              "                         -4.08737612,\n",
              "                         -5.74119091,\n",
              "                         1.71515131,\n",
              "                         2.27957797,\n",
              "                         0.627476752,\n",
              "                         0.0486435108,\n",
              "                         -0.677745342,\n",
              "                         0.718255937,\n",
              "                         -0.811708748,\n",
              "                         1.87350297,\n",
              "                         -0.217805728,\n",
              "                         2.23378873,\n",
              "                         2.75534105,\n",
              "                         2.81418633,\n",
              "                         -2.93419886,\n",
              "                         1.97374201,\n",
              "                         2.24440837,\n",
              "                         1.5133,\n",
              "                         -0.787272274,\n",
              "                         -3.40052056,\n",
              "                         3.2872324,\n",
              "                         0.872167826,\n",
              "                         0.1203418,\n",
              "                         -1.20151448,\n",
              "                         -3.49626541,\n",
              "                         1.39303052,\n",
              "                         1.2396692,\n",
              "                         0.831194937,\n",
              "                         -0.640688717,\n",
              "                         1.80294394,\n",
              "                         2.57626581,\n",
              "                         -0.630975544,\n",
              "                         -0.159330085,\n",
              "                         -0.231427431,\n",
              "                         2.10913014,\n",
              "                         -2.6636312,\n",
              "                         0.174167275,\n",
              "                         -1.79907107,\n",
              "                         -1.57350981,\n",
              "                         3.40268898,\n",
              "                         -0.418655157,\n",
              "                         4.68296289,\n",
              "                         2.30680442,\n",
              "                         2.64033246,\n",
              "                         1.87892604,\n",
              "                         0.261398494,\n",
              "                         0.486868411,\n",
              "                         0.178123295,\n",
              "                         -2.47802973,\n",
              "                         1.78790379,\n",
              "                         -1.79855311,\n",
              "                         -0.723568499,\n",
              "                         2.59411955,\n",
              "                         -0.508257449,\n",
              "                         0.474422574,\n",
              "                         -2.96164131,\n",
              "                         0.34973979,\n",
              "                         2.54358,\n",
              "                         -2.31102514,\n",
              "                         2.18041348,\n",
              "                         2.78232789,\n",
              "                         -0.00647162041,\n",
              "                         -1.50298047,\n",
              "                         -1.267802,\n",
              "                         -5.1183157,\n",
              "                         0.423979819,\n",
              "                         -1.11210144,\n",
              "                         2.93421888,\n",
              "                         -3.28056645,\n",
              "                         2.88519716,\n",
              "                         2.00252485,\n",
              "                         -0.962726355,\n",
              "                         5.00693655,\n",
              "                         -0.770653486,\n",
              "                         -4.52990818,\n",
              "                         -1.22190738,\n",
              "                         1.08255196,\n",
              "                         -1.3371942,\n",
              "                         -1.78647125,\n",
              "                         1.61727583,\n",
              "                         -0.859991908,\n",
              "                         3.84834576,\n",
              "                         -1.34764946,\n",
              "                         1.50061214,\n",
              "                         2.77246404,\n",
              "                         5.02327633,\n",
              "                         -2.39765334,\n",
              "                         0.493491739,\n",
              "                         -2.48336411,\n",
              "                         -1.65031135,\n",
              "                         -1.51076484,\n",
              "                         -0.0436571874,\n",
              "                         4.37155056,\n",
              "                         -1.62707448,\n",
              "                         -2.95559049,\n",
              "                         2.77451,\n",
              "                         -0.502968,\n",
              "                         2.88519168,\n",
              "                         -0.655858338,\n",
              "                         3.16147733,\n",
              "                         2.18945193,\n",
              "                         1.28415668,\n",
              "                         -0.180028915,\n",
              "                         2.49052072,\n",
              "                         2.05781937,\n",
              "                         1.12047732,\n",
              "                         -2.03069472,\n",
              "                         0.529530764,\n",
              "                         1.16371417,\n",
              "                         -0.289004147,\n",
              "                         1.29689515,\n",
              "                         -4.7741127,\n",
              "                         -1.91793978,\n",
              "                         2.62694526,\n",
              "                         1.54267406,\n",
              "                         3.68657351,\n",
              "                         0.0260173548,\n",
              "                         -0.255285561,\n",
              "                         -2.01584029,\n",
              "                         -0.667409837,\n",
              "                         3.66739345,\n",
              "                         1.76497686,\n",
              "                         2.81408119,\n",
              "                         -4.5876894,\n",
              "                         -0.315075427,\n",
              "                         1.50867033,\n",
              "                         2.14837217,\n",
              "                         2.23751855,\n",
              "                         0.549901,\n",
              "                         4.27179289,\n",
              "                         -3.2511344,\n",
              "                         -4.80478573,\n",
              "                         -1.49799907,\n",
              "                         4.66294098,\n",
              "                         -3.0259316,\n",
              "                         -2.26074314,\n",
              "                         -1.07394385,\n",
              "                         4.01959467,\n",
              "                         -2.04675651,\n",
              "                         0.724303842,\n",
              "                         -3.25020933,\n",
              "                         -1.90883768,\n",
              "                         0.521478593,\n",
              "                         1.52287316,\n",
              "                         -1.73936033,\n",
              "                         1.65560496,\n",
              "                         5.09975147,\n",
              "                         -0.345590621,\n",
              "                         -4.74884844,\n",
              "                         4.62934399,\n",
              "                         -0.0584396273,\n",
              "                         2.09724498,\n",
              "                         2.44921899,\n",
              "                         -2.2223022,\n",
              "                         -0.971389711,\n",
              "                         -0.196345329,\n",
              "                         2.77007437,\n",
              "                         -3.61141729,\n",
              "                         -4.26266432,\n",
              "                         2.19237614,\n",
              "                         -1.00975823,\n",
              "                         3.0834043,\n",
              "                         1.9380728,\n",
              "                         -3.77158117,\n",
              "                         -0.879849255,\n",
              "                         -0.792451,\n",
              "                         -4.39872932,\n",
              "                         1.38555551,\n",
              "                         -1.25474775,\n",
              "                         1.97550952,\n",
              "                         4.91457653,\n",
              "                         -0.66697377,\n",
              "                         1.91964579,\n",
              "                         1.00292897,\n",
              "                         -0.425845683,\n",
              "                         0.258256555,\n",
              "                         0.44924897,\n",
              "                         1.92459679,\n",
              "                         3.00693607,\n",
              "                         1.58215022,\n",
              "                         -0.858103693,\n",
              "                         0.805342,\n",
              "                         -3.06308722,\n",
              "                         0.270205081,\n",
              "                         0.926640153,\n",
              "                         -1.17063344,\n",
              "                         -0.330075473,\n",
              "                         1.15841377,\n",
              "                         -3.1067605,\n",
              "                         -1.7673136,\n",
              "                         1.28585374,\n",
              "                         0.784157932,\n",
              "                         -4.7854681,\n",
              "                         1.87513149,\n",
              "                         -5.90031385,\n",
              "                         1.68153167,\n",
              "                         -0.18917051,\n",
              "                         -0.42362076,\n",
              "                         1.51292729,\n",
              "                         -4.93458462,\n",
              "                         -0.637472451,\n",
              "                         4.90183,\n",
              "                         -2.62870216,\n",
              "                         1.80548668,\n",
              "                         2.18971324,\n",
              "                         -3.98861027,\n",
              "                         -3.84047294,\n",
              "                         1.01099443,\n",
              "                         -0.770572543,\n",
              "                         3.01661563,\n",
              "                         1.43302679,\n",
              "                         -1.50930238,\n",
              "                         2.65979457,\n",
              "                         -0.924290955,\n",
              "                         -0.405914754,\n",
              "                         1.88610363,\n",
              "                         -6.23384094,\n",
              "                         0.233409852,\n",
              "                         -4.23727322,\n",
              "                         -0.0420805439,\n",
              "                         3.17420769,\n",
              "                         -1.26324701,\n",
              "                         3.28801847,\n",
              "                         3.55117655,\n",
              "                         -2.69387197,\n",
              "                         -3.80418038,\n",
              "                         -0.739924431,\n",
              "                         0.504206181,\n",
              "                         -2.59582543,\n",
              "                         0.467674673,\n",
              "                         -3.31931448,\n",
              "                         3.32242799,\n",
              "                         -0.953814209,\n",
              "                         -0.377328277,\n",
              "                         1.05270457,\n",
              "                         1.06266,\n",
              "                         1.44389927,\n",
              "                         -0.876612306,\n",
              "                         2.69808,\n",
              "                         -2.23053885,\n",
              "                         -0.390845239,\n",
              "                         -2.53499293,\n",
              "                         2.12364936,\n",
              "                         -0.466807753,\n",
              "                         1.95426345,\n",
              "                         0.88894254,\n",
              "                         -3.68070102,\n",
              "                         3.09883785,\n",
              "                         0.0,\n",
              "                         0.0,\n",
              "                         0.0,\n",
              "                         0.0,\n",
              "                         0.0,\n",
              "                         0.0,\n",
              "                         0.0,\n",
              "                         0.0,\n",
              "                         0.0,\n",
              "                         0.0,\n",
              "                         0.0,\n",
              "                         0.0,\n",
              "                         0.0,\n",
              "                         0.0,\n",
              "                         0.0,\n",
              "                         0.0,\n",
              "                         0.0,\n",
              "                         0.0,\n",
              "                         0.0,\n",
              "                         0.0,\n",
              "                         0.0,\n",
              "                         0.0,\n",
              "                         0.0,\n",
              "                         0.0,\n",
              "                         0.0,\n",
              "                         0.0,\n",
              "                         0.0,\n",
              "                         0.0,\n",
              "                         0.0,\n",
              "                         0.0,\n",
              "                         0.0,\n",
              "                         0.0,\n",
              "                         0.0,\n",
              "                         0.0,\n",
              "                         0.0,\n",
              "                         0.0,\n",
              "                         0.0,\n",
              "                         0.0,\n",
              "                         0.0,\n",
              "                         0.0,\n",
              "                         0.0,\n",
              "                         0.0,\n",
              "                         0.0,\n",
              "                         0.0,\n",
              "                         0.0,\n",
              "                         0.0,\n",
              "                         0.0,\n",
              "                         0.0,\n",
              "                         0.0,\n",
              "                         0.0,\n",
              "                         0.0,\n",
              "                         0.0,\n",
              "                         0.0,\n",
              "                         0.0,\n",
              "                         0.0,\n",
              "                         0.0,\n",
              "                         0.0,\n",
              "                         0.0,\n",
              "                         0.0,\n",
              "                         0.0,\n",
              "                         0.0,\n",
              "                         0.0,\n",
              "                         0.0,\n",
              "                         0.0,\n",
              "                         0.0,\n",
              "                         0.0,\n",
              "                         0.0,\n",
              "                         0.0,\n",
              "                         0.0,\n",
              "                         0.0,\n",
              "                         0.0,\n",
              "                         0.0,\n",
              "                         0.0,\n",
              "                         0.0,\n",
              "                         0.0,\n",
              "                         0.0,\n",
              "                         0.0,\n",
              "                         0.0,\n",
              "                         0.0,\n",
              "                         0.0,\n",
              "                         0.0,\n",
              "                         0.0,\n",
              "                         0.0,\n",
              "                         0.0,\n",
              "                         0.0,\n",
              "                         0.0,\n",
              "                         0.0,\n",
              "                         0.0,\n",
              "                         0.0,\n",
              "                         0.0,\n",
              "                         0.0,\n",
              "                         0.0,\n",
              "                         0.0,\n",
              "                         0.0,\n",
              "                         0.0,\n",
              "                         0.0,\n",
              "                         0.0,\n",
              "                         0.0,\n",
              "                         0.0,\n",
              "                         0.0,\n",
              "                         0.0,\n",
              "                         0.0,\n",
              "                         0.0,\n",
              "                         0.0,\n",
              "                         0.0,\n",
              "                         0.0,\n",
              "                         0.0,\n",
              "                         0.0,\n",
              "                         0.0,\n",
              "                         0.0,\n",
              "                         0.0,\n",
              "                         0.0,\n",
              "                         0.0,\n",
              "                         0.0,\n",
              "                         0.0,\n",
              "                         0.0,\n",
              "                         0.0,\n",
              "                         0.0,\n",
              "                         0.0,\n",
              "                         0.0,\n",
              "                         0.0,\n",
              "                         0.0,\n",
              "                         0.0,\n",
              "                         0.0,\n",
              "                         0.0,\n",
              "                         0.0,\n",
              "                         0.0,\n",
              "                         0.0]}],\n",
              " 'namespace': ''}"
            ]
          },
          "metadata": {},
          "execution_count": 211
        }
      ]
    }
  ],
  "metadata": {
    "kernelspec": {
      "display_name": "Python 3.11.4 ('pinecone')",
      "language": "python",
      "name": "python3"
    },
    "language_info": {
      "codemirror_mode": {
        "name": "ipython",
        "version": 3
      },
      "file_extension": ".py",
      "mimetype": "text/x-python",
      "name": "python",
      "nbconvert_exporter": "python",
      "pygments_lexer": "ipython3",
      "version": "3.11.4"
    },
    "vscode": {
      "interpreter": {
        "hash": "dca7483004d9e741e0130c54b13a5e71cb8ca3ee96cdf35ae0d31eba97f8b727"
      }
    },
    "colab": {
      "provenance": []
    }
  },
  "nbformat": 4,
  "nbformat_minor": 0
}